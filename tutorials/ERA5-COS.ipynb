{
 "cells": [
  {
   "cell_type": "markdown",
   "id": "8afd7a90",
   "metadata": {},
   "source": [
    "# Exploring \"ERA5\" using tensorlakehouse\n",
    "\n",
    "### Data description\n",
    "* Collection/dataset:\"ERA5\"\n",
    "* Data Source: Geotiff on Cloud Object Store (COS) \n",
    "\n",
    "### Functionalities\n",
    "* tensorlakehouse (openEO) functionalities:\n",
    "    - describe collection\n",
    "    - load collection\n",
    "\n",
    "### Setup\n",
    "\n",
    "1. Create a python virtualenv (python 3.11.7 is the recommended version). \n",
    "2. Clone the repository:\n",
    "```\n",
    "git clone https://github.com/IBM/tensorlakehouse-openeo-driver.git\n",
    "``` \n",
    "\n",
    "3. Go to\n",
    "```\n",
    "cd tensorlakehouse-openeo-driver/tutorials\n",
    "```\n",
    "\n",
    "4. Install dependencies:\n",
    "```\n",
    "pip install -r tutorial_requirements.txt\n",
    "```\n",
    "\n",
    "5. Run jupyter notebook or jupyter lab\n",
    "```\n",
    "jupyter lab .\n",
    "```\n"
   ]
  },
  {
   "cell_type": "code",
   "execution_count": 1,
   "id": "43da536b",
   "metadata": {
    "tags": []
   },
   "outputs": [],
   "source": [
    "import rioxarray as rxr\n",
    "import os\n",
    "os.environ['USE_PYGEOS'] = '0'\n",
    "import matplotlib.pyplot as plt\n",
    "from pathlib import Path\n",
    "# openeo is a client-side implementation that allows users to query OpenEO service\n",
    "import openeo\n",
    "# pystac_client is a client-side implementation that allows users to query STAC service\n",
    "from pystac_client import Client\n",
    "# OpenEO service URL\n",
    "import os\n",
    "from dotenv import load_dotenv\n",
    "import pandas as pd\n",
    "import xarray as xr\n",
    "from shapely.geometry import shape\n",
    "import geopandas\n",
    "import folium\n",
    "import time"
   ]
  },
  {
   "cell_type": "markdown",
   "id": "f6577cea",
   "metadata": {},
   "source": [
    "Set URL and credentials of the OpenEO service"
   ]
  },
  {
   "cell_type": "code",
   "execution_count": 2,
   "id": "7eefb974",
   "metadata": {
    "scrolled": true,
    "tags": []
   },
   "outputs": [],
   "source": [
    "# username and password are hardcoded in the backend as an example for testing\n",
    "load_dotenv()\n",
    "STAC_URL=\"https://stac-fastapi-pgstac-geospatial-be.apps.fmaas-backend.fmaas.res.ibm.com\"\n",
    "OPENEO_URL=\"https://tensorlakehouse-openeo-driver-geospatial-be.apps.fmaas-backend.fmaas.res.ibm.com\"\n",
    "OPENEO_AUTH_CLIENT_ID = os.environ[\"OPENEO_AUTH_CLIENT_ID\"]\n",
    "OPENEO_AUTH_CLIENT_SECRET = os.environ[\"OPENEO_AUTH_CLIENT_SECRET\"]\n",
    "APPID_USERNAME = os.environ[\"APPID_USERNAME\"]\n",
    "APPID_PASSWORD = os.environ[\"APPID_PASSWORD\"]\n",
    "\n",
    "# connect to tensorlakehouse\n",
    "tensorlakehouse_conn = openeo.connect(OPENEO_URL).authenticate_oidc_resource_owner_password_credentials(\n",
    "username=APPID_USERNAME,\n",
    "password=APPID_PASSWORD,\n",
    "client_id=OPENEO_AUTH_CLIENT_ID,\n",
    "client_secret=OPENEO_AUTH_CLIENT_SECRET,\n",
    "provider_id=\"app_id\")\n",
    "\n",
    "catalog = Client.open(STAC_URL)"
   ]
  },
  {
   "cell_type": "markdown",
   "id": "5cfa7da8-92b3-4e30-a032-eff57f1c582a",
   "metadata": {},
   "source": [
    "### Setting input parameters: time range, area of interest, collection ID, filter"
   ]
  },
  {
   "cell_type": "code",
   "execution_count": 3,
   "id": "a0c7160a-80ff-4f29-a580-92980c110ebb",
   "metadata": {},
   "outputs": [],
   "source": [
    "# set time interval\n",
    "start ='2024-01-01T00:00:00Z'\n",
    "end = '2024-01-01T12:00:00Z'\n",
    "time_range = f\"{start}/{end}\"\n",
    "\n",
    "# set bounding box\n",
    "west = -1.0\n",
    "east = 0.0\n",
    "south = 51.0\n",
    "north = 52.0\n",
    "\n",
    "collection_id = \"ibm-eis-ga-1-era5-pr-wdc\"\n",
    "\n",
    "# create data dir to save files\n",
    "data_dir = Path(\"test_data\")\n",
    "if not data_dir.exists():\n",
    "    data_dir.mkdir()"
   ]
  },
  {
   "cell_type": "markdown",
   "id": "11826776-464c-4f7c-af5c-c9989c3f497b",
   "metadata": {},
   "source": [
    "### Searching STAC items "
   ]
  },
  {
   "cell_type": "code",
   "execution_count": 4,
   "id": "bfb9d24a-e0ff-410b-9cd9-0674d877334c",
   "metadata": {},
   "outputs": [
    {
     "name": "stdout",
     "output_type": "stream",
     "text": [
      "Searching collection_id='ibm-eis-ga-1-era5-pr-wdc' bbox=[-1.0, 51.0, 0.0, 52.0] datetime=2024-01-01T00:00:00Z/2024-01-01T12:00:00Z\n"
     ]
    },
    {
     "data": {
      "text/html": [
       "<div>\n",
       "<style scoped>\n",
       "    .dataframe tbody tr th:only-of-type {\n",
       "        vertical-align: middle;\n",
       "    }\n",
       "\n",
       "    .dataframe tbody tr th {\n",
       "        vertical-align: top;\n",
       "    }\n",
       "\n",
       "    .dataframe thead th {\n",
       "        text-align: right;\n",
       "    }\n",
       "</style>\n",
       "<table border=\"1\" class=\"dataframe\">\n",
       "  <thead>\n",
       "    <tr style=\"text-align: right;\">\n",
       "      <th></th>\n",
       "      <th>id</th>\n",
       "      <th>datetime</th>\n",
       "      <th>bands</th>\n",
       "      <th>geometry</th>\n",
       "    </tr>\n",
       "  </thead>\n",
       "  <tbody>\n",
       "    <tr>\n",
       "      <th>0</th>\n",
       "      <td>ERA5P_20240101T120000__ttrc_120000_0_0</td>\n",
       "      <td>2024-01-01 12:00:00+00:00</td>\n",
       "      <td>[ttrc]</td>\n",
       "      <td>POLYGON ((-180.00000 -90.00000, -180.00000 90....</td>\n",
       "    </tr>\n",
       "    <tr>\n",
       "      <th>1</th>\n",
       "      <td>ERA5P_20240101T120000__ttr_120000_0_0</td>\n",
       "      <td>2024-01-01 12:00:00+00:00</td>\n",
       "      <td>[ttr]</td>\n",
       "      <td>POLYGON ((-180.00000 -90.00000, -180.00000 90....</td>\n",
       "    </tr>\n",
       "    <tr>\n",
       "      <th>2</th>\n",
       "      <td>ERA5P_20240101T120000__tsrc_120000_0_0</td>\n",
       "      <td>2024-01-01 12:00:00+00:00</td>\n",
       "      <td>[tsrc]</td>\n",
       "      <td>POLYGON ((-180.00000 -90.00000, -180.00000 90....</td>\n",
       "    </tr>\n",
       "    <tr>\n",
       "      <th>3</th>\n",
       "      <td>ERA5P_20240101T120000__tsr_120000_0_0</td>\n",
       "      <td>2024-01-01 12:00:00+00:00</td>\n",
       "      <td>[tsr]</td>\n",
       "      <td>POLYGON ((-180.00000 -90.00000, -180.00000 90....</td>\n",
       "    </tr>\n",
       "    <tr>\n",
       "      <th>4</th>\n",
       "      <td>ERA5P_20240101T120000__tp_120000_0_0</td>\n",
       "      <td>2024-01-01 12:00:00+00:00</td>\n",
       "      <td>[tp]</td>\n",
       "      <td>POLYGON ((-180.00000 -90.00000, -180.00000 90....</td>\n",
       "    </tr>\n",
       "    <tr>\n",
       "      <th>...</th>\n",
       "      <td>...</td>\n",
       "      <td>...</td>\n",
       "      <td>...</td>\n",
       "      <td>...</td>\n",
       "    </tr>\n",
       "    <tr>\n",
       "      <th>619</th>\n",
       "      <td>ERA5P_20240101T000000__10v_000000_0_0</td>\n",
       "      <td>2024-01-01 00:00:00+00:00</td>\n",
       "      <td>[10v]</td>\n",
       "      <td>POLYGON ((-180.00000 -90.00000, -180.00000 90....</td>\n",
       "    </tr>\n",
       "    <tr>\n",
       "      <th>620</th>\n",
       "      <td>ERA5P_20240101T000000__10u_000000_0_0</td>\n",
       "      <td>2024-01-01 00:00:00+00:00</td>\n",
       "      <td>[10u]</td>\n",
       "      <td>POLYGON ((-180.00000 -90.00000, -180.00000 90....</td>\n",
       "    </tr>\n",
       "    <tr>\n",
       "      <th>621</th>\n",
       "      <td>ERA5P_20240101T000000__10fg_000000_0_0</td>\n",
       "      <td>2024-01-01 00:00:00+00:00</td>\n",
       "      <td>[10fg]</td>\n",
       "      <td>POLYGON ((-180.00000 -90.00000, -180.00000 90....</td>\n",
       "    </tr>\n",
       "    <tr>\n",
       "      <th>622</th>\n",
       "      <td>ERA5P_20240101T000000__100v_000000_0_0</td>\n",
       "      <td>2024-01-01 00:00:00+00:00</td>\n",
       "      <td>[100v]</td>\n",
       "      <td>POLYGON ((-180.00000 -90.00000, -180.00000 90....</td>\n",
       "    </tr>\n",
       "    <tr>\n",
       "      <th>623</th>\n",
       "      <td>ERA5P_20240101T000000__100u_000000_0_0</td>\n",
       "      <td>2024-01-01 00:00:00+00:00</td>\n",
       "      <td>[100u]</td>\n",
       "      <td>POLYGON ((-180.00000 -90.00000, -180.00000 90....</td>\n",
       "    </tr>\n",
       "  </tbody>\n",
       "</table>\n",
       "<p>624 rows × 4 columns</p>\n",
       "</div>"
      ],
      "text/plain": [
       "                                         id                  datetime   bands  \\\n",
       "0    ERA5P_20240101T120000__ttrc_120000_0_0 2024-01-01 12:00:00+00:00  [ttrc]   \n",
       "1     ERA5P_20240101T120000__ttr_120000_0_0 2024-01-01 12:00:00+00:00   [ttr]   \n",
       "2    ERA5P_20240101T120000__tsrc_120000_0_0 2024-01-01 12:00:00+00:00  [tsrc]   \n",
       "3     ERA5P_20240101T120000__tsr_120000_0_0 2024-01-01 12:00:00+00:00   [tsr]   \n",
       "4      ERA5P_20240101T120000__tp_120000_0_0 2024-01-01 12:00:00+00:00    [tp]   \n",
       "..                                      ...                       ...     ...   \n",
       "619   ERA5P_20240101T000000__10v_000000_0_0 2024-01-01 00:00:00+00:00   [10v]   \n",
       "620   ERA5P_20240101T000000__10u_000000_0_0 2024-01-01 00:00:00+00:00   [10u]   \n",
       "621  ERA5P_20240101T000000__10fg_000000_0_0 2024-01-01 00:00:00+00:00  [10fg]   \n",
       "622  ERA5P_20240101T000000__100v_000000_0_0 2024-01-01 00:00:00+00:00  [100v]   \n",
       "623  ERA5P_20240101T000000__100u_000000_0_0 2024-01-01 00:00:00+00:00  [100u]   \n",
       "\n",
       "                                              geometry  \n",
       "0    POLYGON ((-180.00000 -90.00000, -180.00000 90....  \n",
       "1    POLYGON ((-180.00000 -90.00000, -180.00000 90....  \n",
       "2    POLYGON ((-180.00000 -90.00000, -180.00000 90....  \n",
       "3    POLYGON ((-180.00000 -90.00000, -180.00000 90....  \n",
       "4    POLYGON ((-180.00000 -90.00000, -180.00000 90....  \n",
       "..                                                 ...  \n",
       "619  POLYGON ((-180.00000 -90.00000, -180.00000 90....  \n",
       "620  POLYGON ((-180.00000 -90.00000, -180.00000 90....  \n",
       "621  POLYGON ((-180.00000 -90.00000, -180.00000 90....  \n",
       "622  POLYGON ((-180.00000 -90.00000, -180.00000 90....  \n",
       "623  POLYGON ((-180.00000 -90.00000, -180.00000 90....  \n",
       "\n",
       "[624 rows x 4 columns]"
      ]
     },
     "execution_count": 4,
     "metadata": {},
     "output_type": "execute_result"
    }
   ],
   "source": [
    "bbox=[west, south, east, north]\n",
    "print(f\"Searching {collection_id=} {bbox=} datetime={time_range}\")\n",
    "result = catalog.search(collections=[collection_id], bbox=bbox, datetime=time_range)\n",
    "counter = 0\n",
    "ids = list()\n",
    "geometry = list()\n",
    "timestamp = list()\n",
    "bands = list()\n",
    "\n",
    "for item in result.items_as_dicts():\n",
    "    ids.append(item[\"id\"])\n",
    "    geometry.append(shape(item[\"geometry\"]))\n",
    "    timestamp.append(pd.Timestamp(item[\"properties\"][\"datetime\"]))\n",
    "    bands.append(list(item[\"properties\"][\"cube:variables\"].keys()))\n",
    "    \n",
    "gdf = geopandas.GeoDataFrame(data={\"id\": ids, \"datetime\": timestamp, \"bands\": bands}, geometry=geometry)\n",
    "gdf\n",
    "\n"
   ]
  },
  {
   "cell_type": "code",
   "execution_count": 18,
   "id": "9e630af5-cadb-4151-b99a-b9414b851930",
   "metadata": {},
   "outputs": [
    {
     "name": "stdout",
     "output_type": "stream",
     "text": [
      "Available timestamps = [Timestamp('2024-01-01 00:00:00+0000', tz='UTC'), Timestamp('2024-01-01 01:00:00+0000', tz='UTC'), Timestamp('2024-01-01 02:00:00+0000', tz='UTC'), Timestamp('2024-01-01 03:00:00+0000', tz='UTC'), Timestamp('2024-01-01 04:00:00+0000', tz='UTC'), Timestamp('2024-01-01 05:00:00+0000', tz='UTC'), Timestamp('2024-01-01 06:00:00+0000', tz='UTC'), Timestamp('2024-01-01 07:00:00+0000', tz='UTC'), Timestamp('2024-01-01 08:00:00+0000', tz='UTC'), Timestamp('2024-01-01 09:00:00+0000', tz='UTC'), Timestamp('2024-01-01 10:00:00+0000', tz='UTC'), Timestamp('2024-01-01 11:00:00+0000', tz='UTC'), Timestamp('2024-01-01 12:00:00+0000', tz='UTC')]\n",
      "Available bands: {'ttrc', 'sp', 'swvl2', '2t', 'mn2t', '10v', 'ptype', 'tcwv', '100v', '100u', 'msl', 'mxtpr', 'ssrd', 'tcw', 'stl2', 'ssrdc', 'sf', '2d', 'tp', 'mcc', 'mwp', 'fdir', 'tsrc', 'tcrw', 'rsn', '10fg', 'swvl4', 'tsr', 'strd', 'swh', 'hcc', 'tcc', 'ttr', 'mwd', 'swvl3', 'lcc', 'stl1', 'i10fg', 'strdc', '10u', 'sd', 'stl4', 'swvl1', 'mntpr', 'tcsw', 'stl3', 'sst', 'mx2t'}\n"
     ]
    }
   ],
   "source": [
    "available_timestamps = sorted(gdf[\"datetime\"].unique())\n",
    "print(f\"Available timestamps = {available_timestamps}\")\n",
    "available_bands = set([b.pop() for b in gdf[\"bands\"]])\n",
    "print(f\"Available bands: {available_bands}\")"
   ]
  },
  {
   "cell_type": "markdown",
   "id": "d8f6a109-a7db-4bd4-bf25-01cfe6915b7f",
   "metadata": {},
   "source": [
    "### Describing the collection using Tensorlakehouse"
   ]
  },
  {
   "cell_type": "code",
   "execution_count": 7,
   "id": "d86f51f9",
   "metadata": {},
   "outputs": [
    {
     "data": {
      "text/html": [
       "\n",
       "    <script>\n",
       "    if (!window.customElements || !window.customElements.get('openeo-collection')) {\n",
       "        var el = document.createElement('script');\n",
       "        el.src = \"https://cdn.jsdelivr.net/npm/@openeo/vue-components@2/assets/openeo.min.js\";\n",
       "        document.head.appendChild(el);\n",
       "\n",
       "        var font = document.createElement('font');\n",
       "        font.as = \"font\";\n",
       "        font.type = \"font/woff2\";\n",
       "        font.crossOrigin = true;\n",
       "        font.href = \"https://use.fontawesome.com/releases/v5.13.0/webfonts/fa-solid-900.woff2\"\n",
       "        document.head.appendChild(font);\n",
       "    }\n",
       "    </script>\n",
       "    <openeo-collection>\n",
       "        <script type=\"application/json\">{\"mapOptions\": {}, \"data\": {\"cube:dimensions\": {\"bands\": {\"type\": \"bands\", \"values\": [\"100u\", \"100v\", \"10fg\", \"10u\", \"10v\", \"2d\", \"2t\", \"fdir\", \"hcc\", \"i10fg\", \"lcc\", \"mcc\", \"mn2t\", \"mx2t\", \"mntpr\", \"mxtpr\", \"msl\", \"ptype\", \"rsn\", \"sd\", \"sf\", \"sp\", \"ssrd\", \"ssrdc\", \"sst\", \"stl1\", \"stl2\", \"stl3\", \"stl4\", \"strd\", \"strdc\", \"swh\", \"swvl1\", \"swvl2\", \"swvl3\", \"swvl4\", \"tcc\", \"tcrw\", \"tcsw\", \"tcw\", \"tcwv\", \"tp\", \"tsr\", \"tsrc\", \"ttr\", \"ttrc\", \"Wave-height-l10\", \"Wave-direction\", \"Wave-period\", \"cl\", \"dl\", \"cvl\", \"cvh\", \"tvl\", \"tvh\", \"slt\", \"sdfor\", \"z\", \"sdor\", \"isor\", \"anor\", \"slor\", \"lsm\"]}, \"time\": {\"extent\": [\"1993-01-01T00:00:00+00:00\", null], \"type\": \"temporal\"}, \"x\": {\"axis\": \"x\", \"extent\": [-180.0, 180.0], \"type\": \"spatial\"}, \"y\": {\"axis\": \"y\", \"extent\": [-90.0, 90.0], \"type\": \"spatial\"}}, \"deprecated\": false, \"description\": \"A global reanalysis data set produced by ECMWF, the European Centre for Medium-Range Weather Forecasts. ERA5 is the direct successor to the ERA Interim reanalysis. It provides global, hourly data at a resolution of 0.25 by 0.25 degrees. | As any reanalysis product, ERA5 combines observed data with the output of meteorological models. Note that there are actually two versions of ERA5 data. Initial data is referred to as ERA5T and available in near real time. I.e., ERA5T data lags real time by about three days. About three months later, the final version of the data is released. This is the actual ERA5 data. This dataset contains both ERA5 and ERA5T data. With the latter being uploaded initially and overwritten once the former is available. As far as currently known, differences between the two versions are negligible. The dataset contains data for 1980, 1990, 2000, 2005 and from 2009 onwards. | {https://cds.climate.copernicus.eu/cdsapp#!/dataset/reanalysis-era5-single-levels,https://confluence.ecmwf.int/display/CKB/ERA5%3A+What+is+the+spatial+reference,https://en.wikipedia.org/wiki/Meteorological_reanalysis,https://www.ecmwf.int/en/newsletter/159/meteorology/global-reanalysis-goodbye-era-interim-hello-era5}\", \"extent\": {\"spatial\": {\"bbox\": [[-180, -90, 180, 90]]}, \"temporal\": {\"interval\": [[\"1993-01-01T00:00:00Z\", null]]}}, \"id\": \"ibm-eis-ga-1-era5-pr-wdc\", \"keywords\": [], \"license\": \"Generated using Copernicus Climate Change Service information 2024. Neither the European Commission nor ECMWF is responsible for any use that may be made of the Copernicus information or data it contains.\", \"links\": [{\"href\": \"http://stac-fastapi-pgstac.geospatial-be.svc.cluster.local:8080/collections/ibm-eis-ga-1-era5-pr-wdc/items\", \"rel\": \"items\", \"type\": \"application/geo+json\"}, {\"href\": \"http://stac-fastapi-pgstac.geospatial-be.svc.cluster.local:8080/\", \"rel\": \"parent\", \"type\": \"application/json\"}, {\"href\": \"http://stac-fastapi-pgstac.geospatial-be.svc.cluster.local:8080/\", \"rel\": \"root\", \"title\": \"stac-fastapi\", \"type\": \"application/json\"}, {\"href\": \"http://stac-fastapi-pgstac.geospatial-be.svc.cluster.local:8080/collections/ibm-eis-ga-1-era5-pr-wdc\", \"rel\": \"self\", \"type\": \"application/json\"}], \"providers\": [{\"description\": \"Producers of awesome spatiotemporal assets\", \"name\": \"IBM\", \"roles\": [\"producer\", \"processor\"], \"url\": \"https://www.ibm.com\"}], \"stac_extensions\": [\"https://stac-extensions.github.io/datacube/v2.2.0/schema.json\"], \"stac_version\": \"1.0.0\", \"summaries\": {}, \"title\": \"Global weather (ERA5) IBM COS\", \"type\": \"Collection\", \"version\": \"\"}}</script>\n",
       "    </openeo-collection>\n",
       "    "
      ],
      "text/plain": [
       "{'cube:dimensions': {'bands': {'type': 'bands',\n",
       "   'values': ['100u',\n",
       "    '100v',\n",
       "    '10fg',\n",
       "    '10u',\n",
       "    '10v',\n",
       "    '2d',\n",
       "    '2t',\n",
       "    'fdir',\n",
       "    'hcc',\n",
       "    'i10fg',\n",
       "    'lcc',\n",
       "    'mcc',\n",
       "    'mn2t',\n",
       "    'mx2t',\n",
       "    'mntpr',\n",
       "    'mxtpr',\n",
       "    'msl',\n",
       "    'ptype',\n",
       "    'rsn',\n",
       "    'sd',\n",
       "    'sf',\n",
       "    'sp',\n",
       "    'ssrd',\n",
       "    'ssrdc',\n",
       "    'sst',\n",
       "    'stl1',\n",
       "    'stl2',\n",
       "    'stl3',\n",
       "    'stl4',\n",
       "    'strd',\n",
       "    'strdc',\n",
       "    'swh',\n",
       "    'swvl1',\n",
       "    'swvl2',\n",
       "    'swvl3',\n",
       "    'swvl4',\n",
       "    'tcc',\n",
       "    'tcrw',\n",
       "    'tcsw',\n",
       "    'tcw',\n",
       "    'tcwv',\n",
       "    'tp',\n",
       "    'tsr',\n",
       "    'tsrc',\n",
       "    'ttr',\n",
       "    'ttrc',\n",
       "    'Wave-height-l10',\n",
       "    'Wave-direction',\n",
       "    'Wave-period',\n",
       "    'cl',\n",
       "    'dl',\n",
       "    'cvl',\n",
       "    'cvh',\n",
       "    'tvl',\n",
       "    'tvh',\n",
       "    'slt',\n",
       "    'sdfor',\n",
       "    'z',\n",
       "    'sdor',\n",
       "    'isor',\n",
       "    'anor',\n",
       "    'slor',\n",
       "    'lsm']},\n",
       "  'time': {'extent': ['1993-01-01T00:00:00+00:00', None], 'type': 'temporal'},\n",
       "  'x': {'axis': 'x', 'extent': [-180.0, 180.0], 'type': 'spatial'},\n",
       "  'y': {'axis': 'y', 'extent': [-90.0, 90.0], 'type': 'spatial'}},\n",
       " 'deprecated': False,\n",
       " 'description': 'A global reanalysis data set produced by ECMWF, the European Centre for Medium-Range Weather Forecasts. ERA5 is the direct successor to the ERA Interim reanalysis. It provides global, hourly data at a resolution of 0.25 by 0.25 degrees. | As any reanalysis product, ERA5 combines observed data with the output of meteorological models. Note that there are actually two versions of ERA5 data. Initial data is referred to as ERA5T and available in near real time. I.e., ERA5T data lags real time by about three days. About three months later, the final version of the data is released. This is the actual ERA5 data. This dataset contains both ERA5 and ERA5T data. With the latter being uploaded initially and overwritten once the former is available. As far as currently known, differences between the two versions are negligible. The dataset contains data for 1980, 1990, 2000, 2005 and from 2009 onwards. | {https://cds.climate.copernicus.eu/cdsapp#!/dataset/reanalysis-era5-single-levels,https://confluence.ecmwf.int/display/CKB/ERA5%3A+What+is+the+spatial+reference,https://en.wikipedia.org/wiki/Meteorological_reanalysis,https://www.ecmwf.int/en/newsletter/159/meteorology/global-reanalysis-goodbye-era-interim-hello-era5}',\n",
       " 'extent': {'spatial': {'bbox': [[-180, -90, 180, 90]]},\n",
       "  'temporal': {'interval': [['1993-01-01T00:00:00Z', None]]}},\n",
       " 'id': 'ibm-eis-ga-1-era5-pr-wdc',\n",
       " 'keywords': [],\n",
       " 'license': 'Generated using Copernicus Climate Change Service information 2024. Neither the European Commission nor ECMWF is responsible for any use that may be made of the Copernicus information or data it contains.',\n",
       " 'links': [{'href': 'http://stac-fastapi-pgstac.geospatial-be.svc.cluster.local:8080/collections/ibm-eis-ga-1-era5-pr-wdc/items',\n",
       "   'rel': 'items',\n",
       "   'type': 'application/geo+json'},\n",
       "  {'href': 'http://stac-fastapi-pgstac.geospatial-be.svc.cluster.local:8080/',\n",
       "   'rel': 'parent',\n",
       "   'type': 'application/json'},\n",
       "  {'href': 'http://stac-fastapi-pgstac.geospatial-be.svc.cluster.local:8080/',\n",
       "   'rel': 'root',\n",
       "   'title': 'stac-fastapi',\n",
       "   'type': 'application/json'},\n",
       "  {'href': 'http://stac-fastapi-pgstac.geospatial-be.svc.cluster.local:8080/collections/ibm-eis-ga-1-era5-pr-wdc',\n",
       "   'rel': 'self',\n",
       "   'type': 'application/json'}],\n",
       " 'providers': [{'description': 'Producers of awesome spatiotemporal assets',\n",
       "   'name': 'IBM',\n",
       "   'roles': ['producer', 'processor'],\n",
       "   'url': 'https://www.ibm.com'}],\n",
       " 'stac_extensions': ['https://stac-extensions.github.io/datacube/v2.2.0/schema.json'],\n",
       " 'stac_version': '1.0.0',\n",
       " 'summaries': {},\n",
       " 'title': 'Global weather (ERA5) IBM COS',\n",
       " 'type': 'Collection',\n",
       " 'version': ''}"
      ]
     },
     "execution_count": 7,
     "metadata": {},
     "output_type": "execute_result"
    }
   ],
   "source": [
    "tensorlakehouse_conn.describe_collection(collection_id)"
   ]
  },
  {
   "cell_type": "markdown",
   "id": "062246a3-e934-4aa6-8b95-199cdc055339",
   "metadata": {},
   "source": [
    "## Loading tensorlakehouse datacube"
   ]
  },
  {
   "cell_type": "code",
   "execution_count": 8,
   "id": "f85cd26a-10be-45f7-bde8-16ea626d441d",
   "metadata": {},
   "outputs": [
    {
     "name": "stdout",
     "output_type": "stream",
     "text": [
      "collection_id='ibm-eis-ga-1-era5-pr-wdc' spatial_extent={'west': -1.0, 'south': 51.0, 'east': 0.0, 'north': 52.0} temporal_extent=['2024-01-01T00:00:00Z', '2024-01-01T12:00:00Z'] bands=['2t']\n"
     ]
    }
   ],
   "source": [
    "bands = [\"2t\"]\n",
    "spatial_extent={\n",
    "        'west' : west,\n",
    "        'south' : south,\n",
    "        'east' : east,\n",
    "        'north' : north\n",
    "    }\n",
    "\n",
    "temporal_extent = [start, end]\n",
    "\n",
    "print(f\"{collection_id=} {spatial_extent=} {temporal_extent=} {bands=}\")\n",
    "\n",
    "cube = tensorlakehouse_conn.load_collection(\n",
    "    collection_id=collection_id,\n",
    "    spatial_extent=spatial_extent,\n",
    "    temporal_extent=temporal_extent,\n",
    "    bands=bands,\n",
    ")\n"
   ]
  },
  {
   "cell_type": "code",
   "execution_count": 9,
   "id": "09217763",
   "metadata": {},
   "outputs": [],
   "source": [
    "output_format = \"netCDF\"\n",
    "cube = cube.save_result(output_format)"
   ]
  },
  {
   "cell_type": "markdown",
   "id": "0b26189c-7fdb-4b8e-810c-16205c6fdaad",
   "metadata": {},
   "source": [
    "### Submit a batch job and wait until it finishes"
   ]
  },
  {
   "cell_type": "code",
   "execution_count": 10,
   "id": "060418d8",
   "metadata": {},
   "outputs": [
    {
     "name": "stderr",
     "output_type": "stream",
     "text": [
      "Preflight process graph validation raised: [Internal] 'TensorLakehouseProcessRegistry' object has no attribute 'get_function'\n"
     ]
    },
    {
     "ename": "ConnectionError",
     "evalue": "('Connection aborted.', RemoteDisconnected('Remote end closed connection without response'))",
     "output_type": "error",
     "traceback": [
      "\u001b[0;31m---------------------------------------------------------------------------\u001b[0m",
      "\u001b[0;31mRemoteDisconnected\u001b[0m                        Traceback (most recent call last)",
      "File \u001b[0;32m~/.pyenv/versions/tensorlakehouse-openeo-tutorial/lib/python3.11/site-packages/urllib3/connectionpool.py:793\u001b[0m, in \u001b[0;36mHTTPConnectionPool.urlopen\u001b[0;34m(self, method, url, body, headers, retries, redirect, assert_same_host, timeout, pool_timeout, release_conn, chunked, body_pos, preload_content, decode_content, **response_kw)\u001b[0m\n\u001b[1;32m    792\u001b[0m \u001b[38;5;66;03m# Make the request on the HTTPConnection object\u001b[39;00m\n\u001b[0;32m--> 793\u001b[0m response \u001b[38;5;241m=\u001b[39m \u001b[38;5;28;43mself\u001b[39;49m\u001b[38;5;241;43m.\u001b[39;49m\u001b[43m_make_request\u001b[49m\u001b[43m(\u001b[49m\n\u001b[1;32m    794\u001b[0m \u001b[43m    \u001b[49m\u001b[43mconn\u001b[49m\u001b[43m,\u001b[49m\n\u001b[1;32m    795\u001b[0m \u001b[43m    \u001b[49m\u001b[43mmethod\u001b[49m\u001b[43m,\u001b[49m\n\u001b[1;32m    796\u001b[0m \u001b[43m    \u001b[49m\u001b[43murl\u001b[49m\u001b[43m,\u001b[49m\n\u001b[1;32m    797\u001b[0m \u001b[43m    \u001b[49m\u001b[43mtimeout\u001b[49m\u001b[38;5;241;43m=\u001b[39;49m\u001b[43mtimeout_obj\u001b[49m\u001b[43m,\u001b[49m\n\u001b[1;32m    798\u001b[0m \u001b[43m    \u001b[49m\u001b[43mbody\u001b[49m\u001b[38;5;241;43m=\u001b[39;49m\u001b[43mbody\u001b[49m\u001b[43m,\u001b[49m\n\u001b[1;32m    799\u001b[0m \u001b[43m    \u001b[49m\u001b[43mheaders\u001b[49m\u001b[38;5;241;43m=\u001b[39;49m\u001b[43mheaders\u001b[49m\u001b[43m,\u001b[49m\n\u001b[1;32m    800\u001b[0m \u001b[43m    \u001b[49m\u001b[43mchunked\u001b[49m\u001b[38;5;241;43m=\u001b[39;49m\u001b[43mchunked\u001b[49m\u001b[43m,\u001b[49m\n\u001b[1;32m    801\u001b[0m \u001b[43m    \u001b[49m\u001b[43mretries\u001b[49m\u001b[38;5;241;43m=\u001b[39;49m\u001b[43mretries\u001b[49m\u001b[43m,\u001b[49m\n\u001b[1;32m    802\u001b[0m \u001b[43m    \u001b[49m\u001b[43mresponse_conn\u001b[49m\u001b[38;5;241;43m=\u001b[39;49m\u001b[43mresponse_conn\u001b[49m\u001b[43m,\u001b[49m\n\u001b[1;32m    803\u001b[0m \u001b[43m    \u001b[49m\u001b[43mpreload_content\u001b[49m\u001b[38;5;241;43m=\u001b[39;49m\u001b[43mpreload_content\u001b[49m\u001b[43m,\u001b[49m\n\u001b[1;32m    804\u001b[0m \u001b[43m    \u001b[49m\u001b[43mdecode_content\u001b[49m\u001b[38;5;241;43m=\u001b[39;49m\u001b[43mdecode_content\u001b[49m\u001b[43m,\u001b[49m\n\u001b[1;32m    805\u001b[0m \u001b[43m    \u001b[49m\u001b[38;5;241;43m*\u001b[39;49m\u001b[38;5;241;43m*\u001b[39;49m\u001b[43mresponse_kw\u001b[49m\u001b[43m,\u001b[49m\n\u001b[1;32m    806\u001b[0m \u001b[43m\u001b[49m\u001b[43m)\u001b[49m\n\u001b[1;32m    808\u001b[0m \u001b[38;5;66;03m# Everything went great!\u001b[39;00m\n",
      "File \u001b[0;32m~/.pyenv/versions/tensorlakehouse-openeo-tutorial/lib/python3.11/site-packages/urllib3/connectionpool.py:537\u001b[0m, in \u001b[0;36mHTTPConnectionPool._make_request\u001b[0;34m(self, conn, method, url, body, headers, retries, timeout, chunked, response_conn, preload_content, decode_content, enforce_content_length)\u001b[0m\n\u001b[1;32m    536\u001b[0m \u001b[38;5;28;01mtry\u001b[39;00m:\n\u001b[0;32m--> 537\u001b[0m     response \u001b[38;5;241m=\u001b[39m \u001b[43mconn\u001b[49m\u001b[38;5;241;43m.\u001b[39;49m\u001b[43mgetresponse\u001b[49m\u001b[43m(\u001b[49m\u001b[43m)\u001b[49m\n\u001b[1;32m    538\u001b[0m \u001b[38;5;28;01mexcept\u001b[39;00m (BaseSSLError, \u001b[38;5;167;01mOSError\u001b[39;00m) \u001b[38;5;28;01mas\u001b[39;00m e:\n",
      "File \u001b[0;32m~/.pyenv/versions/tensorlakehouse-openeo-tutorial/lib/python3.11/site-packages/urllib3/connection.py:466\u001b[0m, in \u001b[0;36mHTTPConnection.getresponse\u001b[0;34m(self)\u001b[0m\n\u001b[1;32m    465\u001b[0m \u001b[38;5;66;03m# Get the response from http.client.HTTPConnection\u001b[39;00m\n\u001b[0;32m--> 466\u001b[0m httplib_response \u001b[38;5;241m=\u001b[39m \u001b[38;5;28;43msuper\u001b[39;49m\u001b[43m(\u001b[49m\u001b[43m)\u001b[49m\u001b[38;5;241;43m.\u001b[39;49m\u001b[43mgetresponse\u001b[49m\u001b[43m(\u001b[49m\u001b[43m)\u001b[49m\n\u001b[1;32m    468\u001b[0m \u001b[38;5;28;01mtry\u001b[39;00m:\n",
      "File \u001b[0;32m~/.pyenv/versions/3.11.7/lib/python3.11/http/client.py:1386\u001b[0m, in \u001b[0;36mHTTPConnection.getresponse\u001b[0;34m(self)\u001b[0m\n\u001b[1;32m   1385\u001b[0m \u001b[38;5;28;01mtry\u001b[39;00m:\n\u001b[0;32m-> 1386\u001b[0m     \u001b[43mresponse\u001b[49m\u001b[38;5;241;43m.\u001b[39;49m\u001b[43mbegin\u001b[49m\u001b[43m(\u001b[49m\u001b[43m)\u001b[49m\n\u001b[1;32m   1387\u001b[0m \u001b[38;5;28;01mexcept\u001b[39;00m \u001b[38;5;167;01mConnectionError\u001b[39;00m:\n",
      "File \u001b[0;32m~/.pyenv/versions/3.11.7/lib/python3.11/http/client.py:325\u001b[0m, in \u001b[0;36mHTTPResponse.begin\u001b[0;34m(self)\u001b[0m\n\u001b[1;32m    324\u001b[0m \u001b[38;5;28;01mwhile\u001b[39;00m \u001b[38;5;28;01mTrue\u001b[39;00m:\n\u001b[0;32m--> 325\u001b[0m     version, status, reason \u001b[38;5;241m=\u001b[39m \u001b[38;5;28;43mself\u001b[39;49m\u001b[38;5;241;43m.\u001b[39;49m\u001b[43m_read_status\u001b[49m\u001b[43m(\u001b[49m\u001b[43m)\u001b[49m\n\u001b[1;32m    326\u001b[0m     \u001b[38;5;28;01mif\u001b[39;00m status \u001b[38;5;241m!=\u001b[39m CONTINUE:\n",
      "File \u001b[0;32m~/.pyenv/versions/3.11.7/lib/python3.11/http/client.py:294\u001b[0m, in \u001b[0;36mHTTPResponse._read_status\u001b[0;34m(self)\u001b[0m\n\u001b[1;32m    291\u001b[0m \u001b[38;5;28;01mif\u001b[39;00m \u001b[38;5;129;01mnot\u001b[39;00m line:\n\u001b[1;32m    292\u001b[0m     \u001b[38;5;66;03m# Presumably, the server closed the connection before\u001b[39;00m\n\u001b[1;32m    293\u001b[0m     \u001b[38;5;66;03m# sending a valid response.\u001b[39;00m\n\u001b[0;32m--> 294\u001b[0m     \u001b[38;5;28;01mraise\u001b[39;00m RemoteDisconnected(\u001b[38;5;124m\"\u001b[39m\u001b[38;5;124mRemote end closed connection without\u001b[39m\u001b[38;5;124m\"\u001b[39m\n\u001b[1;32m    295\u001b[0m                              \u001b[38;5;124m\"\u001b[39m\u001b[38;5;124m response\u001b[39m\u001b[38;5;124m\"\u001b[39m)\n\u001b[1;32m    296\u001b[0m \u001b[38;5;28;01mtry\u001b[39;00m:\n",
      "\u001b[0;31mRemoteDisconnected\u001b[0m: Remote end closed connection without response",
      "\nDuring handling of the above exception, another exception occurred:\n",
      "\u001b[0;31mProtocolError\u001b[0m                             Traceback (most recent call last)",
      "File \u001b[0;32m~/.pyenv/versions/tensorlakehouse-openeo-tutorial/lib/python3.11/site-packages/requests/adapters.py:667\u001b[0m, in \u001b[0;36mHTTPAdapter.send\u001b[0;34m(self, request, stream, timeout, verify, cert, proxies)\u001b[0m\n\u001b[1;32m    666\u001b[0m \u001b[38;5;28;01mtry\u001b[39;00m:\n\u001b[0;32m--> 667\u001b[0m     resp \u001b[38;5;241m=\u001b[39m \u001b[43mconn\u001b[49m\u001b[38;5;241;43m.\u001b[39;49m\u001b[43murlopen\u001b[49m\u001b[43m(\u001b[49m\n\u001b[1;32m    668\u001b[0m \u001b[43m        \u001b[49m\u001b[43mmethod\u001b[49m\u001b[38;5;241;43m=\u001b[39;49m\u001b[43mrequest\u001b[49m\u001b[38;5;241;43m.\u001b[39;49m\u001b[43mmethod\u001b[49m\u001b[43m,\u001b[49m\n\u001b[1;32m    669\u001b[0m \u001b[43m        \u001b[49m\u001b[43murl\u001b[49m\u001b[38;5;241;43m=\u001b[39;49m\u001b[43murl\u001b[49m\u001b[43m,\u001b[49m\n\u001b[1;32m    670\u001b[0m \u001b[43m        \u001b[49m\u001b[43mbody\u001b[49m\u001b[38;5;241;43m=\u001b[39;49m\u001b[43mrequest\u001b[49m\u001b[38;5;241;43m.\u001b[39;49m\u001b[43mbody\u001b[49m\u001b[43m,\u001b[49m\n\u001b[1;32m    671\u001b[0m \u001b[43m        \u001b[49m\u001b[43mheaders\u001b[49m\u001b[38;5;241;43m=\u001b[39;49m\u001b[43mrequest\u001b[49m\u001b[38;5;241;43m.\u001b[39;49m\u001b[43mheaders\u001b[49m\u001b[43m,\u001b[49m\n\u001b[1;32m    672\u001b[0m \u001b[43m        \u001b[49m\u001b[43mredirect\u001b[49m\u001b[38;5;241;43m=\u001b[39;49m\u001b[38;5;28;43;01mFalse\u001b[39;49;00m\u001b[43m,\u001b[49m\n\u001b[1;32m    673\u001b[0m \u001b[43m        \u001b[49m\u001b[43massert_same_host\u001b[49m\u001b[38;5;241;43m=\u001b[39;49m\u001b[38;5;28;43;01mFalse\u001b[39;49;00m\u001b[43m,\u001b[49m\n\u001b[1;32m    674\u001b[0m \u001b[43m        \u001b[49m\u001b[43mpreload_content\u001b[49m\u001b[38;5;241;43m=\u001b[39;49m\u001b[38;5;28;43;01mFalse\u001b[39;49;00m\u001b[43m,\u001b[49m\n\u001b[1;32m    675\u001b[0m \u001b[43m        \u001b[49m\u001b[43mdecode_content\u001b[49m\u001b[38;5;241;43m=\u001b[39;49m\u001b[38;5;28;43;01mFalse\u001b[39;49;00m\u001b[43m,\u001b[49m\n\u001b[1;32m    676\u001b[0m \u001b[43m        \u001b[49m\u001b[43mretries\u001b[49m\u001b[38;5;241;43m=\u001b[39;49m\u001b[38;5;28;43mself\u001b[39;49m\u001b[38;5;241;43m.\u001b[39;49m\u001b[43mmax_retries\u001b[49m\u001b[43m,\u001b[49m\n\u001b[1;32m    677\u001b[0m \u001b[43m        \u001b[49m\u001b[43mtimeout\u001b[49m\u001b[38;5;241;43m=\u001b[39;49m\u001b[43mtimeout\u001b[49m\u001b[43m,\u001b[49m\n\u001b[1;32m    678\u001b[0m \u001b[43m        \u001b[49m\u001b[43mchunked\u001b[49m\u001b[38;5;241;43m=\u001b[39;49m\u001b[43mchunked\u001b[49m\u001b[43m,\u001b[49m\n\u001b[1;32m    679\u001b[0m \u001b[43m    \u001b[49m\u001b[43m)\u001b[49m\n\u001b[1;32m    681\u001b[0m \u001b[38;5;28;01mexcept\u001b[39;00m (ProtocolError, \u001b[38;5;167;01mOSError\u001b[39;00m) \u001b[38;5;28;01mas\u001b[39;00m err:\n",
      "File \u001b[0;32m~/.pyenv/versions/tensorlakehouse-openeo-tutorial/lib/python3.11/site-packages/urllib3/connectionpool.py:847\u001b[0m, in \u001b[0;36mHTTPConnectionPool.urlopen\u001b[0;34m(self, method, url, body, headers, retries, redirect, assert_same_host, timeout, pool_timeout, release_conn, chunked, body_pos, preload_content, decode_content, **response_kw)\u001b[0m\n\u001b[1;32m    845\u001b[0m     new_e \u001b[38;5;241m=\u001b[39m ProtocolError(\u001b[38;5;124m\"\u001b[39m\u001b[38;5;124mConnection aborted.\u001b[39m\u001b[38;5;124m\"\u001b[39m, new_e)\n\u001b[0;32m--> 847\u001b[0m retries \u001b[38;5;241m=\u001b[39m \u001b[43mretries\u001b[49m\u001b[38;5;241;43m.\u001b[39;49m\u001b[43mincrement\u001b[49m\u001b[43m(\u001b[49m\n\u001b[1;32m    848\u001b[0m \u001b[43m    \u001b[49m\u001b[43mmethod\u001b[49m\u001b[43m,\u001b[49m\u001b[43m \u001b[49m\u001b[43murl\u001b[49m\u001b[43m,\u001b[49m\u001b[43m \u001b[49m\u001b[43merror\u001b[49m\u001b[38;5;241;43m=\u001b[39;49m\u001b[43mnew_e\u001b[49m\u001b[43m,\u001b[49m\u001b[43m \u001b[49m\u001b[43m_pool\u001b[49m\u001b[38;5;241;43m=\u001b[39;49m\u001b[38;5;28;43mself\u001b[39;49m\u001b[43m,\u001b[49m\u001b[43m \u001b[49m\u001b[43m_stacktrace\u001b[49m\u001b[38;5;241;43m=\u001b[39;49m\u001b[43msys\u001b[49m\u001b[38;5;241;43m.\u001b[39;49m\u001b[43mexc_info\u001b[49m\u001b[43m(\u001b[49m\u001b[43m)\u001b[49m\u001b[43m[\u001b[49m\u001b[38;5;241;43m2\u001b[39;49m\u001b[43m]\u001b[49m\n\u001b[1;32m    849\u001b[0m \u001b[43m\u001b[49m\u001b[43m)\u001b[49m\n\u001b[1;32m    850\u001b[0m retries\u001b[38;5;241m.\u001b[39msleep()\n",
      "File \u001b[0;32m~/.pyenv/versions/tensorlakehouse-openeo-tutorial/lib/python3.11/site-packages/urllib3/util/retry.py:470\u001b[0m, in \u001b[0;36mRetry.increment\u001b[0;34m(self, method, url, response, error, _pool, _stacktrace)\u001b[0m\n\u001b[1;32m    469\u001b[0m \u001b[38;5;28;01mif\u001b[39;00m read \u001b[38;5;129;01mis\u001b[39;00m \u001b[38;5;28;01mFalse\u001b[39;00m \u001b[38;5;129;01mor\u001b[39;00m method \u001b[38;5;129;01mis\u001b[39;00m \u001b[38;5;28;01mNone\u001b[39;00m \u001b[38;5;129;01mor\u001b[39;00m \u001b[38;5;129;01mnot\u001b[39;00m \u001b[38;5;28mself\u001b[39m\u001b[38;5;241m.\u001b[39m_is_method_retryable(method):\n\u001b[0;32m--> 470\u001b[0m     \u001b[38;5;28;01mraise\u001b[39;00m \u001b[43mreraise\u001b[49m\u001b[43m(\u001b[49m\u001b[38;5;28;43mtype\u001b[39;49m\u001b[43m(\u001b[49m\u001b[43merror\u001b[49m\u001b[43m)\u001b[49m\u001b[43m,\u001b[49m\u001b[43m \u001b[49m\u001b[43merror\u001b[49m\u001b[43m,\u001b[49m\u001b[43m \u001b[49m\u001b[43m_stacktrace\u001b[49m\u001b[43m)\u001b[49m\n\u001b[1;32m    471\u001b[0m \u001b[38;5;28;01melif\u001b[39;00m read \u001b[38;5;129;01mis\u001b[39;00m \u001b[38;5;129;01mnot\u001b[39;00m \u001b[38;5;28;01mNone\u001b[39;00m:\n",
      "File \u001b[0;32m~/.pyenv/versions/tensorlakehouse-openeo-tutorial/lib/python3.11/site-packages/urllib3/util/util.py:38\u001b[0m, in \u001b[0;36mreraise\u001b[0;34m(tp, value, tb)\u001b[0m\n\u001b[1;32m     37\u001b[0m \u001b[38;5;28;01mif\u001b[39;00m value\u001b[38;5;241m.\u001b[39m__traceback__ \u001b[38;5;129;01mis\u001b[39;00m \u001b[38;5;129;01mnot\u001b[39;00m tb:\n\u001b[0;32m---> 38\u001b[0m     \u001b[38;5;28;01mraise\u001b[39;00m value\u001b[38;5;241m.\u001b[39mwith_traceback(tb)\n\u001b[1;32m     39\u001b[0m \u001b[38;5;28;01mraise\u001b[39;00m value\n",
      "File \u001b[0;32m~/.pyenv/versions/tensorlakehouse-openeo-tutorial/lib/python3.11/site-packages/urllib3/connectionpool.py:793\u001b[0m, in \u001b[0;36mHTTPConnectionPool.urlopen\u001b[0;34m(self, method, url, body, headers, retries, redirect, assert_same_host, timeout, pool_timeout, release_conn, chunked, body_pos, preload_content, decode_content, **response_kw)\u001b[0m\n\u001b[1;32m    792\u001b[0m \u001b[38;5;66;03m# Make the request on the HTTPConnection object\u001b[39;00m\n\u001b[0;32m--> 793\u001b[0m response \u001b[38;5;241m=\u001b[39m \u001b[38;5;28;43mself\u001b[39;49m\u001b[38;5;241;43m.\u001b[39;49m\u001b[43m_make_request\u001b[49m\u001b[43m(\u001b[49m\n\u001b[1;32m    794\u001b[0m \u001b[43m    \u001b[49m\u001b[43mconn\u001b[49m\u001b[43m,\u001b[49m\n\u001b[1;32m    795\u001b[0m \u001b[43m    \u001b[49m\u001b[43mmethod\u001b[49m\u001b[43m,\u001b[49m\n\u001b[1;32m    796\u001b[0m \u001b[43m    \u001b[49m\u001b[43murl\u001b[49m\u001b[43m,\u001b[49m\n\u001b[1;32m    797\u001b[0m \u001b[43m    \u001b[49m\u001b[43mtimeout\u001b[49m\u001b[38;5;241;43m=\u001b[39;49m\u001b[43mtimeout_obj\u001b[49m\u001b[43m,\u001b[49m\n\u001b[1;32m    798\u001b[0m \u001b[43m    \u001b[49m\u001b[43mbody\u001b[49m\u001b[38;5;241;43m=\u001b[39;49m\u001b[43mbody\u001b[49m\u001b[43m,\u001b[49m\n\u001b[1;32m    799\u001b[0m \u001b[43m    \u001b[49m\u001b[43mheaders\u001b[49m\u001b[38;5;241;43m=\u001b[39;49m\u001b[43mheaders\u001b[49m\u001b[43m,\u001b[49m\n\u001b[1;32m    800\u001b[0m \u001b[43m    \u001b[49m\u001b[43mchunked\u001b[49m\u001b[38;5;241;43m=\u001b[39;49m\u001b[43mchunked\u001b[49m\u001b[43m,\u001b[49m\n\u001b[1;32m    801\u001b[0m \u001b[43m    \u001b[49m\u001b[43mretries\u001b[49m\u001b[38;5;241;43m=\u001b[39;49m\u001b[43mretries\u001b[49m\u001b[43m,\u001b[49m\n\u001b[1;32m    802\u001b[0m \u001b[43m    \u001b[49m\u001b[43mresponse_conn\u001b[49m\u001b[38;5;241;43m=\u001b[39;49m\u001b[43mresponse_conn\u001b[49m\u001b[43m,\u001b[49m\n\u001b[1;32m    803\u001b[0m \u001b[43m    \u001b[49m\u001b[43mpreload_content\u001b[49m\u001b[38;5;241;43m=\u001b[39;49m\u001b[43mpreload_content\u001b[49m\u001b[43m,\u001b[49m\n\u001b[1;32m    804\u001b[0m \u001b[43m    \u001b[49m\u001b[43mdecode_content\u001b[49m\u001b[38;5;241;43m=\u001b[39;49m\u001b[43mdecode_content\u001b[49m\u001b[43m,\u001b[49m\n\u001b[1;32m    805\u001b[0m \u001b[43m    \u001b[49m\u001b[38;5;241;43m*\u001b[39;49m\u001b[38;5;241;43m*\u001b[39;49m\u001b[43mresponse_kw\u001b[49m\u001b[43m,\u001b[49m\n\u001b[1;32m    806\u001b[0m \u001b[43m\u001b[49m\u001b[43m)\u001b[49m\n\u001b[1;32m    808\u001b[0m \u001b[38;5;66;03m# Everything went great!\u001b[39;00m\n",
      "File \u001b[0;32m~/.pyenv/versions/tensorlakehouse-openeo-tutorial/lib/python3.11/site-packages/urllib3/connectionpool.py:537\u001b[0m, in \u001b[0;36mHTTPConnectionPool._make_request\u001b[0;34m(self, conn, method, url, body, headers, retries, timeout, chunked, response_conn, preload_content, decode_content, enforce_content_length)\u001b[0m\n\u001b[1;32m    536\u001b[0m \u001b[38;5;28;01mtry\u001b[39;00m:\n\u001b[0;32m--> 537\u001b[0m     response \u001b[38;5;241m=\u001b[39m \u001b[43mconn\u001b[49m\u001b[38;5;241;43m.\u001b[39;49m\u001b[43mgetresponse\u001b[49m\u001b[43m(\u001b[49m\u001b[43m)\u001b[49m\n\u001b[1;32m    538\u001b[0m \u001b[38;5;28;01mexcept\u001b[39;00m (BaseSSLError, \u001b[38;5;167;01mOSError\u001b[39;00m) \u001b[38;5;28;01mas\u001b[39;00m e:\n",
      "File \u001b[0;32m~/.pyenv/versions/tensorlakehouse-openeo-tutorial/lib/python3.11/site-packages/urllib3/connection.py:466\u001b[0m, in \u001b[0;36mHTTPConnection.getresponse\u001b[0;34m(self)\u001b[0m\n\u001b[1;32m    465\u001b[0m \u001b[38;5;66;03m# Get the response from http.client.HTTPConnection\u001b[39;00m\n\u001b[0;32m--> 466\u001b[0m httplib_response \u001b[38;5;241m=\u001b[39m \u001b[38;5;28;43msuper\u001b[39;49m\u001b[43m(\u001b[49m\u001b[43m)\u001b[49m\u001b[38;5;241;43m.\u001b[39;49m\u001b[43mgetresponse\u001b[49m\u001b[43m(\u001b[49m\u001b[43m)\u001b[49m\n\u001b[1;32m    468\u001b[0m \u001b[38;5;28;01mtry\u001b[39;00m:\n",
      "File \u001b[0;32m~/.pyenv/versions/3.11.7/lib/python3.11/http/client.py:1386\u001b[0m, in \u001b[0;36mHTTPConnection.getresponse\u001b[0;34m(self)\u001b[0m\n\u001b[1;32m   1385\u001b[0m \u001b[38;5;28;01mtry\u001b[39;00m:\n\u001b[0;32m-> 1386\u001b[0m     \u001b[43mresponse\u001b[49m\u001b[38;5;241;43m.\u001b[39;49m\u001b[43mbegin\u001b[49m\u001b[43m(\u001b[49m\u001b[43m)\u001b[49m\n\u001b[1;32m   1387\u001b[0m \u001b[38;5;28;01mexcept\u001b[39;00m \u001b[38;5;167;01mConnectionError\u001b[39;00m:\n",
      "File \u001b[0;32m~/.pyenv/versions/3.11.7/lib/python3.11/http/client.py:325\u001b[0m, in \u001b[0;36mHTTPResponse.begin\u001b[0;34m(self)\u001b[0m\n\u001b[1;32m    324\u001b[0m \u001b[38;5;28;01mwhile\u001b[39;00m \u001b[38;5;28;01mTrue\u001b[39;00m:\n\u001b[0;32m--> 325\u001b[0m     version, status, reason \u001b[38;5;241m=\u001b[39m \u001b[38;5;28;43mself\u001b[39;49m\u001b[38;5;241;43m.\u001b[39;49m\u001b[43m_read_status\u001b[49m\u001b[43m(\u001b[49m\u001b[43m)\u001b[49m\n\u001b[1;32m    326\u001b[0m     \u001b[38;5;28;01mif\u001b[39;00m status \u001b[38;5;241m!=\u001b[39m CONTINUE:\n",
      "File \u001b[0;32m~/.pyenv/versions/3.11.7/lib/python3.11/http/client.py:294\u001b[0m, in \u001b[0;36mHTTPResponse._read_status\u001b[0;34m(self)\u001b[0m\n\u001b[1;32m    291\u001b[0m \u001b[38;5;28;01mif\u001b[39;00m \u001b[38;5;129;01mnot\u001b[39;00m line:\n\u001b[1;32m    292\u001b[0m     \u001b[38;5;66;03m# Presumably, the server closed the connection before\u001b[39;00m\n\u001b[1;32m    293\u001b[0m     \u001b[38;5;66;03m# sending a valid response.\u001b[39;00m\n\u001b[0;32m--> 294\u001b[0m     \u001b[38;5;28;01mraise\u001b[39;00m RemoteDisconnected(\u001b[38;5;124m\"\u001b[39m\u001b[38;5;124mRemote end closed connection without\u001b[39m\u001b[38;5;124m\"\u001b[39m\n\u001b[1;32m    295\u001b[0m                              \u001b[38;5;124m\"\u001b[39m\u001b[38;5;124m response\u001b[39m\u001b[38;5;124m\"\u001b[39m)\n\u001b[1;32m    296\u001b[0m \u001b[38;5;28;01mtry\u001b[39;00m:\n",
      "\u001b[0;31mProtocolError\u001b[0m: ('Connection aborted.', RemoteDisconnected('Remote end closed connection without response'))",
      "\nDuring handling of the above exception, another exception occurred:\n",
      "\u001b[0;31mConnectionError\u001b[0m                           Traceback (most recent call last)",
      "Cell \u001b[0;32mIn[10], line 12\u001b[0m\n\u001b[1;32m     10\u001b[0m \u001b[38;5;28;01mwhile\u001b[39;00m job_status \u001b[38;5;129;01mnot\u001b[39;00m \u001b[38;5;129;01min\u001b[39;00m [\u001b[38;5;124m\"\u001b[39m\u001b[38;5;124mcanceled\u001b[39m\u001b[38;5;124m\"\u001b[39m, \u001b[38;5;124m\"\u001b[39m\u001b[38;5;124mfinished\u001b[39m\u001b[38;5;124m\"\u001b[39m, \u001b[38;5;124m\"\u001b[39m\u001b[38;5;124merror\u001b[39m\u001b[38;5;124m\"\u001b[39m]:\n\u001b[1;32m     11\u001b[0m     time\u001b[38;5;241m.\u001b[39msleep(\u001b[38;5;241m30\u001b[39m)\n\u001b[0;32m---> 12\u001b[0m     job_status \u001b[38;5;241m=\u001b[39m \u001b[43mjob\u001b[49m\u001b[38;5;241;43m.\u001b[39;49m\u001b[43mstatus\u001b[49m\u001b[43m(\u001b[49m\u001b[43m)\u001b[49m\n\u001b[1;32m     13\u001b[0m     \u001b[38;5;28mprint\u001b[39m(\u001b[38;5;124mf\u001b[39m\u001b[38;5;124m\"\u001b[39m\u001b[38;5;132;01m{\u001b[39;00mjob_status\u001b[38;5;132;01m=}\u001b[39;00m\u001b[38;5;124m\"\u001b[39m)\n\u001b[1;32m     14\u001b[0m \u001b[38;5;66;03m# get results\u001b[39;00m\n",
      "File \u001b[0;32m~/.pyenv/versions/tensorlakehouse-openeo-tutorial/lib/python3.11/site-packages/openeo/rest/job.py:84\u001b[0m, in \u001b[0;36mBatchJob.status\u001b[0;34m(self)\u001b[0m\n\u001b[1;32m     78\u001b[0m \u001b[38;5;28;01mdef\u001b[39;00m \u001b[38;5;21mstatus\u001b[39m(\u001b[38;5;28mself\u001b[39m) \u001b[38;5;241m-\u001b[39m\u001b[38;5;241m>\u001b[39m \u001b[38;5;28mstr\u001b[39m:\n\u001b[1;32m     79\u001b[0m \u001b[38;5;250m    \u001b[39m\u001b[38;5;124;03m\"\"\"\u001b[39;00m\n\u001b[1;32m     80\u001b[0m \u001b[38;5;124;03m    Get the status of the batch job\u001b[39;00m\n\u001b[1;32m     81\u001b[0m \n\u001b[1;32m     82\u001b[0m \u001b[38;5;124;03m    :return: batch job status, one of \"created\", \"queued\", \"running\", \"canceled\", \"finished\" or \"error\".\u001b[39;00m\n\u001b[1;32m     83\u001b[0m \u001b[38;5;124;03m    \"\"\"\u001b[39;00m\n\u001b[0;32m---> 84\u001b[0m     \u001b[38;5;28;01mreturn\u001b[39;00m \u001b[38;5;28;43mself\u001b[39;49m\u001b[38;5;241;43m.\u001b[39;49m\u001b[43mdescribe\u001b[49m\u001b[43m(\u001b[49m\u001b[43m)\u001b[49m\u001b[38;5;241m.\u001b[39mget(\u001b[38;5;124m\"\u001b[39m\u001b[38;5;124mstatus\u001b[39m\u001b[38;5;124m\"\u001b[39m, \u001b[38;5;124m\"\u001b[39m\u001b[38;5;124mN/A\u001b[39m\u001b[38;5;124m\"\u001b[39m)\n",
      "File \u001b[0;32m~/.pyenv/versions/tensorlakehouse-openeo-tutorial/lib/python3.11/site-packages/openeo/rest/job.py:74\u001b[0m, in \u001b[0;36mBatchJob.describe\u001b[0;34m(self)\u001b[0m\n\u001b[1;32m     65\u001b[0m \u001b[38;5;129m@openeo_endpoint\u001b[39m(\u001b[38;5;124m\"\u001b[39m\u001b[38;5;124mGET /jobs/\u001b[39m\u001b[38;5;132;01m{job_id}\u001b[39;00m\u001b[38;5;124m\"\u001b[39m)\n\u001b[1;32m     66\u001b[0m \u001b[38;5;28;01mdef\u001b[39;00m \u001b[38;5;21mdescribe\u001b[39m(\u001b[38;5;28mself\u001b[39m) \u001b[38;5;241m-\u001b[39m\u001b[38;5;241m>\u001b[39m \u001b[38;5;28mdict\u001b[39m:\n\u001b[1;32m     67\u001b[0m \u001b[38;5;250m    \u001b[39m\u001b[38;5;124;03m\"\"\"\u001b[39;00m\n\u001b[1;32m     68\u001b[0m \u001b[38;5;124;03m    Get detailed metadata about a submitted batch job\u001b[39;00m\n\u001b[1;32m     69\u001b[0m \u001b[38;5;124;03m    (title, process graph, status, progress, ...).\u001b[39;00m\n\u001b[0;32m   (...)\u001b[0m\n\u001b[1;32m     72\u001b[0m \u001b[38;5;124;03m        This method was previously called :py:meth:`describe_job`.\u001b[39;00m\n\u001b[1;32m     73\u001b[0m \u001b[38;5;124;03m    \"\"\"\u001b[39;00m\n\u001b[0;32m---> 74\u001b[0m     \u001b[38;5;28;01mreturn\u001b[39;00m \u001b[38;5;28;43mself\u001b[39;49m\u001b[38;5;241;43m.\u001b[39;49m\u001b[43mconnection\u001b[49m\u001b[38;5;241;43m.\u001b[39;49m\u001b[43mget\u001b[49m\u001b[43m(\u001b[49m\u001b[38;5;124;43mf\u001b[39;49m\u001b[38;5;124;43m\"\u001b[39;49m\u001b[38;5;124;43m/jobs/\u001b[39;49m\u001b[38;5;132;43;01m{\u001b[39;49;00m\u001b[38;5;28;43mself\u001b[39;49m\u001b[38;5;241;43m.\u001b[39;49m\u001b[43mjob_id\u001b[49m\u001b[38;5;132;43;01m}\u001b[39;49;00m\u001b[38;5;124;43m\"\u001b[39;49m\u001b[43m,\u001b[49m\u001b[43m \u001b[49m\u001b[43mexpected_status\u001b[49m\u001b[38;5;241;43m=\u001b[39;49m\u001b[38;5;241;43m200\u001b[39;49m\u001b[43m)\u001b[49m\u001b[38;5;241m.\u001b[39mjson()\n",
      "File \u001b[0;32m~/.pyenv/versions/tensorlakehouse-openeo-tutorial/lib/python3.11/site-packages/openeo/rest/connection.py:239\u001b[0m, in \u001b[0;36mRestApiConnection.get\u001b[0;34m(self, path, stream, auth, **kwargs)\u001b[0m\n\u001b[1;32m    230\u001b[0m \u001b[38;5;28;01mdef\u001b[39;00m \u001b[38;5;21mget\u001b[39m(\u001b[38;5;28mself\u001b[39m, path: \u001b[38;5;28mstr\u001b[39m, stream: \u001b[38;5;28mbool\u001b[39m \u001b[38;5;241m=\u001b[39m \u001b[38;5;28;01mFalse\u001b[39;00m, auth: Optional[AuthBase] \u001b[38;5;241m=\u001b[39m \u001b[38;5;28;01mNone\u001b[39;00m, \u001b[38;5;241m*\u001b[39m\u001b[38;5;241m*\u001b[39mkwargs) \u001b[38;5;241m-\u001b[39m\u001b[38;5;241m>\u001b[39m Response:\n\u001b[1;32m    231\u001b[0m \u001b[38;5;250m    \u001b[39m\u001b[38;5;124;03m\"\"\"\u001b[39;00m\n\u001b[1;32m    232\u001b[0m \u001b[38;5;124;03m    Do GET request to REST API.\u001b[39;00m\n\u001b[1;32m    233\u001b[0m \n\u001b[0;32m   (...)\u001b[0m\n\u001b[1;32m    237\u001b[0m \u001b[38;5;124;03m    :return: response: Response\u001b[39;00m\n\u001b[1;32m    238\u001b[0m \u001b[38;5;124;03m    \"\"\"\u001b[39;00m\n\u001b[0;32m--> 239\u001b[0m     \u001b[38;5;28;01mreturn\u001b[39;00m \u001b[38;5;28;43mself\u001b[39;49m\u001b[38;5;241;43m.\u001b[39;49m\u001b[43mrequest\u001b[49m\u001b[43m(\u001b[49m\u001b[38;5;124;43m\"\u001b[39;49m\u001b[38;5;124;43mget\u001b[39;49m\u001b[38;5;124;43m\"\u001b[39;49m\u001b[43m,\u001b[49m\u001b[43m \u001b[49m\u001b[43mpath\u001b[49m\u001b[38;5;241;43m=\u001b[39;49m\u001b[43mpath\u001b[49m\u001b[43m,\u001b[49m\u001b[43m \u001b[49m\u001b[43mstream\u001b[49m\u001b[38;5;241;43m=\u001b[39;49m\u001b[43mstream\u001b[49m\u001b[43m,\u001b[49m\u001b[43m \u001b[49m\u001b[43mauth\u001b[49m\u001b[38;5;241;43m=\u001b[39;49m\u001b[43mauth\u001b[49m\u001b[43m,\u001b[49m\u001b[43m \u001b[49m\u001b[38;5;241;43m*\u001b[39;49m\u001b[38;5;241;43m*\u001b[39;49m\u001b[43mkwargs\u001b[49m\u001b[43m)\u001b[49m\n",
      "File \u001b[0;32m~/.pyenv/versions/tensorlakehouse-openeo-tutorial/lib/python3.11/site-packages/openeo/rest/connection.py:788\u001b[0m, in \u001b[0;36mConnection.request\u001b[0;34m(self, method, path, headers, auth, check_error, expected_status, **kwargs)\u001b[0m\n\u001b[1;32m    781\u001b[0m     \u001b[38;5;28;01mreturn\u001b[39;00m \u001b[38;5;28msuper\u001b[39m(Connection, \u001b[38;5;28mself\u001b[39m)\u001b[38;5;241m.\u001b[39mrequest(\n\u001b[1;32m    782\u001b[0m         method\u001b[38;5;241m=\u001b[39mmethod, path\u001b[38;5;241m=\u001b[39mpath, headers\u001b[38;5;241m=\u001b[39mheaders, auth\u001b[38;5;241m=\u001b[39mauth,\n\u001b[1;32m    783\u001b[0m         check_error\u001b[38;5;241m=\u001b[39mcheck_error, expected_status\u001b[38;5;241m=\u001b[39mexpected_status, \u001b[38;5;241m*\u001b[39m\u001b[38;5;241m*\u001b[39mkwargs,\n\u001b[1;32m    784\u001b[0m     )\n\u001b[1;32m    786\u001b[0m \u001b[38;5;28;01mtry\u001b[39;00m:\n\u001b[1;32m    787\u001b[0m     \u001b[38;5;66;03m# Initial request attempt\u001b[39;00m\n\u001b[0;32m--> 788\u001b[0m     \u001b[38;5;28;01mreturn\u001b[39;00m \u001b[43m_request\u001b[49m\u001b[43m(\u001b[49m\u001b[43m)\u001b[49m\n\u001b[1;32m    789\u001b[0m \u001b[38;5;28;01mexcept\u001b[39;00m OpenEoApiError \u001b[38;5;28;01mas\u001b[39;00m api_exc:\n\u001b[1;32m    790\u001b[0m     \u001b[38;5;28;01mif\u001b[39;00m api_exc\u001b[38;5;241m.\u001b[39mhttp_status_code \u001b[38;5;129;01min\u001b[39;00m {\u001b[38;5;241m401\u001b[39m, \u001b[38;5;241m403\u001b[39m} \u001b[38;5;129;01mand\u001b[39;00m api_exc\u001b[38;5;241m.\u001b[39mcode \u001b[38;5;241m==\u001b[39m \u001b[38;5;124m\"\u001b[39m\u001b[38;5;124mTokenInvalid\u001b[39m\u001b[38;5;124m\"\u001b[39m:\n\u001b[1;32m    791\u001b[0m         \u001b[38;5;66;03m# Auth token expired: can we refresh?\u001b[39;00m\n",
      "File \u001b[0;32m~/.pyenv/versions/tensorlakehouse-openeo-tutorial/lib/python3.11/site-packages/openeo/rest/connection.py:781\u001b[0m, in \u001b[0;36mConnection.request.<locals>._request\u001b[0;34m()\u001b[0m\n\u001b[1;32m    780\u001b[0m \u001b[38;5;28;01mdef\u001b[39;00m \u001b[38;5;21m_request\u001b[39m():\n\u001b[0;32m--> 781\u001b[0m     \u001b[38;5;28;01mreturn\u001b[39;00m \u001b[38;5;28;43msuper\u001b[39;49m\u001b[43m(\u001b[49m\u001b[43mConnection\u001b[49m\u001b[43m,\u001b[49m\u001b[43m \u001b[49m\u001b[38;5;28;43mself\u001b[39;49m\u001b[43m)\u001b[49m\u001b[38;5;241;43m.\u001b[39;49m\u001b[43mrequest\u001b[49m\u001b[43m(\u001b[49m\n\u001b[1;32m    782\u001b[0m \u001b[43m        \u001b[49m\u001b[43mmethod\u001b[49m\u001b[38;5;241;43m=\u001b[39;49m\u001b[43mmethod\u001b[49m\u001b[43m,\u001b[49m\u001b[43m \u001b[49m\u001b[43mpath\u001b[49m\u001b[38;5;241;43m=\u001b[39;49m\u001b[43mpath\u001b[49m\u001b[43m,\u001b[49m\u001b[43m \u001b[49m\u001b[43mheaders\u001b[49m\u001b[38;5;241;43m=\u001b[39;49m\u001b[43mheaders\u001b[49m\u001b[43m,\u001b[49m\u001b[43m \u001b[49m\u001b[43mauth\u001b[49m\u001b[38;5;241;43m=\u001b[39;49m\u001b[43mauth\u001b[49m\u001b[43m,\u001b[49m\n\u001b[1;32m    783\u001b[0m \u001b[43m        \u001b[49m\u001b[43mcheck_error\u001b[49m\u001b[38;5;241;43m=\u001b[39;49m\u001b[43mcheck_error\u001b[49m\u001b[43m,\u001b[49m\u001b[43m \u001b[49m\u001b[43mexpected_status\u001b[49m\u001b[38;5;241;43m=\u001b[39;49m\u001b[43mexpected_status\u001b[49m\u001b[43m,\u001b[49m\u001b[43m \u001b[49m\u001b[38;5;241;43m*\u001b[39;49m\u001b[38;5;241;43m*\u001b[39;49m\u001b[43mkwargs\u001b[49m\u001b[43m,\u001b[49m\n\u001b[1;32m    784\u001b[0m \u001b[43m    \u001b[49m\u001b[43m)\u001b[49m\n",
      "File \u001b[0;32m~/.pyenv/versions/tensorlakehouse-openeo-tutorial/lib/python3.11/site-packages/openeo/rest/connection.py:166\u001b[0m, in \u001b[0;36mRestApiConnection.request\u001b[0;34m(self, method, path, headers, auth, check_error, expected_status, **kwargs)\u001b[0m\n\u001b[1;32m    162\u001b[0m     _log\u001b[38;5;241m.\u001b[39mdebug(\u001b[38;5;124m\"\u001b[39m\u001b[38;5;124mRequest `\u001b[39m\u001b[38;5;132;01m{m}\u001b[39;00m\u001b[38;5;124m \u001b[39m\u001b[38;5;132;01m{u}\u001b[39;00m\u001b[38;5;124m` with headers \u001b[39m\u001b[38;5;132;01m{h}\u001b[39;00m\u001b[38;5;124m, auth \u001b[39m\u001b[38;5;132;01m{a}\u001b[39;00m\u001b[38;5;124m, kwargs \u001b[39m\u001b[38;5;132;01m{k}\u001b[39;00m\u001b[38;5;124m\"\u001b[39m\u001b[38;5;241m.\u001b[39mformat(\n\u001b[1;32m    163\u001b[0m         m\u001b[38;5;241m=\u001b[39mmethod\u001b[38;5;241m.\u001b[39mupper(), u\u001b[38;5;241m=\u001b[39murl, h\u001b[38;5;241m=\u001b[39mheaders \u001b[38;5;129;01mand\u001b[39;00m headers\u001b[38;5;241m.\u001b[39mkeys(), a\u001b[38;5;241m=\u001b[39m\u001b[38;5;28mtype\u001b[39m(auth)\u001b[38;5;241m.\u001b[39m\u001b[38;5;18m__name__\u001b[39m, k\u001b[38;5;241m=\u001b[39m\u001b[38;5;28mlist\u001b[39m(kwargs\u001b[38;5;241m.\u001b[39mkeys()))\n\u001b[1;32m    164\u001b[0m     )\n\u001b[1;32m    165\u001b[0m \u001b[38;5;28;01mwith\u001b[39;00m ContextTimer() \u001b[38;5;28;01mas\u001b[39;00m timer:\n\u001b[0;32m--> 166\u001b[0m     resp \u001b[38;5;241m=\u001b[39m \u001b[38;5;28;43mself\u001b[39;49m\u001b[38;5;241;43m.\u001b[39;49m\u001b[43msession\u001b[49m\u001b[38;5;241;43m.\u001b[39;49m\u001b[43mrequest\u001b[49m\u001b[43m(\u001b[49m\n\u001b[1;32m    167\u001b[0m \u001b[43m        \u001b[49m\u001b[43mmethod\u001b[49m\u001b[38;5;241;43m=\u001b[39;49m\u001b[43mmethod\u001b[49m\u001b[43m,\u001b[49m\n\u001b[1;32m    168\u001b[0m \u001b[43m        \u001b[49m\u001b[43murl\u001b[49m\u001b[38;5;241;43m=\u001b[39;49m\u001b[43murl\u001b[49m\u001b[43m,\u001b[49m\n\u001b[1;32m    169\u001b[0m \u001b[43m        \u001b[49m\u001b[43mheaders\u001b[49m\u001b[38;5;241;43m=\u001b[39;49m\u001b[38;5;28;43mself\u001b[39;49m\u001b[38;5;241;43m.\u001b[39;49m\u001b[43m_merged_headers\u001b[49m\u001b[43m(\u001b[49m\u001b[43mheaders\u001b[49m\u001b[43m)\u001b[49m\u001b[43m,\u001b[49m\n\u001b[1;32m    170\u001b[0m \u001b[43m        \u001b[49m\u001b[43mauth\u001b[49m\u001b[38;5;241;43m=\u001b[39;49m\u001b[43mauth\u001b[49m\u001b[43m,\u001b[49m\n\u001b[1;32m    171\u001b[0m \u001b[43m        \u001b[49m\u001b[43mtimeout\u001b[49m\u001b[38;5;241;43m=\u001b[39;49m\u001b[43mkwargs\u001b[49m\u001b[38;5;241;43m.\u001b[39;49m\u001b[43mpop\u001b[49m\u001b[43m(\u001b[49m\u001b[38;5;124;43m\"\u001b[39;49m\u001b[38;5;124;43mtimeout\u001b[39;49m\u001b[38;5;124;43m\"\u001b[39;49m\u001b[43m,\u001b[49m\u001b[43m \u001b[49m\u001b[38;5;28;43mself\u001b[39;49m\u001b[38;5;241;43m.\u001b[39;49m\u001b[43mdefault_timeout\u001b[49m\u001b[43m)\u001b[49m\u001b[43m,\u001b[49m\n\u001b[1;32m    172\u001b[0m \u001b[43m        \u001b[49m\u001b[38;5;241;43m*\u001b[39;49m\u001b[38;5;241;43m*\u001b[39;49m\u001b[43mkwargs\u001b[49m\n\u001b[1;32m    173\u001b[0m \u001b[43m    \u001b[49m\u001b[43m)\u001b[49m\n\u001b[1;32m    174\u001b[0m \u001b[38;5;28;01mif\u001b[39;00m slow_response_threshold \u001b[38;5;129;01mand\u001b[39;00m timer\u001b[38;5;241m.\u001b[39melapsed() \u001b[38;5;241m>\u001b[39m slow_response_threshold:\n\u001b[1;32m    175\u001b[0m     _log\u001b[38;5;241m.\u001b[39mwarning(\u001b[38;5;124m\"\u001b[39m\u001b[38;5;124mSlow response: `\u001b[39m\u001b[38;5;132;01m{m}\u001b[39;00m\u001b[38;5;124m \u001b[39m\u001b[38;5;132;01m{u}\u001b[39;00m\u001b[38;5;124m` took \u001b[39m\u001b[38;5;132;01m{e:.2f}\u001b[39;00m\u001b[38;5;124ms (>\u001b[39m\u001b[38;5;132;01m{t:.2f}\u001b[39;00m\u001b[38;5;124ms)\u001b[39m\u001b[38;5;124m\"\u001b[39m\u001b[38;5;241m.\u001b[39mformat(\n\u001b[1;32m    176\u001b[0m         m\u001b[38;5;241m=\u001b[39mmethod\u001b[38;5;241m.\u001b[39mupper(), u\u001b[38;5;241m=\u001b[39mstr_truncate(url, width\u001b[38;5;241m=\u001b[39m\u001b[38;5;241m64\u001b[39m),\n\u001b[1;32m    177\u001b[0m         e\u001b[38;5;241m=\u001b[39mtimer\u001b[38;5;241m.\u001b[39melapsed(), t\u001b[38;5;241m=\u001b[39mslow_response_threshold\n\u001b[1;32m    178\u001b[0m     ))\n",
      "File \u001b[0;32m~/.pyenv/versions/tensorlakehouse-openeo-tutorial/lib/python3.11/site-packages/requests/sessions.py:589\u001b[0m, in \u001b[0;36mSession.request\u001b[0;34m(self, method, url, params, data, headers, cookies, files, auth, timeout, allow_redirects, proxies, hooks, stream, verify, cert, json)\u001b[0m\n\u001b[1;32m    584\u001b[0m send_kwargs \u001b[38;5;241m=\u001b[39m {\n\u001b[1;32m    585\u001b[0m     \u001b[38;5;124m\"\u001b[39m\u001b[38;5;124mtimeout\u001b[39m\u001b[38;5;124m\"\u001b[39m: timeout,\n\u001b[1;32m    586\u001b[0m     \u001b[38;5;124m\"\u001b[39m\u001b[38;5;124mallow_redirects\u001b[39m\u001b[38;5;124m\"\u001b[39m: allow_redirects,\n\u001b[1;32m    587\u001b[0m }\n\u001b[1;32m    588\u001b[0m send_kwargs\u001b[38;5;241m.\u001b[39mupdate(settings)\n\u001b[0;32m--> 589\u001b[0m resp \u001b[38;5;241m=\u001b[39m \u001b[38;5;28;43mself\u001b[39;49m\u001b[38;5;241;43m.\u001b[39;49m\u001b[43msend\u001b[49m\u001b[43m(\u001b[49m\u001b[43mprep\u001b[49m\u001b[43m,\u001b[49m\u001b[43m \u001b[49m\u001b[38;5;241;43m*\u001b[39;49m\u001b[38;5;241;43m*\u001b[39;49m\u001b[43msend_kwargs\u001b[49m\u001b[43m)\u001b[49m\n\u001b[1;32m    591\u001b[0m \u001b[38;5;28;01mreturn\u001b[39;00m resp\n",
      "File \u001b[0;32m~/.pyenv/versions/tensorlakehouse-openeo-tutorial/lib/python3.11/site-packages/requests/sessions.py:703\u001b[0m, in \u001b[0;36mSession.send\u001b[0;34m(self, request, **kwargs)\u001b[0m\n\u001b[1;32m    700\u001b[0m start \u001b[38;5;241m=\u001b[39m preferred_clock()\n\u001b[1;32m    702\u001b[0m \u001b[38;5;66;03m# Send the request\u001b[39;00m\n\u001b[0;32m--> 703\u001b[0m r \u001b[38;5;241m=\u001b[39m \u001b[43madapter\u001b[49m\u001b[38;5;241;43m.\u001b[39;49m\u001b[43msend\u001b[49m\u001b[43m(\u001b[49m\u001b[43mrequest\u001b[49m\u001b[43m,\u001b[49m\u001b[43m \u001b[49m\u001b[38;5;241;43m*\u001b[39;49m\u001b[38;5;241;43m*\u001b[39;49m\u001b[43mkwargs\u001b[49m\u001b[43m)\u001b[49m\n\u001b[1;32m    705\u001b[0m \u001b[38;5;66;03m# Total elapsed time of the request (approximately)\u001b[39;00m\n\u001b[1;32m    706\u001b[0m elapsed \u001b[38;5;241m=\u001b[39m preferred_clock() \u001b[38;5;241m-\u001b[39m start\n",
      "File \u001b[0;32m~/.pyenv/versions/tensorlakehouse-openeo-tutorial/lib/python3.11/site-packages/requests/adapters.py:682\u001b[0m, in \u001b[0;36mHTTPAdapter.send\u001b[0;34m(self, request, stream, timeout, verify, cert, proxies)\u001b[0m\n\u001b[1;32m    667\u001b[0m     resp \u001b[38;5;241m=\u001b[39m conn\u001b[38;5;241m.\u001b[39murlopen(\n\u001b[1;32m    668\u001b[0m         method\u001b[38;5;241m=\u001b[39mrequest\u001b[38;5;241m.\u001b[39mmethod,\n\u001b[1;32m    669\u001b[0m         url\u001b[38;5;241m=\u001b[39murl,\n\u001b[0;32m   (...)\u001b[0m\n\u001b[1;32m    678\u001b[0m         chunked\u001b[38;5;241m=\u001b[39mchunked,\n\u001b[1;32m    679\u001b[0m     )\n\u001b[1;32m    681\u001b[0m \u001b[38;5;28;01mexcept\u001b[39;00m (ProtocolError, \u001b[38;5;167;01mOSError\u001b[39;00m) \u001b[38;5;28;01mas\u001b[39;00m err:\n\u001b[0;32m--> 682\u001b[0m     \u001b[38;5;28;01mraise\u001b[39;00m \u001b[38;5;167;01mConnectionError\u001b[39;00m(err, request\u001b[38;5;241m=\u001b[39mrequest)\n\u001b[1;32m    684\u001b[0m \u001b[38;5;28;01mexcept\u001b[39;00m MaxRetryError \u001b[38;5;28;01mas\u001b[39;00m e:\n\u001b[1;32m    685\u001b[0m     \u001b[38;5;28;01mif\u001b[39;00m \u001b[38;5;28misinstance\u001b[39m(e\u001b[38;5;241m.\u001b[39mreason, ConnectTimeoutError):\n\u001b[1;32m    686\u001b[0m         \u001b[38;5;66;03m# TODO: Remove this in 3.0.0: see #2811\u001b[39;00m\n",
      "\u001b[0;31mConnectionError\u001b[0m: ('Connection aborted.', RemoteDisconnected('Remote end closed connection without response'))"
     ]
    }
   ],
   "source": [
    "# create a batch jobs\n",
    "job = cube.create_job(out_format=output_format)\n",
    "job_status = job.status()\n",
    "job_id = job.job_id\n",
    "# create a directory to store the results\n",
    "output_dir = data_dir / f\"test_batch_jobs_{job_id}\"\n",
    "if not output_dir.exists():\n",
    "    output_dir.mkdir()\n",
    "# while jobs is still in progress, wait for it\n",
    "while job_status not in [\"canceled\", \"finished\", \"error\"]:\n",
    "    time.sleep(30)\n",
    "    job_status = job.status()\n",
    "    print(f\"{job_status=}\")\n",
    "# get results\n",
    "results = job.get_results()\n",
    "# download files\n",
    "results.download_files(output_dir)\n",
    "print(f\"Downloaded to {output_dir} directory\")"
   ]
  },
  {
   "cell_type": "markdown",
   "id": "c14312a3-e19f-4747-af24-eed1f9b56d3a",
   "metadata": {},
   "source": [
    "### List files, open the netcdf file and plot the image"
   ]
  },
  {
   "cell_type": "code",
   "execution_count": null,
   "id": "ce27c762-00bc-4033-b16f-6f681a85f95b",
   "metadata": {},
   "outputs": [],
   "source": [
    "downloaded_files = list(output_dir.glob(\"*\"))\n",
    "downloaded_files"
   ]
  },
  {
   "cell_type": "code",
   "execution_count": null,
   "id": "69ffd3b7",
   "metadata": {},
   "outputs": [],
   "source": [
    "# listing all netcdf files\n",
    "netcdf_files = [f for f in downloaded_files if f.suffix == \".nc\"]\n",
    "ds = xr.open_dataset(netcdf_files[0])\n",
    "ds"
   ]
  },
  {
   "cell_type": "code",
   "execution_count": null,
   "id": "272c5606-ab8c-40b9-b68d-130a51ef250e",
   "metadata": {},
   "outputs": [],
   "source": [
    "ds.time.values"
   ]
  },
  {
   "cell_type": "code",
   "execution_count": null,
   "id": "c30dbe6a",
   "metadata": {},
   "outputs": [],
   "source": [
    "# open all raster files and concatenate\n",
    "\n",
    "da = ds[bands[0]]\n",
    "da.isel({\"time\":0}).plot()"
   ]
  },
  {
   "cell_type": "code",
   "execution_count": null,
   "id": "13e53717-5599-445b-9ad3-fdcdff751380",
   "metadata": {},
   "outputs": [],
   "source": []
  },
  {
   "cell_type": "code",
   "execution_count": null,
   "id": "20993519-fe12-4f85-a854-c61f2e326a3c",
   "metadata": {},
   "outputs": [],
   "source": []
  }
 ],
 "metadata": {
  "kernelspec": {
   "display_name": "Python 3 (ipykernel)",
   "language": "python",
   "name": "python3"
  },
  "language_info": {
   "codemirror_mode": {
    "name": "ipython",
    "version": 3
   },
   "file_extension": ".py",
   "mimetype": "text/x-python",
   "name": "python",
   "nbconvert_exporter": "python",
   "pygments_lexer": "ipython3",
   "version": "3.11.7"
  }
 },
 "nbformat": 4,
 "nbformat_minor": 5
}
