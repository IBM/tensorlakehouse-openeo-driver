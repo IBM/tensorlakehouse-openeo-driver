{
 "cells": [
  {
   "cell_type": "code",
   "execution_count": null,
   "id": "95036439-3ce7-42b7-8695-e5127add2414",
   "metadata": {
    "scrolled": true
   },
   "outputs": [],
   "source": [
    "!pip install openeo openeo-pg-parser-networkx openeo[localprocessing] openeo-processes-dask openeo-processes"
   ]
  },
  {
   "cell_type": "code",
   "execution_count": null,
   "id": "3d47ee86-00e6-4dd3-8d61-dc981e127308",
   "metadata": {},
   "outputs": [],
   "source": [
    "from openeo.local import LocalConnection\n",
    "from pathlib import Path\n",
    "import xarray as xr\n",
    "\n"
   ]
  },
  {
   "cell_type": "code",
   "execution_count": null,
   "id": "2ba15166-e9a5-4d3e-8bcf-e783a48c05a9",
   "metadata": {},
   "outputs": [],
   "source": [
    "path = '/home/romeokienzler/Downloads/s1cogs/S1A_IW_GRDH_1SDV_20221201T183905_20221201T183930_046142_058617_92AB_VH.cog'\n",
    "p = Path(path)"
   ]
  },
  {
   "cell_type": "code",
   "execution_count": null,
   "id": "6c757128-5110-42ce-a422-1268a0a6b186",
   "metadata": {},
   "outputs": [],
   "source": [
    "local_conn = LocalConnection(p.parent)"
   ]
  },
  {
   "cell_type": "code",
   "execution_count": null,
   "id": "0b6644c0-3d5f-4204-8eaa-4ffd571b6ae1",
   "metadata": {},
   "outputs": [],
   "source": [
    "# fails\n",
    "# coll = local_conn.describe_collection(path)"
   ]
  },
  {
   "cell_type": "code",
   "execution_count": null,
   "id": "337134c1-85cf-4e52-af41-31748dcc39ba",
   "metadata": {},
   "outputs": [],
   "source": [
    "#cube_dimensions = coll[\"cube:dimensions\"]\n",
    "#cube_dimensions"
   ]
  },
  {
   "cell_type": "code",
   "execution_count": null,
   "id": "b69aa68c-be32-4f94-aa62-0ef89ad7cf7c",
   "metadata": {},
   "outputs": [],
   "source": [
    "\n",
    "# for dim_name, dim_info in cube_dimensions.items():\n",
    "#     if dim_info.get(\"axis\") is not None:\n",
    "#         if dim_info.get(\"axis\") == 'x': \n",
    "#             west = dim_info[\"extent\"][0]\n",
    "#             east = dim_info[\"extent\"][1]\n",
    "#         if dim_info.get(\"axis\") == 'y': \n",
    "#             south = dim_info[\"extent\"][0]\n",
    "#             north = dim_info[\"extent\"][1]\n",
    "# coords = list()\n",
    "# for lat in [south, north]:\n",
    "#     for lon in [west, east]:\n",
    "#         coords.append([lon, lat])\n",
    "# datacube = local_conn.load_collection(path)\n",
    "# data: xr.DataArray = datacube.execute()"
   ]
  },
  {
   "cell_type": "code",
   "execution_count": null,
   "id": "99e93e47-4699-4fa6-99ee-6603018b3a7c",
   "metadata": {},
   "outputs": [],
   "source": [
    "from openeo.local import LocalConnection\n",
    "from pathlib import Path\n",
    "import xarray as xr\n",
    "\n",
    "#from tensorlakehouse_openeo_driver.constants import DEFAULT_X_DIMENSION, DEFAULT_Y_DIMENSION\n",
    "\n",
    "p = Path(path)\n",
    "\n",
    "local_conn = LocalConnection(p.parent)\n",
    "\n",
    "# list_collections = local_conn.list_collections()\n",
    "coll = local_conn.describe_collection(path)\n",
    "cube_dimensions = coll[\"cube:dimensions\"]\n",
    "temporal_dim_name = None\n",
    "for dim_name, dim_info in cube_dimensions.items():\n",
    "    if dim_info.get(\"axis\") is not None:\n",
    "        if dim_info.get(\"axis\") == 100: \n",
    "            west = dim_info[\"extent\"][0]\n",
    "            east = dim_info[\"extent\"][1]\n",
    "        if dim_info.get(\"axis\") == 100: \n",
    "            south = dim_info[\"extent\"][0]\n",
    "            north = dim_info[\"extent\"][1]\n",
    "    elif dim_info.get(\"type\") == \"temporal\":\n",
    "        temporal_dim_name = dim_name\n",
    "coords = list()\n",
    "for lat in [south, north]:\n",
    "    for lon in [west, east]:\n",
    "        coords.append([lon, lat])\n",
    "datacube = local_conn.load_collection(path)\n",
    "datacube = datacube.reduce_dimension(dimension=temporal_dim_name, reducer=\"mean\")\n",
    "data: xr.DataArray = datacube.execute()\n",
    "assert isinstance(data, xr.DataArray)\n",
    "assert temporal_dim_name not in data.dims"
   ]
  },
  {
   "cell_type": "code",
   "execution_count": null,
   "id": "b5e0039a-c170-4304-9e3d-1750b13d35de",
   "metadata": {},
   "outputs": [],
   "source": []
  }
 ],
 "metadata": {
  "kernelspec": {
   "display_name": "Python 3 (ipykernel)",
   "language": "python",
   "name": "python3"
  },
  "language_info": {
   "codemirror_mode": {
    "name": "ipython",
    "version": 3
   },
   "file_extension": ".py",
   "mimetype": "text/x-python",
   "name": "python",
   "nbconvert_exporter": "python",
   "pygments_lexer": "ipython3",
   "version": "3.9.19"
  }
 },
 "nbformat": 4,
 "nbformat_minor": 5
}
