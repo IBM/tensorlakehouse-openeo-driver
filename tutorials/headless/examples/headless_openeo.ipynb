{
 "cells": [
  {
   "cell_type": "code",
   "execution_count": null,
   "id": "95036439-3ce7-42b7-8695-e5127add2414",
   "metadata": {
    "ExecuteTime": {
     "end_time": "2025-01-07T10:42:10.815393Z",
     "start_time": "2025-01-07T10:42:09.643308Z"
    },
    "scrolled": true
   },
   "outputs": [],
   "source": [
    "!pip install openeo openeo-pg-parser-networkx openeo[localprocessing] openeo-processes-dask openeo-processes"
   ]
  },
  {
   "cell_type": "code",
   "execution_count": null,
   "id": "81dcfce4-5562-4254-a7bb-e225ca87ce62",
   "metadata": {},
   "outputs": [],
   "source": [
    "from openeo.local import LocalConnection\n",
    "local_conn = LocalConnection(\"./\")\n",
    "\n",
    "url = \"https://earth-search.aws.element84.com/v1/collections/sentinel-2-l2a\"\n",
    "spatial_extent = {\"west\": 11, \"east\": 12, \"south\": 46, \"north\": 47}\n",
    "temporal_extent = [\"2019-01-01\", \"2019-06-15\"]\n",
    "bands = [\"red\"]\n",
    "properties = {\"eo:cloud_cover\": dict(lt=50)}\n",
    "s2_cube = local_conn.load_stac(url=url,\n",
    "    spatial_extent=spatial_extent,\n",
    "    temporal_extent=temporal_extent,\n",
    "    bands=bands,\n",
    "    properties=properties,\n",
    ")\n",
    "s2_cube.execute()\n"
   ]
  },
  {
   "cell_type": "code",
   "execution_count": null,
   "id": "b5e0039a-c170-4304-9e3d-1750b13d35de",
   "metadata": {},
   "outputs": [],
   "source": [
    "!git clone https://github.com/Open-EO/openeo-localprocessing-data.git\n"
   ]
  },
  {
   "cell_type": "code",
   "execution_count": null,
   "id": "76a2cbd7-cb4f-4523-8475-bd7967fa664c",
   "metadata": {},
   "outputs": [],
   "source": [
    "from openeo.local import LocalConnection\n",
    "local_data_folders = [\n",
    "   \"./openeo-localprocessing-data/sample_netcdf\",\n",
    "   \"./openeo-localprocessing-data/sample_geotiff\",\n",
    "]\n",
    "local_conn = LocalConnection(local_data_folders)\n",
    "local_conn.list_collections()\n"
   ]
  }
 ],
 "metadata": {
  "kernelspec": {
   "display_name": "Python 3 (ipykernel)",
   "language": "python",
   "name": "python3"
  },
  "language_info": {
   "codemirror_mode": {
    "name": "ipython",
    "version": 3
   },
   "file_extension": ".py",
   "mimetype": "text/x-python",
   "name": "python",
   "nbconvert_exporter": "python",
   "pygments_lexer": "ipython3",
   "version": "3.11.10"
  }
 },
 "nbformat": 4,
 "nbformat_minor": 5
}
