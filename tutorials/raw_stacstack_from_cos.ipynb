{
 "cells": [
  {
   "cell_type": "markdown",
   "id": "a424eb9d-8b00-4fce-a283-7fa787ac2d7f",
   "metadata": {},
   "source": [
    "Creates a lazy xarray from a STAC collection and saves the result to a COG file"
   ]
  },
  {
   "cell_type": "code",
   "execution_count": 1,
   "id": "55391c1a-8d7b-4f98-8e7c-b7b06499c270",
   "metadata": {
    "scrolled": true
   },
   "outputs": [
    {
     "name": "stdout",
     "output_type": "stream",
     "text": [
      "Requirement already satisfied: boto3 in /Users/ltizzei/.pyenv/versions/tlh/lib/python3.11/site-packages (1.26.161)\n",
      "Requirement already satisfied: rasterio in /Users/ltizzei/.pyenv/versions/tlh/lib/python3.11/site-packages (1.4.3)\n",
      "Requirement already satisfied: stackstac in /Users/ltizzei/.pyenv/versions/tlh/lib/python3.11/site-packages (0.4.4)\n",
      "Requirement already satisfied: pystac in /Users/ltizzei/.pyenv/versions/tlh/lib/python3.11/site-packages (1.12.1)\n",
      "Requirement already satisfied: pystac_client in /Users/ltizzei/.pyenv/versions/tlh/lib/python3.11/site-packages (0.8.5)\n",
      "Requirement already satisfied: numpy in /Users/ltizzei/.pyenv/versions/tlh/lib/python3.11/site-packages (1.26.4)\n",
      "Requirement already satisfied: rioxarray in /Users/ltizzei/.pyenv/versions/tlh/lib/python3.11/site-packages (0.17.0)\n",
      "Requirement already satisfied: python-dotenv in /Users/ltizzei/.pyenv/versions/tlh/lib/python3.11/site-packages (1.0.1)\n",
      "Requirement already satisfied: botocore<1.30.0,>=1.29.161 in /Users/ltizzei/.pyenv/versions/tlh/lib/python3.11/site-packages (from boto3) (1.29.161)\n",
      "Requirement already satisfied: jmespath<2.0.0,>=0.7.1 in /Users/ltizzei/.pyenv/versions/tlh/lib/python3.11/site-packages (from boto3) (1.0.1)\n",
      "Requirement already satisfied: s3transfer<0.7.0,>=0.6.0 in /Users/ltizzei/.pyenv/versions/tlh/lib/python3.11/site-packages (from boto3) (0.6.2)\n",
      "Requirement already satisfied: affine in /Users/ltizzei/.pyenv/versions/tlh/lib/python3.11/site-packages (from rasterio) (2.4.0)\n",
      "Requirement already satisfied: attrs in /Users/ltizzei/.pyenv/versions/tlh/lib/python3.11/site-packages (from rasterio) (25.1.0)\n",
      "Requirement already satisfied: certifi in /Users/ltizzei/.pyenv/versions/tlh/lib/python3.11/site-packages (from rasterio) (2025.1.31)\n",
      "Requirement already satisfied: click>=4.0 in /Users/ltizzei/.pyenv/versions/tlh/lib/python3.11/site-packages (from rasterio) (8.1.8)\n",
      "Requirement already satisfied: cligj>=0.5 in /Users/ltizzei/.pyenv/versions/tlh/lib/python3.11/site-packages (from rasterio) (0.7.2)\n",
      "Requirement already satisfied: click-plugins in /Users/ltizzei/.pyenv/versions/tlh/lib/python3.11/site-packages (from rasterio) (1.1.1)\n",
      "Requirement already satisfied: pyparsing in /Users/ltizzei/.pyenv/versions/tlh/lib/python3.11/site-packages (from rasterio) (3.2.1)\n",
      "Requirement already satisfied: dask>=2022.1.1 in /Users/ltizzei/.pyenv/versions/tlh/lib/python3.11/site-packages (from dask[array]>=2022.1.1->stackstac) (2024.9.1)\n",
      "Requirement already satisfied: pyproj<4.0.0,>=3.0.0 in /Users/ltizzei/.pyenv/versions/tlh/lib/python3.11/site-packages (from stackstac) (3.5.0)\n",
      "Requirement already satisfied: xarray>=0.18 in /Users/ltizzei/.pyenv/versions/tlh/lib/python3.11/site-packages (from stackstac) (2023.4.2)\n",
      "Requirement already satisfied: python-dateutil>=2.7.0 in /Users/ltizzei/.pyenv/versions/tlh/lib/python3.11/site-packages (from pystac) (2.9.0.post0)\n",
      "Requirement already satisfied: requests>=2.28.2 in /Users/ltizzei/.pyenv/versions/tlh/lib/python3.11/site-packages (from pystac_client) (2.32.2)\n",
      "Requirement already satisfied: packaging in /Users/ltizzei/.pyenv/versions/tlh/lib/python3.11/site-packages (from rioxarray) (24.2)\n",
      "Requirement already satisfied: urllib3<1.27,>=1.25.4 in /Users/ltizzei/.pyenv/versions/tlh/lib/python3.11/site-packages (from botocore<1.30.0,>=1.29.161->boto3) (1.26.20)\n",
      "Requirement already satisfied: cloudpickle>=3.0.0 in /Users/ltizzei/.pyenv/versions/tlh/lib/python3.11/site-packages (from dask>=2022.1.1->dask[array]>=2022.1.1->stackstac) (3.1.1)\n",
      "Requirement already satisfied: fsspec>=2021.09.0 in /Users/ltizzei/.pyenv/versions/tlh/lib/python3.11/site-packages (from dask>=2022.1.1->dask[array]>=2022.1.1->stackstac) (2023.6.0)\n",
      "Requirement already satisfied: partd>=1.4.0 in /Users/ltizzei/.pyenv/versions/tlh/lib/python3.11/site-packages (from dask>=2022.1.1->dask[array]>=2022.1.1->stackstac) (1.4.2)\n",
      "Requirement already satisfied: pyyaml>=5.3.1 in /Users/ltizzei/.pyenv/versions/tlh/lib/python3.11/site-packages (from dask>=2022.1.1->dask[array]>=2022.1.1->stackstac) (6.0.2)\n",
      "Requirement already satisfied: toolz>=0.10.0 in /Users/ltizzei/.pyenv/versions/tlh/lib/python3.11/site-packages (from dask>=2022.1.1->dask[array]>=2022.1.1->stackstac) (1.0.0)\n",
      "Requirement already satisfied: importlib-metadata>=4.13.0 in /Users/ltizzei/.pyenv/versions/tlh/lib/python3.11/site-packages (from dask>=2022.1.1->dask[array]>=2022.1.1->stackstac) (8.6.1)\n",
      "Requirement already satisfied: jsonschema~=4.18 in /Users/ltizzei/.pyenv/versions/tlh/lib/python3.11/site-packages (from pystac[validation]>=1.10.0->pystac_client) (4.23.0)\n",
      "Requirement already satisfied: six>=1.5 in /Users/ltizzei/.pyenv/versions/tlh/lib/python3.11/site-packages (from python-dateutil>=2.7.0->pystac) (1.16.0)\n",
      "Requirement already satisfied: charset-normalizer<4,>=2 in /Users/ltizzei/.pyenv/versions/tlh/lib/python3.11/site-packages (from requests>=2.28.2->pystac_client) (3.4.1)\n",
      "Requirement already satisfied: idna<4,>=2.5 in /Users/ltizzei/.pyenv/versions/tlh/lib/python3.11/site-packages (from requests>=2.28.2->pystac_client) (3.10)\n",
      "Requirement already satisfied: pandas>=1.4 in /Users/ltizzei/.pyenv/versions/tlh/lib/python3.11/site-packages (from xarray>=0.18->stackstac) (2.2.3)\n",
      "Requirement already satisfied: zipp>=3.20 in /Users/ltizzei/.pyenv/versions/tlh/lib/python3.11/site-packages (from importlib-metadata>=4.13.0->dask>=2022.1.1->dask[array]>=2022.1.1->stackstac) (3.21.0)\n",
      "Requirement already satisfied: jsonschema-specifications>=2023.03.6 in /Users/ltizzei/.pyenv/versions/tlh/lib/python3.11/site-packages (from jsonschema~=4.18->pystac[validation]>=1.10.0->pystac_client) (2024.10.1)\n",
      "Requirement already satisfied: referencing>=0.28.4 in /Users/ltizzei/.pyenv/versions/tlh/lib/python3.11/site-packages (from jsonschema~=4.18->pystac[validation]>=1.10.0->pystac_client) (0.36.2)\n",
      "Requirement already satisfied: rpds-py>=0.7.1 in /Users/ltizzei/.pyenv/versions/tlh/lib/python3.11/site-packages (from jsonschema~=4.18->pystac[validation]>=1.10.0->pystac_client) (0.22.3)\n",
      "Requirement already satisfied: pytz>=2020.1 in /Users/ltizzei/.pyenv/versions/tlh/lib/python3.11/site-packages (from pandas>=1.4->xarray>=0.18->stackstac) (2025.1)\n",
      "Requirement already satisfied: tzdata>=2022.7 in /Users/ltizzei/.pyenv/versions/tlh/lib/python3.11/site-packages (from pandas>=1.4->xarray>=0.18->stackstac) (2025.1)\n",
      "Requirement already satisfied: locket in /Users/ltizzei/.pyenv/versions/tlh/lib/python3.11/site-packages (from partd>=1.4.0->dask>=2022.1.1->dask[array]>=2022.1.1->stackstac) (1.0.0)\n",
      "Requirement already satisfied: typing-extensions>=4.4.0 in /Users/ltizzei/.pyenv/versions/tlh/lib/python3.11/site-packages (from referencing>=0.28.4->jsonschema~=4.18->pystac[validation]>=1.10.0->pystac_client) (4.12.2)\n"
     ]
    }
   ],
   "source": [
    "!pip install boto3 rasterio stackstac pystac pystac_client numpy rioxarray python-dotenv"
   ]
  },
  {
   "cell_type": "code",
   "execution_count": 2,
   "id": "801140c2-1260-446b-8dad-2ad01d9f58c2",
   "metadata": {},
   "outputs": [],
   "source": [
    "from boto3.session import Session\n",
    "from rasterio.session import AWSSession\n",
    "import stackstac\n",
    "import pystac\n",
    "import os\n",
    "import rioxarray\n",
    "from dotenv import load_dotenv"
   ]
  },
  {
   "cell_type": "code",
   "execution_count": 3,
   "id": "3089bf61-ce00-4944-9df2-4f756e12ce96",
   "metadata": {},
   "outputs": [
    {
     "name": "stdout",
     "output_type": "stream",
     "text": [
      "cannot find .env file\n"
     ]
    }
   ],
   "source": [
    "%load_ext dotenv\n",
    "%dotenv raw_stacstack_from_cos.credentials\n",
    "%dotenv raw_stacstack_from_cos.env\n",
    "\n",
    "aws_access_key_id=os.environ.get('aws_access_key_id')\n",
    "aws_secret_access_key=os.environ.get('aws_secret_access_key')\n",
    "cos_endpoint_url=os.environ.get('cos_endpoint_url')\n",
    "stac_endpoint=os.environ.get('stac_endpoint')\n",
    "collection_id=os.environ.get('collection_id')\n",
    "\n",
    "# cog file target location (path/)filename.cog\n",
    "save_to=os.environ.get('save_to',\"cogfile.cog\")\n",
    "\n",
    "# limit number of returned stac items\n",
    "limit=int(os.environ.get('limit', '2'))"
   ]
  },
  {
   "cell_type": "code",
   "execution_count": 4,
   "id": "91e71af0-6425-4180-9f3a-c99c5a84766b",
   "metadata": {},
   "outputs": [
    {
     "ename": "APIError",
     "evalue": "<html>\r\n  <head>\r\n    <meta name=\"viewport\" content=\"width=device-width, initial-scale=1\">\r\n\r\n    <style type=\"text/css\">\r\n      body {\r\n        font-family: \"Helvetica Neue\", Helvetica, Arial, sans-serif;\r\n        line-height: 1.66666667;\r\n        font-size: 16px;\r\n        color: #333;\r\n        background-color: #fff;\r\n        margin: 2em 1em;\r\n      }\r\n      h1 {\r\n        font-size: 28px;\r\n        font-weight: 400;\r\n      }\r\n      p {\r\n        margin: 0 0 10px;\r\n      }\r\n      .alert.alert-info {\r\n        background-color: #F0F0F0;\r\n        margin-top: 30px;\r\n        padding: 30px;\r\n      }\r\n      .alert p {\r\n        padding-left: 35px;\r\n      }\r\n      ul {\r\n        padding-left: 51px;\r\n        position: relative;\r\n      }\r\n      li {\r\n        font-size: 14px;\r\n        margin-bottom: 1em;\r\n      }\r\n      p.info {\r\n        position: relative;\r\n        font-size: 20px;\r\n      }\r\n      p.info:before, p.info:after {\r\n        content: \"\";\r\n        left: 0;\r\n        position: absolute;\r\n        top: 0;\r\n      }\r\n      p.info:before {\r\n        background: #0066CC;\r\n        border-radius: 16px;\r\n        color: #fff;\r\n        content: \"i\";\r\n        font: bold 16px/24px serif;\r\n        height: 24px;\r\n        left: 0px;\r\n        text-align: center;\r\n        top: 4px;\r\n        width: 24px;\r\n      }\r\n\r\n      @media (min-width: 768px) {\r\n        body {\r\n          margin: 6em;\r\n        }\r\n      }\r\n    </style>\r\n  </head>\r\n  <body>\r\n    <div>\r\n      <h1>Application is not available</h1>\r\n      <p>The application is currently not serving requests at this endpoint. It may not have been started or is still starting.</p>\r\n\r\n      <div class=\"alert alert-info\">\r\n        <p class=\"info\">\r\n          Possible reasons you are seeing this page:\r\n        </p>\r\n        <ul>\r\n          <li>\r\n            <strong>The host doesn't exist.</strong>\r\n            Make sure the hostname was typed correctly and that a route matching this hostname exists.\r\n          </li>\r\n          <li>\r\n            <strong>The host exists, but doesn't have a matching path.</strong>\r\n            Check if the URL path was typed correctly and that the route was created using the desired path.\r\n          </li>\r\n          <li>\r\n            <strong>Route and path matches, but all pods are down.</strong>\r\n            Make sure that the resources exposed by this route (pods, services, deployment configs, etc) have at least one pod running.\r\n          </li>\r\n        </ul>\r\n      </div>\r\n    </div>\r\n  </body>\r\n</html>\r\n",
     "output_type": "error",
     "traceback": [
      "\u001b[0;31m---------------------------------------------------------------------------\u001b[0m",
      "\u001b[0;31mAPIError\u001b[0m                                  Traceback (most recent call last)",
      "Cell \u001b[0;32mIn[4], line 3\u001b[0m\n\u001b[1;32m      1\u001b[0m \u001b[38;5;28;01mfrom\u001b[39;00m\u001b[38;5;250m \u001b[39m\u001b[38;5;21;01mpystac_client\u001b[39;00m\u001b[38;5;250m \u001b[39m\u001b[38;5;28;01mimport\u001b[39;00m Client\n\u001b[0;32m----> 3\u001b[0m client \u001b[38;5;241m=\u001b[39m \u001b[43mClient\u001b[49m\u001b[38;5;241;43m.\u001b[39;49m\u001b[43mopen\u001b[49m\u001b[43m(\u001b[49m\u001b[43mstac_endpoint\u001b[49m\u001b[43m)\u001b[49m\n\u001b[1;32m      5\u001b[0m s1_coll \u001b[38;5;241m=\u001b[39m client\u001b[38;5;241m.\u001b[39mget_collection(collection_id)\n\u001b[1;32m      7\u001b[0m items \u001b[38;5;241m=\u001b[39m []\n",
      "File \u001b[0;32m~/.pyenv/versions/tlh/lib/python3.11/site-packages/pystac_client/client.py:170\u001b[0m, in \u001b[0;36mClient.open\u001b[0;34m(cls, url, headers, parameters, ignore_conformance, modifier, request_modifier, stac_io, timeout)\u001b[0m\n\u001b[1;32m     98\u001b[0m \u001b[38;5;129m@classmethod\u001b[39m\n\u001b[1;32m     99\u001b[0m \u001b[38;5;28;01mdef\u001b[39;00m\u001b[38;5;250m \u001b[39m\u001b[38;5;21mopen\u001b[39m(\n\u001b[1;32m    100\u001b[0m     \u001b[38;5;28mcls\u001b[39m,\n\u001b[0;32m   (...)\u001b[0m\n\u001b[1;32m    108\u001b[0m     timeout: Optional[Timeout] \u001b[38;5;241m=\u001b[39m \u001b[38;5;28;01mNone\u001b[39;00m,\n\u001b[1;32m    109\u001b[0m ) \u001b[38;5;241m-\u001b[39m\u001b[38;5;241m>\u001b[39m \u001b[38;5;124m\"\u001b[39m\u001b[38;5;124mClient\u001b[39m\u001b[38;5;124m\"\u001b[39m:\n\u001b[1;32m    110\u001b[0m \u001b[38;5;250m    \u001b[39m\u001b[38;5;124;03m\"\"\"Opens a STAC Catalog or API\u001b[39;00m\n\u001b[1;32m    111\u001b[0m \u001b[38;5;124;03m    This function will read the root catalog of a STAC Catalog or API\u001b[39;00m\n\u001b[1;32m    112\u001b[0m \n\u001b[0;32m   (...)\u001b[0m\n\u001b[1;32m    168\u001b[0m \u001b[38;5;124;03m        catalog : A :class:`Client` instance for this Catalog/API\u001b[39;00m\n\u001b[1;32m    169\u001b[0m \u001b[38;5;124;03m    \"\"\"\u001b[39;00m\n\u001b[0;32m--> 170\u001b[0m     client: Client \u001b[38;5;241m=\u001b[39m \u001b[38;5;28;43mcls\u001b[39;49m\u001b[38;5;241;43m.\u001b[39;49m\u001b[43mfrom_file\u001b[49m\u001b[43m(\u001b[49m\n\u001b[1;32m    171\u001b[0m \u001b[43m        \u001b[49m\u001b[43murl\u001b[49m\u001b[43m,\u001b[49m\n\u001b[1;32m    172\u001b[0m \u001b[43m        \u001b[49m\u001b[43mheaders\u001b[49m\u001b[38;5;241;43m=\u001b[39;49m\u001b[43mheaders\u001b[49m\u001b[43m,\u001b[49m\n\u001b[1;32m    173\u001b[0m \u001b[43m        \u001b[49m\u001b[43mparameters\u001b[49m\u001b[38;5;241;43m=\u001b[39;49m\u001b[43mparameters\u001b[49m\u001b[43m,\u001b[49m\n\u001b[1;32m    174\u001b[0m \u001b[43m        \u001b[49m\u001b[43mmodifier\u001b[49m\u001b[38;5;241;43m=\u001b[39;49m\u001b[43mmodifier\u001b[49m\u001b[43m,\u001b[49m\n\u001b[1;32m    175\u001b[0m \u001b[43m        \u001b[49m\u001b[43mrequest_modifier\u001b[49m\u001b[38;5;241;43m=\u001b[39;49m\u001b[43mrequest_modifier\u001b[49m\u001b[43m,\u001b[49m\n\u001b[1;32m    176\u001b[0m \u001b[43m        \u001b[49m\u001b[43mstac_io\u001b[49m\u001b[38;5;241;43m=\u001b[39;49m\u001b[43mstac_io\u001b[49m\u001b[43m,\u001b[49m\n\u001b[1;32m    177\u001b[0m \u001b[43m        \u001b[49m\u001b[43mtimeout\u001b[49m\u001b[38;5;241;43m=\u001b[39;49m\u001b[43mtimeout\u001b[49m\u001b[43m,\u001b[49m\n\u001b[1;32m    178\u001b[0m \u001b[43m    \u001b[49m\u001b[43m)\u001b[49m\n\u001b[1;32m    180\u001b[0m     \u001b[38;5;28;01mif\u001b[39;00m ignore_conformance \u001b[38;5;129;01mis\u001b[39;00m \u001b[38;5;129;01mnot\u001b[39;00m \u001b[38;5;28;01mNone\u001b[39;00m:\n\u001b[1;32m    181\u001b[0m         warnings\u001b[38;5;241m.\u001b[39mwarn(\n\u001b[1;32m    182\u001b[0m             (\n\u001b[1;32m    183\u001b[0m                 \u001b[38;5;124m\"\u001b[39m\u001b[38;5;124mThe `ignore_conformance` option is deprecated and will be \u001b[39m\u001b[38;5;124m\"\u001b[39m\n\u001b[0;32m   (...)\u001b[0m\n\u001b[1;32m    187\u001b[0m             \u001b[38;5;167;01mFutureWarning\u001b[39;00m,\n\u001b[1;32m    188\u001b[0m         )\n",
      "File \u001b[0;32m~/.pyenv/versions/tlh/lib/python3.11/site-packages/pystac_client/client.py:226\u001b[0m, in \u001b[0;36mClient.from_file\u001b[0;34m(cls, href, stac_io, headers, parameters, modifier, request_modifier, timeout)\u001b[0m\n\u001b[1;32m    218\u001b[0m \u001b[38;5;28;01melse\u001b[39;00m:\n\u001b[1;32m    219\u001b[0m     stac_io\u001b[38;5;241m.\u001b[39mupdate(\n\u001b[1;32m    220\u001b[0m         headers\u001b[38;5;241m=\u001b[39mheaders,\n\u001b[1;32m    221\u001b[0m         parameters\u001b[38;5;241m=\u001b[39mparameters,\n\u001b[1;32m    222\u001b[0m         request_modifier\u001b[38;5;241m=\u001b[39mrequest_modifier,\n\u001b[1;32m    223\u001b[0m         timeout\u001b[38;5;241m=\u001b[39mtimeout,\n\u001b[1;32m    224\u001b[0m     )\n\u001b[0;32m--> 226\u001b[0m client: Client \u001b[38;5;241m=\u001b[39m \u001b[38;5;28;43msuper\u001b[39;49m\u001b[43m(\u001b[49m\u001b[43m)\u001b[49m\u001b[38;5;241;43m.\u001b[39;49m\u001b[43mfrom_file\u001b[49m\u001b[43m(\u001b[49m\u001b[43mhref\u001b[49m\u001b[43m,\u001b[49m\u001b[43m \u001b[49m\u001b[43mstac_io\u001b[49m\u001b[43m)\u001b[49m\n\u001b[1;32m    227\u001b[0m client\u001b[38;5;241m.\u001b[39mmodifier \u001b[38;5;241m=\u001b[39m modifier\n\u001b[1;32m    229\u001b[0m \u001b[38;5;28;01mreturn\u001b[39;00m client\n",
      "File \u001b[0;32m~/.pyenv/versions/tlh/lib/python3.11/site-packages/pystac/catalog.py:1283\u001b[0m, in \u001b[0;36mCatalog.from_file\u001b[0;34m(cls, href, stac_io)\u001b[0m\n\u001b[1;32m   1280\u001b[0m \u001b[38;5;28;01mif\u001b[39;00m stac_io \u001b[38;5;129;01mis\u001b[39;00m \u001b[38;5;28;01mNone\u001b[39;00m:\n\u001b[1;32m   1281\u001b[0m     stac_io \u001b[38;5;241m=\u001b[39m pystac\u001b[38;5;241m.\u001b[39mStacIO\u001b[38;5;241m.\u001b[39mdefault()\n\u001b[0;32m-> 1283\u001b[0m result \u001b[38;5;241m=\u001b[39m \u001b[38;5;28;43msuper\u001b[39;49m\u001b[43m(\u001b[49m\u001b[43m)\u001b[49m\u001b[38;5;241;43m.\u001b[39;49m\u001b[43mfrom_file\u001b[49m\u001b[43m(\u001b[49m\u001b[43mhref\u001b[49m\u001b[43m,\u001b[49m\u001b[43m \u001b[49m\u001b[43mstac_io\u001b[49m\u001b[43m)\u001b[49m\n\u001b[1;32m   1284\u001b[0m result\u001b[38;5;241m.\u001b[39m_stac_io \u001b[38;5;241m=\u001b[39m stac_io\n\u001b[1;32m   1286\u001b[0m \u001b[38;5;28;01mreturn\u001b[39;00m result\n",
      "File \u001b[0;32m~/.pyenv/versions/tlh/lib/python3.11/site-packages/pystac/stac_object.py:632\u001b[0m, in \u001b[0;36mSTACObject.from_file\u001b[0;34m(cls, href, stac_io)\u001b[0m\n\u001b[1;32m    629\u001b[0m \u001b[38;5;28;01mif\u001b[39;00m \u001b[38;5;129;01mnot\u001b[39;00m is_absolute_href(href):\n\u001b[1;32m    630\u001b[0m     href \u001b[38;5;241m=\u001b[39m make_absolute_href(href)\n\u001b[0;32m--> 632\u001b[0m d \u001b[38;5;241m=\u001b[39m \u001b[43mstac_io\u001b[49m\u001b[38;5;241;43m.\u001b[39;49m\u001b[43mread_json\u001b[49m\u001b[43m(\u001b[49m\u001b[43mhref\u001b[49m\u001b[43m)\u001b[49m\n\u001b[1;32m    633\u001b[0m o \u001b[38;5;241m=\u001b[39m \u001b[38;5;28mcls\u001b[39m\u001b[38;5;241m.\u001b[39mfrom_dict(d, href\u001b[38;5;241m=\u001b[39mhref, migrate\u001b[38;5;241m=\u001b[39m\u001b[38;5;28;01mTrue\u001b[39;00m, preserve_dict\u001b[38;5;241m=\u001b[39m\u001b[38;5;28;01mFalse\u001b[39;00m)\n\u001b[1;32m    635\u001b[0m \u001b[38;5;66;03m# If this is a root catalog, set the root to the catalog instance.\u001b[39;00m\n",
      "File \u001b[0;32m~/.pyenv/versions/tlh/lib/python3.11/site-packages/pystac/stac_io.py:206\u001b[0m, in \u001b[0;36mStacIO.read_json\u001b[0;34m(self, source, *args, **kwargs)\u001b[0m\n\u001b[1;32m    189\u001b[0m \u001b[38;5;28;01mdef\u001b[39;00m\u001b[38;5;250m \u001b[39m\u001b[38;5;21mread_json\u001b[39m(\u001b[38;5;28mself\u001b[39m, source: HREF, \u001b[38;5;241m*\u001b[39margs: Any, \u001b[38;5;241m*\u001b[39m\u001b[38;5;241m*\u001b[39mkwargs: Any) \u001b[38;5;241m-\u001b[39m\u001b[38;5;241m>\u001b[39m \u001b[38;5;28mdict\u001b[39m[\u001b[38;5;28mstr\u001b[39m, Any]:\n\u001b[1;32m    190\u001b[0m \u001b[38;5;250m    \u001b[39m\u001b[38;5;124;03m\"\"\"Read a dict from the given source.\u001b[39;00m\n\u001b[1;32m    191\u001b[0m \n\u001b[1;32m    192\u001b[0m \u001b[38;5;124;03m    See :func:`StacIO.read_text <pystac.StacIO.read_text>` for usage of\u001b[39;00m\n\u001b[0;32m   (...)\u001b[0m\n\u001b[1;32m    204\u001b[0m \u001b[38;5;124;03m        given source.\u001b[39;00m\n\u001b[1;32m    205\u001b[0m \u001b[38;5;124;03m    \"\"\"\u001b[39;00m\n\u001b[0;32m--> 206\u001b[0m     txt \u001b[38;5;241m=\u001b[39m \u001b[38;5;28;43mself\u001b[39;49m\u001b[38;5;241;43m.\u001b[39;49m\u001b[43mread_text\u001b[49m\u001b[43m(\u001b[49m\u001b[43msource\u001b[49m\u001b[43m,\u001b[49m\u001b[43m \u001b[49m\u001b[38;5;241;43m*\u001b[39;49m\u001b[43margs\u001b[49m\u001b[43m,\u001b[49m\u001b[43m \u001b[49m\u001b[38;5;241;43m*\u001b[39;49m\u001b[38;5;241;43m*\u001b[39;49m\u001b[43mkwargs\u001b[49m\u001b[43m)\u001b[49m\n\u001b[1;32m    207\u001b[0m     \u001b[38;5;28;01mreturn\u001b[39;00m \u001b[38;5;28mself\u001b[39m\u001b[38;5;241m.\u001b[39mjson_loads(txt)\n",
      "File \u001b[0;32m~/.pyenv/versions/tlh/lib/python3.11/site-packages/pystac_client/stac_api_io.py:171\u001b[0m, in \u001b[0;36mStacApiIO.read_text\u001b[0;34m(self, source, *args, **kwargs)\u001b[0m\n\u001b[1;32m    169\u001b[0m href \u001b[38;5;241m=\u001b[39m \u001b[38;5;28mstr\u001b[39m(source)\n\u001b[1;32m    170\u001b[0m \u001b[38;5;28;01mif\u001b[39;00m _is_url(href):\n\u001b[0;32m--> 171\u001b[0m     \u001b[38;5;28;01mreturn\u001b[39;00m \u001b[38;5;28;43mself\u001b[39;49m\u001b[38;5;241;43m.\u001b[39;49m\u001b[43mrequest\u001b[49m\u001b[43m(\u001b[49m\u001b[43mhref\u001b[49m\u001b[43m,\u001b[49m\u001b[43m \u001b[49m\u001b[38;5;241;43m*\u001b[39;49m\u001b[43margs\u001b[49m\u001b[43m,\u001b[49m\u001b[43m \u001b[49m\u001b[38;5;241;43m*\u001b[39;49m\u001b[38;5;241;43m*\u001b[39;49m\u001b[43mkwargs\u001b[49m\u001b[43m)\u001b[49m\n\u001b[1;32m    172\u001b[0m \u001b[38;5;28;01melse\u001b[39;00m:\n\u001b[1;32m    173\u001b[0m     \u001b[38;5;28;01mwith\u001b[39;00m \u001b[38;5;28mopen\u001b[39m(href) \u001b[38;5;28;01mas\u001b[39;00m f:\n",
      "File \u001b[0;32m~/.pyenv/versions/tlh/lib/python3.11/site-packages/pystac_client/stac_api_io.py:223\u001b[0m, in \u001b[0;36mStacApiIO.request\u001b[0;34m(self, href, method, headers, parameters)\u001b[0m\n\u001b[1;32m    221\u001b[0m     \u001b[38;5;28;01mraise\u001b[39;00m APIError(\u001b[38;5;28mstr\u001b[39m(err))\n\u001b[1;32m    222\u001b[0m \u001b[38;5;28;01mif\u001b[39;00m resp\u001b[38;5;241m.\u001b[39mstatus_code \u001b[38;5;241m!=\u001b[39m \u001b[38;5;241m200\u001b[39m:\n\u001b[0;32m--> 223\u001b[0m     \u001b[38;5;28;01mraise\u001b[39;00m APIError\u001b[38;5;241m.\u001b[39mfrom_response(resp)\n\u001b[1;32m    224\u001b[0m \u001b[38;5;28;01mtry\u001b[39;00m:\n\u001b[1;32m    225\u001b[0m     \u001b[38;5;28;01mreturn\u001b[39;00m resp\u001b[38;5;241m.\u001b[39mcontent\u001b[38;5;241m.\u001b[39mdecode(\u001b[38;5;124m\"\u001b[39m\u001b[38;5;124mutf-8\u001b[39m\u001b[38;5;124m\"\u001b[39m)\n",
      "\u001b[0;31mAPIError\u001b[0m: <html>\r\n  <head>\r\n    <meta name=\"viewport\" content=\"width=device-width, initial-scale=1\">\r\n\r\n    <style type=\"text/css\">\r\n      body {\r\n        font-family: \"Helvetica Neue\", Helvetica, Arial, sans-serif;\r\n        line-height: 1.66666667;\r\n        font-size: 16px;\r\n        color: #333;\r\n        background-color: #fff;\r\n        margin: 2em 1em;\r\n      }\r\n      h1 {\r\n        font-size: 28px;\r\n        font-weight: 400;\r\n      }\r\n      p {\r\n        margin: 0 0 10px;\r\n      }\r\n      .alert.alert-info {\r\n        background-color: #F0F0F0;\r\n        margin-top: 30px;\r\n        padding: 30px;\r\n      }\r\n      .alert p {\r\n        padding-left: 35px;\r\n      }\r\n      ul {\r\n        padding-left: 51px;\r\n        position: relative;\r\n      }\r\n      li {\r\n        font-size: 14px;\r\n        margin-bottom: 1em;\r\n      }\r\n      p.info {\r\n        position: relative;\r\n        font-size: 20px;\r\n      }\r\n      p.info:before, p.info:after {\r\n        content: \"\";\r\n        left: 0;\r\n        position: absolute;\r\n        top: 0;\r\n      }\r\n      p.info:before {\r\n        background: #0066CC;\r\n        border-radius: 16px;\r\n        color: #fff;\r\n        content: \"i\";\r\n        font: bold 16px/24px serif;\r\n        height: 24px;\r\n        left: 0px;\r\n        text-align: center;\r\n        top: 4px;\r\n        width: 24px;\r\n      }\r\n\r\n      @media (min-width: 768px) {\r\n        body {\r\n          margin: 6em;\r\n        }\r\n      }\r\n    </style>\r\n  </head>\r\n  <body>\r\n    <div>\r\n      <h1>Application is not available</h1>\r\n      <p>The application is currently not serving requests at this endpoint. It may not have been started or is still starting.</p>\r\n\r\n      <div class=\"alert alert-info\">\r\n        <p class=\"info\">\r\n          Possible reasons you are seeing this page:\r\n        </p>\r\n        <ul>\r\n          <li>\r\n            <strong>The host doesn't exist.</strong>\r\n            Make sure the hostname was typed correctly and that a route matching this hostname exists.\r\n          </li>\r\n          <li>\r\n            <strong>The host exists, but doesn't have a matching path.</strong>\r\n            Check if the URL path was typed correctly and that the route was created using the desired path.\r\n          </li>\r\n          <li>\r\n            <strong>Route and path matches, but all pods are down.</strong>\r\n            Make sure that the resources exposed by this route (pods, services, deployment configs, etc) have at least one pod running.\r\n          </li>\r\n        </ul>\r\n      </div>\r\n    </div>\r\n  </body>\r\n</html>\r\n"
     ]
    }
   ],
   "source": [
    "from pystac_client import Client\n",
    "\n",
    "client = Client.open(stac_endpoint)\n",
    "\n",
    "s1_coll = client.get_collection(collection_id)\n",
    "\n",
    "items = []"
   ]
  },
  {
   "cell_type": "code",
   "execution_count": null,
   "id": "de7c68c6-09f4-4925-ac39-a869ab62be44",
   "metadata": {
    "scrolled": true
   },
   "outputs": [],
   "source": [
    "item = next(s1_coll.get_items(), None)\n",
    "\n",
    "i = 0\n",
    "\n",
    "while item is not None:\n",
    "    items.append(item.to_dict())\n",
    "    i = i + 1\n",
    "    if i >= limit:\n",
    "        break\n",
    "    item = next(s1_coll.get_items(), None)"
   ]
  },
  {
   "cell_type": "code",
   "execution_count": null,
   "id": "95d84a77",
   "metadata": {},
   "outputs": [],
   "source": [
    "len(items)"
   ]
  },
  {
   "cell_type": "code",
   "execution_count": null,
   "id": "acc8e399-f9c0-4e04-851d-3b8bc1b19528",
   "metadata": {},
   "outputs": [],
   "source": [
    "session = Session(\n",
    "    aws_access_key_id=aws_access_key_id,\n",
    "    aws_secret_access_key=aws_secret_access_key,\n",
    ")"
   ]
  },
  {
   "cell_type": "code",
   "execution_count": null,
   "id": "bbf5570b-4661-4641-a9ee-108e5ee0c526",
   "metadata": {},
   "outputs": [],
   "source": [
    "aws_session = AWSSession(\n",
    "    session=session,\n",
    "    endpoint_url=cos_endpoint_url,\n",
    ")"
   ]
  },
  {
   "cell_type": "code",
   "execution_count": null,
   "id": "19cb0e44-7d0b-4c34-948c-d61627f5084d",
   "metadata": {},
   "outputs": [],
   "source": [
    "data_array = stackstac.stack(items, epsg=4326, resolution=0.000089831528412, gdal_env=stackstac.DEFAULT_GDAL_ENV.updated(always=dict(session=aws_session)))"
   ]
  },
  {
   "cell_type": "code",
   "execution_count": null,
   "id": "c495b1c5-2394-48d8-92ca-2e1dab60d1ee",
   "metadata": {},
   "outputs": [],
   "source": [
    "data_array"
   ]
  },
  {
   "cell_type": "code",
   "execution_count": null,
   "id": "6eaab993-36c1-4fb6-9156-cc0c057d2530",
   "metadata": {
    "tags": []
   },
   "outputs": [],
   "source": [
    "data_array[0,0,0,0]"
   ]
  },
  {
   "cell_type": "code",
   "execution_count": null,
   "id": "e4903081-14ef-47fe-9aa9-368e465adebc",
   "metadata": {
    "tags": []
   },
   "outputs": [],
   "source": [
    "data_array[0,0,21380-1,57109-1]"
   ]
  },
  {
   "cell_type": "code",
   "execution_count": null,
   "id": "635ff971-4499-4a7d-b642-55ee015f0769",
   "metadata": {
    "scrolled": true,
    "tags": []
   },
   "outputs": [],
   "source": [
    "import time\n",
    "\n",
    "start = time.time()\n",
    "\n",
    "for index in range(57109):\n",
    "    data_array[0,0,0,index]\n",
    "    \n",
    "end = time.time()\n",
    "print(end-start)"
   ]
  }
 ],
 "metadata": {
  "kernelspec": {
   "display_name": "Python 3 (ipykernel)",
   "language": "python",
   "name": "python3"
  },
  "language_info": {
   "codemirror_mode": {
    "name": "ipython",
    "version": 3
   },
   "file_extension": ".py",
   "mimetype": "text/x-python",
   "name": "python",
   "nbconvert_exporter": "python",
   "pygments_lexer": "ipython3",
   "version": "3.11.7"
  }
 },
 "nbformat": 4,
 "nbformat_minor": 5
}
