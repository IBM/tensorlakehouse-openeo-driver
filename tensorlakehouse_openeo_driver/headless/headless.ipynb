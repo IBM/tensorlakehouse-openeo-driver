{
 "cells": [
  {
   "cell_type": "code",
   "execution_count": 8,
   "id": "55391c1a-8d7b-4f98-8e7c-b7b06499c270",
   "metadata": {
    "scrolled": true
   },
   "outputs": [
    {
     "name": "stdout",
     "output_type": "stream",
     "text": [
      "Requirement already satisfied: boto3 in /home/romeokienzler/gitco/tensorlakehouse-openeo-driver/venv/lib64/python3.12/site-packages (1.34.111)\n",
      "Requirement already satisfied: rasterio in /home/romeokienzler/gitco/tensorlakehouse-openeo-driver/venv/lib64/python3.12/site-packages (1.3.10)\n",
      "Requirement already satisfied: stackstac in /home/romeokienzler/gitco/tensorlakehouse-openeo-driver/venv/lib64/python3.12/site-packages (0.5.0)\n",
      "Collecting pystac\n",
      "  Obtaining dependency information for pystac from https://files.pythonhosted.org/packages/ee/19/f8df3ac83ae5a977b108d86c8a0d7e4ef98c91dceca136017bc183ef942e/pystac-1.10.1-py3-none-any.whl.metadata\n",
      "  Downloading pystac-1.10.1-py3-none-any.whl.metadata (6.4 kB)\n",
      "Requirement already satisfied: botocore<1.35.0,>=1.34.111 in /home/romeokienzler/gitco/tensorlakehouse-openeo-driver/venv/lib64/python3.12/site-packages (from boto3) (1.34.111)\n",
      "Requirement already satisfied: jmespath<2.0.0,>=0.7.1 in /home/romeokienzler/gitco/tensorlakehouse-openeo-driver/venv/lib64/python3.12/site-packages (from boto3) (1.0.1)\n",
      "Requirement already satisfied: s3transfer<0.11.0,>=0.10.0 in /home/romeokienzler/gitco/tensorlakehouse-openeo-driver/venv/lib64/python3.12/site-packages (from boto3) (0.10.1)\n",
      "Requirement already satisfied: affine in /home/romeokienzler/gitco/tensorlakehouse-openeo-driver/venv/lib64/python3.12/site-packages (from rasterio) (2.4.0)\n",
      "Requirement already satisfied: attrs in /home/romeokienzler/gitco/tensorlakehouse-openeo-driver/venv/lib64/python3.12/site-packages (from rasterio) (23.2.0)\n",
      "Requirement already satisfied: certifi in /home/romeokienzler/gitco/tensorlakehouse-openeo-driver/venv/lib64/python3.12/site-packages (from rasterio) (2024.2.2)\n",
      "Requirement already satisfied: click>=4.0 in /home/romeokienzler/gitco/tensorlakehouse-openeo-driver/venv/lib64/python3.12/site-packages (from rasterio) (8.1.7)\n",
      "Requirement already satisfied: cligj>=0.5 in /home/romeokienzler/gitco/tensorlakehouse-openeo-driver/venv/lib64/python3.12/site-packages (from rasterio) (0.7.2)\n",
      "Requirement already satisfied: numpy in /home/romeokienzler/gitco/tensorlakehouse-openeo-driver/venv/lib64/python3.12/site-packages (from rasterio) (1.26.4)\n",
      "Requirement already satisfied: snuggs>=1.4.1 in /home/romeokienzler/gitco/tensorlakehouse-openeo-driver/venv/lib64/python3.12/site-packages (from rasterio) (1.4.7)\n",
      "Requirement already satisfied: click-plugins in /home/romeokienzler/gitco/tensorlakehouse-openeo-driver/venv/lib64/python3.12/site-packages (from rasterio) (1.1.1)\n",
      "Requirement already satisfied: setuptools in /home/romeokienzler/gitco/tensorlakehouse-openeo-driver/venv/lib64/python3.12/site-packages (from rasterio) (70.0.0)\n",
      "Requirement already satisfied: dask[array]>=2022.1.1 in /home/romeokienzler/gitco/tensorlakehouse-openeo-driver/venv/lib64/python3.12/site-packages (from stackstac) (2024.5.1)\n",
      "Requirement already satisfied: pyproj<4.0.0,>=3.0.0 in /home/romeokienzler/gitco/tensorlakehouse-openeo-driver/venv/lib64/python3.12/site-packages (from stackstac) (3.6.1)\n",
      "Requirement already satisfied: xarray>=0.18 in /home/romeokienzler/gitco/tensorlakehouse-openeo-driver/venv/lib64/python3.12/site-packages (from stackstac) (2024.5.0)\n",
      "Requirement already satisfied: python-dateutil>=2.7.0 in /home/romeokienzler/gitco/tensorlakehouse-openeo-driver/venv/lib64/python3.12/site-packages (from pystac) (2.9.0.post0)\n",
      "Requirement already satisfied: urllib3!=2.2.0,<3,>=1.25.4 in /home/romeokienzler/gitco/tensorlakehouse-openeo-driver/venv/lib64/python3.12/site-packages (from botocore<1.35.0,>=1.34.111->boto3) (2.2.1)\n",
      "Requirement already satisfied: cloudpickle>=1.5.0 in /home/romeokienzler/gitco/tensorlakehouse-openeo-driver/venv/lib64/python3.12/site-packages (from dask[array]>=2022.1.1->stackstac) (3.0.0)\n",
      "Requirement already satisfied: fsspec>=2021.09.0 in /home/romeokienzler/gitco/tensorlakehouse-openeo-driver/venv/lib64/python3.12/site-packages (from dask[array]>=2022.1.1->stackstac) (2024.5.0)\n",
      "Requirement already satisfied: packaging>=20.0 in /home/romeokienzler/gitco/tensorlakehouse-openeo-driver/venv/lib64/python3.12/site-packages (from dask[array]>=2022.1.1->stackstac) (24.0)\n",
      "Requirement already satisfied: partd>=1.2.0 in /home/romeokienzler/gitco/tensorlakehouse-openeo-driver/venv/lib64/python3.12/site-packages (from dask[array]>=2022.1.1->stackstac) (1.4.2)\n",
      "Requirement already satisfied: pyyaml>=5.3.1 in /home/romeokienzler/gitco/tensorlakehouse-openeo-driver/venv/lib64/python3.12/site-packages (from dask[array]>=2022.1.1->stackstac) (6.0.1)\n",
      "Requirement already satisfied: toolz>=0.10.0 in /home/romeokienzler/gitco/tensorlakehouse-openeo-driver/venv/lib64/python3.12/site-packages (from dask[array]>=2022.1.1->stackstac) (0.12.1)\n",
      "Requirement already satisfied: six>=1.5 in /home/romeokienzler/gitco/tensorlakehouse-openeo-driver/venv/lib64/python3.12/site-packages (from python-dateutil>=2.7.0->pystac) (1.16.0)\n",
      "Requirement already satisfied: pyparsing>=2.1.6 in /home/romeokienzler/gitco/tensorlakehouse-openeo-driver/venv/lib64/python3.12/site-packages (from snuggs>=1.4.1->rasterio) (3.1.2)\n",
      "Requirement already satisfied: pandas>=2.0 in /home/romeokienzler/gitco/tensorlakehouse-openeo-driver/venv/lib64/python3.12/site-packages (from xarray>=0.18->stackstac) (2.2.2)\n",
      "Requirement already satisfied: pytz>=2020.1 in /home/romeokienzler/gitco/tensorlakehouse-openeo-driver/venv/lib64/python3.12/site-packages (from pandas>=2.0->xarray>=0.18->stackstac) (2024.1)\n",
      "Requirement already satisfied: tzdata>=2022.7 in /home/romeokienzler/gitco/tensorlakehouse-openeo-driver/venv/lib64/python3.12/site-packages (from pandas>=2.0->xarray>=0.18->stackstac) (2024.1)\n",
      "Requirement already satisfied: locket in /home/romeokienzler/gitco/tensorlakehouse-openeo-driver/venv/lib64/python3.12/site-packages (from partd>=1.2.0->dask[array]>=2022.1.1->stackstac) (1.0.0)\n",
      "Downloading pystac-1.10.1-py3-none-any.whl (182 kB)\n",
      "\u001b[2K   \u001b[38;2;114;156;31m━━━━━━━━━━━━━━━━━━━━━━━━━━━━━━━━━━━━━━━━\u001b[0m \u001b[32m182.9/182.9 kB\u001b[0m \u001b[31m1.6 MB/s\u001b[0m eta \u001b[36m0:00:00\u001b[0m MB/s\u001b[0m eta \u001b[36m0:00:01\u001b[0mm\n",
      "\u001b[?25hInstalling collected packages: pystac\n",
      "Successfully installed pystac-1.10.1\n",
      "\n",
      "\u001b[1m[\u001b[0m\u001b[34;49mnotice\u001b[0m\u001b[1;39;49m]\u001b[0m\u001b[39;49m A new release of pip is available: \u001b[0m\u001b[31;49m23.2.1\u001b[0m\u001b[39;49m -> \u001b[0m\u001b[32;49m24.0\u001b[0m\n",
      "\u001b[1m[\u001b[0m\u001b[34;49mnotice\u001b[0m\u001b[1;39;49m]\u001b[0m\u001b[39;49m To update, run: \u001b[0m\u001b[32;49mpip install --upgrade pip\u001b[0m\n"
     ]
    }
   ],
   "source": [
    "!pip install boto3 rasterio stackstac pystac"
   ]
  },
  {
   "cell_type": "code",
   "execution_count": 10,
   "id": "cc67270b-3375-42b8-93e9-2269f6d27712",
   "metadata": {},
   "outputs": [],
   "source": [
    "from boto3.session import Session\n",
    "from rasterio.session import AWSSession\n",
    "import stackstac\n",
    "import pystac\n",
    "\n"
   ]
  },
  {
   "cell_type": "code",
   "execution_count": 2,
   "id": "acc8e399-f9c0-4e04-851d-3b8bc1b19528",
   "metadata": {},
   "outputs": [],
   "source": [
    "session = Session(\n",
    "    aws_access_key_id='',\n",
    "    aws_secret_access_key='',\n",
    ")"
   ]
  },
  {
   "cell_type": "code",
   "execution_count": 3,
   "id": "bbf5570b-4661-4641-a9ee-108e5ee0c526",
   "metadata": {},
   "outputs": [],
   "source": [
    "aws_session = AWSSession(\n",
    "    session=session,\n",
    "    endpoint_url='s3.us-east.cloud-object-storage.appdomain.cloud',\n",
    ")"
   ]
  },
  {
   "cell_type": "code",
   "execution_count": 24,
   "id": "1aa24f48-97bd-4a1e-80c4-a8dbee3c647e",
   "metadata": {},
   "outputs": [],
   "source": [
    "catalog = pystac.Catalog.from_file('https://stac-fastapi-pgstac-nasageospatial-dev.cash.sl.cloud9.ibm.com')\n",
    "\n",
    "\n"
   ]
  },
  {
   "cell_type": "code",
   "execution_count": 25,
   "id": "af25520b-581d-4d0c-9296-7db67a5432e9",
   "metadata": {},
   "outputs": [
    {
     "name": "stdout",
     "output_type": "stream",
     "text": [
      "Catalog ID: stac-fastapi\n",
      "Catalog Description: stac-fastapi\n"
     ]
    }
   ],
   "source": [
    "print(f\"Catalog ID: {catalog.id}\")\n",
    "print(f\"Catalog Description: {catalog.description}\")\n"
   ]
  },
  {
   "cell_type": "code",
   "execution_count": 31,
   "id": "ac91694c-55d7-4b1b-a6f1-6328cded9100",
   "metadata": {},
   "outputs": [
    {
     "name": "stdout",
     "output_type": "stream",
     "text": [
      "Collection ID: ds335-sentinel1\n",
      "Collection Description: Sentinel 1 test collection\n"
     ]
    }
   ],
   "source": [
    "collection = catalog.get_child('ds335-sentinel1')\n",
    "print(f\"Collection ID: {collection.id}\")\n",
    "print(f\"Collection Description: {collection.description}\")"
   ]
  },
  {
   "cell_type": "code",
   "execution_count": 32,
   "id": "1c421fe1-04e6-4a2b-b1ce-d6718c9a763d",
   "metadata": {},
   "outputs": [
    {
     "data": {
      "text/plain": [
       "[]"
      ]
     },
     "execution_count": 32,
     "metadata": {},
     "output_type": "execute_result"
    }
   ],
   "source": [
    "list(collection.get_items())"
   ]
  },
  {
   "cell_type": "code",
   "execution_count": 27,
   "id": "b0531221-75b8-43be-b30a-0e541dd3f904",
   "metadata": {},
   "outputs": [],
   "source": [
    "for item in collection.get_items():\n",
    "    print(f\"Item ID: {item.id}\")\n",
    "    print(f\"Item Date: {item.datetime}\")\n",
    "\n",
    "    # Access item properties\n",
    "    print(f\"Item Properties: {item.properties}\")\n"
   ]
  },
  {
   "cell_type": "code",
   "execution_count": 7,
   "id": "992db494-c303-4d05-9de2-0f1bd0e3a4f2",
   "metadata": {},
   "outputs": [
    {
     "ename": "NameError",
     "evalue": "name 'dict_items' is not defined",
     "output_type": "error",
     "traceback": [
      "\u001b[0;31m---------------------------------------------------------------------------\u001b[0m",
      "\u001b[0;31mNameError\u001b[0m                                 Traceback (most recent call last)",
      "Cell \u001b[0;32mIn[7], line 2\u001b[0m\n\u001b[1;32m      1\u001b[0m data_array \u001b[38;5;241m=\u001b[39m stackstac\u001b[38;5;241m.\u001b[39mstack(\n\u001b[0;32m----> 2\u001b[0m     \u001b[43mdict_items\u001b[49m,\n\u001b[1;32m      3\u001b[0m     epsg\u001b[38;5;241m=\u001b[39mepsg,\n\u001b[1;32m      4\u001b[0m     resolution\u001b[38;5;241m=\u001b[39mresolution,\n\u001b[1;32m      5\u001b[0m     bounds_latlon\u001b[38;5;241m=\u001b[39mbbox,\n\u001b[1;32m      6\u001b[0m     rescale\u001b[38;5;241m=\u001b[39m\u001b[38;5;28;01mFalse\u001b[39;00m,\n\u001b[1;32m      7\u001b[0m     fill_value\u001b[38;5;241m=\u001b[39mnp\u001b[38;5;241m.\u001b[39mnan,\n\u001b[1;32m      8\u001b[0m     properties\u001b[38;5;241m=\u001b[39m[\u001b[38;5;124m\"\u001b[39m\u001b[38;5;124mdatetime\u001b[39m\u001b[38;5;124m\"\u001b[39m],\n\u001b[1;32m      9\u001b[0m     assets\u001b[38;5;241m=\u001b[39massets,\n\u001b[1;32m     10\u001b[0m     gdal_env\u001b[38;5;241m=\u001b[39mstackstac\u001b[38;5;241m.\u001b[39mDEFAULT_GDAL_ENV\u001b[38;5;241m.\u001b[39mupdated(\n\u001b[1;32m     11\u001b[0m         always\u001b[38;5;241m=\u001b[39m\u001b[38;5;28mdict\u001b[39m(session\u001b[38;5;241m=\u001b[39maws_session)\n\u001b[1;32m     12\u001b[0m     ),\n\u001b[1;32m     13\u001b[0m     band_coords\u001b[38;5;241m=\u001b[39m\u001b[38;5;28;01mFalse\u001b[39;00m,\n\u001b[1;32m     14\u001b[0m     sortby_date\u001b[38;5;241m=\u001b[39m\u001b[38;5;124m\"\u001b[39m\u001b[38;5;124masc\u001b[39m\u001b[38;5;124m\"\u001b[39m,\n\u001b[1;32m     15\u001b[0m )\n",
      "\u001b[0;31mNameError\u001b[0m: name 'dict_items' is not defined"
     ]
    }
   ],
   "source": [
    "data_array = stackstac.stack(\n",
    "    dict_items,\n",
    "    epsg=epsg,\n",
    "    resolution=resolution,\n",
    "    bounds_latlon=bbox,\n",
    "    rescale=False,\n",
    "    fill_value=np.nan,\n",
    "    properties=[\"datetime\"],\n",
    "    assets=assets,\n",
    "    gdal_env=stackstac.DEFAULT_GDAL_ENV.updated(\n",
    "        always=dict(session=aws_session)\n",
    "    ),\n",
    "    band_coords=False,\n",
    "    sortby_date=\"asc\",\n",
    ")"
   ]
  },
  {
   "cell_type": "code",
   "execution_count": null,
   "id": "d193033f-d2eb-4920-b9e8-c63cac8d6244",
   "metadata": {},
   "outputs": [],
   "source": []
  }
 ],
 "metadata": {
  "kernelspec": {
   "display_name": "Python 3 (ipykernel)",
   "language": "python",
   "name": "python3"
  },
  "language_info": {
   "codemirror_mode": {
    "name": "ipython",
    "version": 3
   },
   "file_extension": ".py",
   "mimetype": "text/x-python",
   "name": "python",
   "nbconvert_exporter": "python",
   "pygments_lexer": "ipython3",
   "version": "3.12.2"
  }
 },
 "nbformat": 4,
 "nbformat_minor": 5
}
