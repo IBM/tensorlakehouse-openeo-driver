{
 "cells": [
  {
   "cell_type": "markdown",
   "id": "a424eb9d-8b00-4fce-a283-7fa787ac2d7f",
   "metadata": {},
   "source": [
    "Tests COS performance"
   ]
  },
  {
   "cell_type": "code",
   "execution_count": null,
   "id": "55391c1a-8d7b-4f98-8e7c-b7b06499c270",
   "metadata": {
    "scrolled": true
   },
   "outputs": [],
   "source": [
    "!pip install ibm-cos-sdk python-dotenv pandas"
   ]
  },
  {
   "cell_type": "code",
   "execution_count": null,
   "id": "801140c2-1260-446b-8dad-2ad01d9f58c2",
   "metadata": {},
   "outputs": [],
   "source": [
    "import ibm_boto3\n",
    "from ibm_botocore.client import Config, ClientError\n",
    "from dotenv import load_dotenv\n",
    "import os"
   ]
  },
  {
   "cell_type": "code",
   "execution_count": null,
   "id": "3089bf61-ce00-4944-9df2-4f756e12ce96",
   "metadata": {},
   "outputs": [],
   "source": [
    "%load_ext dotenv\n",
    "%dotenv cos_performance_test.credentials\n",
    "%dotenv cos_performance_test.env\n",
    "\n",
    "aws_access_key_id=os.environ.get('aws_access_key_id')\n",
    "aws_secret_access_key=os.environ.get('aws_secret_access_key')\n",
    "cos_endpoint_url=os.environ.get('cos_endpoint_url')\n",
    "\n",
    "# block size 4 MB is default (recommended)\n",
    "block_size=int(os.environ.get('block_size','4194304'))\n",
    "          \n",
    "bucket=os.environ.get('bucket')\n",
    "key=os.environ.get('key')\n",
    "                \n"
   ]
  },
  {
   "cell_type": "code",
   "execution_count": null,
   "id": "19cb0e44-7d0b-4c34-948c-d61627f5084d",
   "metadata": {},
   "outputs": [],
   "source": [
    "cos_client = ibm_boto3.client(\"s3\",\n",
    "    aws_access_key_id=aws_access_key_id,\n",
    "    aws_secret_access_key=aws_secret_access_key,\n",
    "    endpoint_url=cos_endpoint_url\n",
    ")"
   ]
  },
  {
   "cell_type": "code",
   "execution_count": null,
   "id": "39734ffb-f23b-4f86-9cc2-3281eed6efcb",
   "metadata": {
    "scrolled": true
   },
   "outputs": [],
   "source": [
    "\"\"\"\n",
    "def get_all_s3_objects(s3, **base_kwargs):\n",
    "    continuation_token = None\n",
    "    while True:\n",
    "        list_kwargs = dict(MaxKeys=1000, **base_kwargs)\n",
    "        if continuation_token:\n",
    "            list_kwargs['ContinuationToken'] = continuation_token\n",
    "        response = s3.list_objects_v2(**list_kwargs)\n",
    "        yield from response.get('Contents', [])\n",
    "        if not response.get('IsTruncated'):  # At the end of the list?\n",
    "            break\n",
    "        continuation_token = response.get('NextContinuationToken')\n",
    "\n",
    "for file in get_all_s3_objects(cos_client, Bucket='sentinel-1'):\n",
    "    print(file)\n",
    "\"\"\""
   ]
  },
  {
   "cell_type": "code",
   "execution_count": null,
   "id": "7d812dca-61e7-4d19-be7e-51590e303bb2",
   "metadata": {},
   "outputs": [],
   "source": [
    "import time\n",
    "from random import randrange"
   ]
  },
  {
   "cell_type": "code",
   "execution_count": null,
   "id": "9c49c7f4-21b7-4d75-95d0-4acab3cd911e",
   "metadata": {
    "scrolled": true
   },
   "outputs": [],
   "source": [
    "import pandas as pd\n"
   ]
  },
  {
   "cell_type": "code",
   "execution_count": null,
   "id": "1e3ae645-e43b-4e4c-9044-c2aa8266eab6",
   "metadata": {
    "scrolled": true
   },
   "outputs": [],
   "source": [
    "def penetrate(blocks, bs) -> pd.DataFrame:\n",
    "    df = pd.DataFrame(columns=['time1','time2'])\n",
    "    \n",
    "    for i in range(100):\n",
    "        start_bytes = randrange(1019)*block_size\n",
    "        stop_bytes = start_bytes+bs\n",
    "        start = time.time()\n",
    "        resp = cos_client.get_object(Bucket=bucket, Key=key, Range='bytes={}-{}'.format(start_bytes, stop_bytes))\n",
    "        end = time.time()\n",
    "        time1 = end - start\n",
    "        start = time.time()\n",
    "        res = resp['Body'].read()\n",
    "        end = time.time()\n",
    "        time2 = end - start\n",
    "        print(f'{time1},{time2}')\n",
    "        df.loc[len(df.index)] = [time1, time1]\n",
    "    return df\n",
    "        "
   ]
  },
  {
   "cell_type": "code",
   "execution_count": null,
   "id": "41aa9de1-c592-43d2-9710-cd09e6156ca8",
   "metadata": {
    "scrolled": true
   },
   "outputs": [],
   "source": [
    "blocks = int(4277006357 / block_size) # TODO obtain object size from COS object\n",
    "df1 = penetrate(blocks, block_size)"
   ]
  },
  {
   "cell_type": "code",
   "execution_count": null,
   "id": "083e4fca-4501-4d63-b151-09bb20b70556",
   "metadata": {},
   "outputs": [],
   "source": [
    "df1['time1'].mean()+df1['time2'].mean()"
   ]
  },
  {
   "cell_type": "code",
   "execution_count": null,
   "id": "486aa49b-2bfd-47b1-b418-33cc376f2733",
   "metadata": {
    "scrolled": true
   },
   "outputs": [],
   "source": [
    "blocks = int(4277006357 / block_size-1000000) # TODO obtain object size from COS object\n",
    "df2 = penetrate(blocks, block_size-1000000)"
   ]
  },
  {
   "cell_type": "code",
   "execution_count": null,
   "id": "19caf797-3026-4a1c-a812-6f2292ca897e",
   "metadata": {},
   "outputs": [],
   "source": [
    "df2['time1'].mean()+df2['time2'].mean()"
   ]
  },
  {
   "cell_type": "code",
   "execution_count": null,
   "id": "d3e799ca-450b-4333-bb4c-ba49b623b8c2",
   "metadata": {
    "scrolled": true
   },
   "outputs": [],
   "source": [
    "blocks = int(4277006357 / block_size+1000000) # TODO obtain object size from COS object\n",
    "df3 = penetrate(blocks, block_size+1000000)"
   ]
  },
  {
   "cell_type": "code",
   "execution_count": null,
   "id": "8bb56465-e3dd-448b-86d6-efc2c0080f97",
   "metadata": {},
   "outputs": [],
   "source": [
    "df3['time1'].mean()+df3['time2'].mean()"
   ]
  }
 ],
 "metadata": {
  "kernelspec": {
   "display_name": "Python 3 (ipykernel)",
   "language": "python",
   "name": "python3"
  },
  "language_info": {
   "codemirror_mode": {
    "name": "ipython",
    "version": 3
   },
   "file_extension": ".py",
   "mimetype": "text/x-python",
   "name": "python",
   "nbconvert_exporter": "python",
   "pygments_lexer": "ipython3",
   "version": "3.11.8"
  }
 },
 "nbformat": 4,
 "nbformat_minor": 5
}
