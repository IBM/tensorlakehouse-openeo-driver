{
 "cells": [
  {
   "cell_type": "markdown",
   "id": "a424eb9d-8b00-4fce-a283-7fa787ac2d7f",
   "metadata": {},
   "source": [
    "Tests COS performance"
   ]
  },
  {
   "cell_type": "code",
   "execution_count": null,
   "id": "55391c1a-8d7b-4f98-8e7c-b7b06499c270",
   "metadata": {
    "scrolled": true
   },
   "outputs": [],
   "source": [
    "!pip install ibm-cos-sdk python-dotenv pandas matplotlib"
   ]
  },
  {
   "cell_type": "code",
   "execution_count": 1,
   "id": "801140c2-1260-446b-8dad-2ad01d9f58c2",
   "metadata": {},
   "outputs": [],
   "source": [
    "import ibm_boto3\n",
    "from ibm_botocore.client import Config, ClientError\n",
    "from dotenv import load_dotenv\n",
    "import os\n",
    "import time\n",
    "from random import randrange\n",
    "import pandas as pd\n",
    "import threading"
   ]
  },
  {
   "cell_type": "code",
   "execution_count": 2,
   "id": "3089bf61-ce00-4944-9df2-4f756e12ce96",
   "metadata": {},
   "outputs": [],
   "source": [
    "%load_ext dotenv\n",
    "%dotenv cos_performance_test.credentials\n",
    "%dotenv cos_performance_test.env\n",
    "\n",
    "aws_access_key_id=os.environ.get('aws_access_key_id')\n",
    "aws_secret_access_key=os.environ.get('aws_secret_access_key')\n",
    "cos_endpoint_url=os.environ.get('cos_endpoint_url')\n",
    "\n",
    "# block size 4 MB is default (recommended)\n",
    "block_size=int(os.environ.get('block_size','4194304'))\n",
    "\n",
    "# number of threads used to penetrate\n",
    "num_threads=int(os.environ.get('num_threads','10'))\n",
    "\n",
    "          \n",
    "bucket=os.environ.get('bucket')\n",
    "key=os.environ.get('key')\n",
    "                \n"
   ]
  },
  {
   "cell_type": "code",
   "execution_count": 3,
   "id": "19cb0e44-7d0b-4c34-948c-d61627f5084d",
   "metadata": {},
   "outputs": [],
   "source": [
    "cos_client = ibm_boto3.client(\"s3\",\n",
    "    aws_access_key_id=aws_access_key_id,\n",
    "    aws_secret_access_key=aws_secret_access_key,\n",
    "    endpoint_url=cos_endpoint_url\n",
    ")"
   ]
  },
  {
   "cell_type": "code",
   "execution_count": 4,
   "id": "39734ffb-f23b-4f86-9cc2-3281eed6efcb",
   "metadata": {
    "scrolled": true
   },
   "outputs": [
    {
     "data": {
      "text/plain": [
       "\"\\ndef get_all_s3_objects(s3, **base_kwargs):\\n    continuation_token = None\\n    while True:\\n        list_kwargs = dict(MaxKeys=1000, **base_kwargs)\\n        if continuation_token:\\n            list_kwargs['ContinuationToken'] = continuation_token\\n        response = s3.list_objects_v2(**list_kwargs)\\n        yield from response.get('Contents', [])\\n        if not response.get('IsTruncated'):  # At the end of the list?\\n            break\\n        continuation_token = response.get('NextContinuationToken')\\n\\nfor file in get_all_s3_objects(cos_client, Bucket='sentinel-1'):\\n    print(file)\\n\""
      ]
     },
     "execution_count": 4,
     "metadata": {},
     "output_type": "execute_result"
    }
   ],
   "source": [
    "\"\"\"\n",
    "def get_all_s3_objects(s3, **base_kwargs):\n",
    "    continuation_token = None\n",
    "    while True:\n",
    "        list_kwargs = dict(MaxKeys=1000, **base_kwargs)\n",
    "        if continuation_token:\n",
    "            list_kwargs['ContinuationToken'] = continuation_token\n",
    "        response = s3.list_objects_v2(**list_kwargs)\n",
    "        yield from response.get('Contents', [])\n",
    "        if not response.get('IsTruncated'):  # At the end of the list?\n",
    "            break\n",
    "        continuation_token = response.get('NextContinuationToken')\n",
    "\n",
    "for file in get_all_s3_objects(cos_client, Bucket='sentinel-1'):\n",
    "    print(file)\n",
    "\"\"\""
   ]
  },
  {
   "cell_type": "code",
   "execution_count": 5,
   "id": "1e3ae645-e43b-4e4c-9044-c2aa8266eab6",
   "metadata": {
    "scrolled": true
   },
   "outputs": [],
   "source": [
    "def penetrate(blocks, bs, result_list) -> pd.DataFrame:\n",
    "    df = pd.DataFrame(columns=['time1','time2', 'time3'])\n",
    "    \n",
    "    for i in range(100):\n",
    "        start_bytes = randrange(blocks)*bs\n",
    "        stop_bytes = start_bytes+bs\n",
    "        range_string = 'bytes={}-{}'.format(start_bytes, stop_bytes)\n",
    "        #print(range_string)\n",
    "        start = time.time()\n",
    "        resp = cos_client.get_object(Bucket=bucket, Key=key, Range=range_string)\n",
    "        end = time.time()\n",
    "        time1 = end - start\n",
    "        start = time.time()\n",
    "        res = resp['Body'].read()\n",
    "        end = time.time()\n",
    "        time2 = end - start\n",
    "        time3 = time1 + time2\n",
    "        df.loc[len(df.index)] = [time1, time2, time3]\n",
    "    return result_list.append(df)\n",
    "        "
   ]
  },
  {
   "cell_type": "code",
   "execution_count": 6,
   "id": "41aa9de1-c592-43d2-9710-cd09e6156ca8",
   "metadata": {
    "scrolled": true
   },
   "outputs": [],
   "source": [
    "def run_test(num_threads, block_size):\n",
    "    blocks = int(4277006357 / block_size) # TODO obtain object size from COS object\n",
    "    \n",
    "    threads = []\n",
    "    dataframes = []\n",
    "    \n",
    "    for i in range(num_threads):\n",
    "        thread = threading.Thread(target=penetrate, args=(blocks,block_size, dataframes))\n",
    "        thread.start()\n",
    "        threads.append(thread)\n",
    "    \n",
    "    \n",
    "    for thread in threads:\n",
    "        thread.join()\n",
    "        \n",
    "    df = pd.concat(dataframes)\n",
    "    print(f'{num_threads} threads, {block_size} block size, Throughput: {1/df.time3.mean()*block_size/1000000000*num_threads} GB/s')"
   ]
  },
  {
   "cell_type": "code",
   "execution_count": null,
   "id": "b7b0a88b-1287-401d-81c2-3c5a65c6af87",
   "metadata": {
    "scrolled": true
   },
   "outputs": [],
   "source": [
    "for num_threads in [1,2,4,8,16,32,64,128]:\n",
    "    for block_size in [100000, 1000000,2*1000000,4*1000000,8*1000000,16*1000000]:\n",
    "        run_test(num_threads, block_size)"
   ]
  },
  {
   "cell_type": "code",
   "execution_count": 7,
   "id": "b48b3054-e04f-47c1-84c8-7d32b97b8c05",
   "metadata": {},
   "outputs": [
    {
     "name": "stdout",
     "output_type": "stream",
     "text": [
      "16 threads, 32000000 block size, Throughput: 0.6815147713675632 GB/s\n",
      "16 threads, 64000000 block size, Throughput: 0.7323492942957063 GB/s\n",
      "16 threads, 128000000 block size, Throughput: 0.8527259030804601 GB/s\n",
      "16 threads, 256000000 block size, Throughput: 0.8752263597326885 GB/s\n"
     ]
    }
   ],
   "source": [
    "for num_threads in [16]:\n",
    "    for block_size in [32*1000000,64*1000000,128*1000000,256*1000000]:\n",
    "        run_test(num_threads, block_size)"
   ]
  },
  {
   "cell_type": "code",
   "execution_count": null,
   "id": "78248338-be33-45f0-b511-f69ed4417608",
   "metadata": {},
   "outputs": [],
   "source": [
    "for num_threads in [16]:\n",
    "    for block_size in [512*1000000,1024*1000000,2048*1000000,4096*1000000]:\n",
    "        run_test(num_threads, block_size)"
   ]
  },
  {
   "cell_type": "code",
   "execution_count": null,
   "id": "7d8e289e-42e7-450a-be82-251c1dca628d",
   "metadata": {},
   "outputs": [],
   "source": []
  }
 ],
 "metadata": {
  "kernelspec": {
   "display_name": "Python 3 (ipykernel)",
   "language": "python",
   "name": "python3"
  },
  "language_info": {
   "codemirror_mode": {
    "name": "ipython",
    "version": 3
   },
   "file_extension": ".py",
   "mimetype": "text/x-python",
   "name": "python",
   "nbconvert_exporter": "python",
   "pygments_lexer": "ipython3",
   "version": "3.12.3"
  }
 },
 "nbformat": 4,
 "nbformat_minor": 5
}
