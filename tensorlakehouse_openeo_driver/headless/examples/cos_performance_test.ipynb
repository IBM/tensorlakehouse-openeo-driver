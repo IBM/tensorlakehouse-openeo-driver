{
 "cells": [
  {
   "cell_type": "markdown",
   "id": "a424eb9d-8b00-4fce-a283-7fa787ac2d7f",
   "metadata": {},
   "source": [
    "Tests COS performance"
   ]
  },
  {
   "cell_type": "code",
   "execution_count": null,
   "id": "55391c1a-8d7b-4f98-8e7c-b7b06499c270",
   "metadata": {
    "scrolled": true
   },
   "outputs": [],
   "source": [
    "!pip install ibm-cos-sdk"
   ]
  },
  {
   "cell_type": "code",
   "execution_count": null,
   "id": "801140c2-1260-446b-8dad-2ad01d9f58c2",
   "metadata": {},
   "outputs": [],
   "source": [
    "import ibm_boto3\n",
    "from ibm_botocore.client import Config, ClientError\n",
    "from dotenv import load_dotenv\n",
    "import os"
   ]
  },
  {
   "cell_type": "code",
   "execution_count": null,
   "id": "3089bf61-ce00-4944-9df2-4f756e12ce96",
   "metadata": {},
   "outputs": [],
   "source": [
    "%load_ext dotenv\n",
    "%dotenv cos_performance_test.credentials\n",
    "%dotenv cos_performance_test.env\n",
    "\n",
    "aws_access_key_id=os.environ.get('aws_access_key_id')\n",
    "aws_secret_access_key=os.environ.get('aws_secret_access_key')\n",
    "cos_endpoint_url=os.environ.get('cos_endpoint_url')\n",
    "\n",
    "# block size 4 MB is default (recommended)\n",
    "block_size=int(os.environ.get('block_size','4194304'))\n",
    "          \n",
    "bucket=os.environ.get('bucket')\n",
    "key=os.environ.get('key')\n",
    "                \n"
   ]
  },
  {
   "cell_type": "code",
   "execution_count": null,
   "id": "19cb0e44-7d0b-4c34-948c-d61627f5084d",
   "metadata": {},
   "outputs": [],
   "source": [
    "cos_client = ibm_boto3.client(\"s3\",\n",
    "    aws_access_key_id=aws_access_key_id,\n",
    "    aws_secret_access_key=aws_secret_access_key,\n",
    "    endpoint_url=cos_endpoint_url\n",
    ")"
   ]
  },
  {
   "cell_type": "code",
   "execution_count": null,
   "id": "39734ffb-f23b-4f86-9cc2-3281eed6efcb",
   "metadata": {
    "scrolled": true
   },
   "outputs": [],
   "source": [
    "\"\"\"\n",
    "def get_all_s3_objects(s3, **base_kwargs):\n",
    "    continuation_token = None\n",
    "    while True:\n",
    "        list_kwargs = dict(MaxKeys=1000, **base_kwargs)\n",
    "        if continuation_token:\n",
    "            list_kwargs['ContinuationToken'] = continuation_token\n",
    "        response = s3.list_objects_v2(**list_kwargs)\n",
    "        yield from response.get('Contents', [])\n",
    "        if not response.get('IsTruncated'):  # At the end of the list?\n",
    "            break\n",
    "        continuation_token = response.get('NextContinuationToken')\n",
    "\n",
    "for file in get_all_s3_objects(cos_client, Bucket='sentinel-1'):\n",
    "    print(file)\n",
    "\"\"\""
   ]
  },
  {
   "cell_type": "code",
   "execution_count": null,
   "id": "7d812dca-61e7-4d19-be7e-51590e303bb2",
   "metadata": {},
   "outputs": [],
   "source": [
    "import time\n",
    "\n",
    "start = time.time()\n",
    "resp = cos_client.get_object(Bucket=bucket, Key=key, Range='bytes={}-{}'.format(0, block_size))\n",
    "end = time.time()\n",
    "print(end - start)"
   ]
  },
  {
   "cell_type": "code",
   "execution_count": null,
   "id": "fe86d566-b7f7-4102-82cc-cf7b3801f582",
   "metadata": {},
   "outputs": [],
   "source": [
    "start = time.time()\n",
    "res = resp['Body'].read()\n",
    "end = time.time()\n",
    "print(end - start)"
   ]
  },
  {
   "cell_type": "code",
   "execution_count": null,
   "id": "c8982bee-2c0e-4f71-9afc-982ef2ae43ef",
   "metadata": {},
   "outputs": [],
   "source": [
    "len(res)"
   ]
  }
 ],
 "metadata": {
  "kernelspec": {
   "display_name": "Python 3 (ipykernel)",
   "language": "python",
   "name": "python3"
  },
  "language_info": {
   "codemirror_mode": {
    "name": "ipython",
    "version": 3
   },
   "file_extension": ".py",
   "mimetype": "text/x-python",
   "name": "python",
   "nbconvert_exporter": "python",
   "pygments_lexer": "ipython3",
   "version": "3.12.3"
  }
 },
 "nbformat": 4,
 "nbformat_minor": 5
}
