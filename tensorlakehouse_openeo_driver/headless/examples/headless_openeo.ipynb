{
 "cells": [
  {
   "cell_type": "code",
   "execution_count": null,
   "id": "95036439-3ce7-42b7-8695-e5127add2414",
   "metadata": {
    "scrolled": true
   },
   "outputs": [],
   "source": [
    "!pip install openeo openeo-pg-parser-networkx openeo[localprocessing] openeo-processes-dask openeo-processes"
   ]
  },
  {
   "cell_type": "code",
   "execution_count": 1,
   "id": "3d47ee86-00e6-4dd3-8d61-dc981e127308",
   "metadata": {},
   "outputs": [
    {
     "ename": "TypeError",
     "evalue": "unsupported operand type(s) for |: 'type' and 'types.GenericAlias'",
     "output_type": "error",
     "traceback": [
      "\u001b[0;31m---------------------------------------------------------------------------\u001b[0m",
      "\u001b[0;31mTypeError\u001b[0m                                 Traceback (most recent call last)",
      "Cell \u001b[0;32mIn[1], line 1\u001b[0m\n\u001b[0;32m----> 1\u001b[0m \u001b[38;5;28;01mfrom\u001b[39;00m \u001b[38;5;21;01mopeneo\u001b[39;00m\u001b[38;5;21;01m.\u001b[39;00m\u001b[38;5;21;01mlocal\u001b[39;00m \u001b[38;5;28;01mimport\u001b[39;00m LocalConnection\n\u001b[1;32m      2\u001b[0m \u001b[38;5;28;01mfrom\u001b[39;00m \u001b[38;5;21;01mpathlib\u001b[39;00m \u001b[38;5;28;01mimport\u001b[39;00m Path\n\u001b[1;32m      3\u001b[0m \u001b[38;5;28;01mimport\u001b[39;00m \u001b[38;5;21;01mpytest\u001b[39;00m\n",
      "File \u001b[0;32m~/gitco/tensorlakehouse-openeo-driver/venv/lib64/python3.9/site-packages/openeo/local/__init__.py:1\u001b[0m\n\u001b[0;32m----> 1\u001b[0m \u001b[38;5;28;01mfrom\u001b[39;00m \u001b[38;5;21;01mopeneo\u001b[39;00m\u001b[38;5;21;01m.\u001b[39;00m\u001b[38;5;21;01mlocal\u001b[39;00m\u001b[38;5;21;01m.\u001b[39;00m\u001b[38;5;21;01mconnection\u001b[39;00m \u001b[38;5;28;01mimport\u001b[39;00m LocalConnection\n\u001b[1;32m      3\u001b[0m __all__ \u001b[38;5;241m=\u001b[39m [\u001b[38;5;124m\"\u001b[39m\u001b[38;5;124mLocalConnection\u001b[39m\u001b[38;5;124m\"\u001b[39m]\n",
      "File \u001b[0;32m~/gitco/tensorlakehouse-openeo-driver/venv/lib64/python3.9/site-packages/openeo/local/connection.py:10\u001b[0m\n\u001b[1;32m      8\u001b[0m \u001b[38;5;28;01mfrom\u001b[39;00m \u001b[38;5;21;01mopeneo_pg_parser_networkx\u001b[39;00m\u001b[38;5;21;01m.\u001b[39;00m\u001b[38;5;21;01mgraph\u001b[39;00m \u001b[38;5;28;01mimport\u001b[39;00m OpenEOProcessGraph\n\u001b[1;32m      9\u001b[0m \u001b[38;5;28;01mfrom\u001b[39;00m \u001b[38;5;21;01mopeneo_pg_parser_networkx\u001b[39;00m\u001b[38;5;21;01m.\u001b[39;00m\u001b[38;5;21;01mpg_schema\u001b[39;00m \u001b[38;5;28;01mimport\u001b[39;00m BoundingBox, TemporalInterval\n\u001b[0;32m---> 10\u001b[0m \u001b[38;5;28;01mfrom\u001b[39;00m \u001b[38;5;21;01mopeneo_processes_dask\u001b[39;00m\u001b[38;5;21;01m.\u001b[39;00m\u001b[38;5;21;01mprocess_implementations\u001b[39;00m\u001b[38;5;21;01m.\u001b[39;00m\u001b[38;5;21;01mcubes\u001b[39;00m \u001b[38;5;28;01mimport\u001b[39;00m load_stac\n\u001b[1;32m     12\u001b[0m \u001b[38;5;28;01mfrom\u001b[39;00m \u001b[38;5;21;01mopeneo\u001b[39;00m\u001b[38;5;21;01m.\u001b[39;00m\u001b[38;5;21;01minternal\u001b[39;00m\u001b[38;5;21;01m.\u001b[39;00m\u001b[38;5;21;01mgraph_building\u001b[39;00m \u001b[38;5;28;01mimport\u001b[39;00m PGNode, as_flat_graph\n\u001b[1;32m     13\u001b[0m \u001b[38;5;28;01mfrom\u001b[39;00m \u001b[38;5;21;01mopeneo\u001b[39;00m\u001b[38;5;21;01m.\u001b[39;00m\u001b[38;5;21;01minternal\u001b[39;00m\u001b[38;5;21;01m.\u001b[39;00m\u001b[38;5;21;01mjupyter\u001b[39;00m \u001b[38;5;28;01mimport\u001b[39;00m VisualDict, VisualList\n",
      "File \u001b[0;32m~/gitco/tensorlakehouse-openeo-driver/venv/lib64/python3.9/site-packages/openeo_processes_dask/process_implementations/__init__.py:5\u001b[0m\n\u001b[1;32m      1\u001b[0m \u001b[38;5;28;01mimport\u001b[39;00m \u001b[38;5;21;01mlogging\u001b[39;00m\n\u001b[1;32m      3\u001b[0m logger \u001b[38;5;241m=\u001b[39m logging\u001b[38;5;241m.\u001b[39mgetLogger(\u001b[38;5;18m__name__\u001b[39m)\n\u001b[0;32m----> 5\u001b[0m \u001b[38;5;28;01mfrom\u001b[39;00m \u001b[38;5;21;01m.\u001b[39;00m\u001b[38;5;21;01marrays\u001b[39;00m \u001b[38;5;28;01mimport\u001b[39;00m \u001b[38;5;241m*\u001b[39m\n\u001b[1;32m      6\u001b[0m \u001b[38;5;28;01mfrom\u001b[39;00m \u001b[38;5;21;01m.\u001b[39;00m\u001b[38;5;21;01mcomparison\u001b[39;00m \u001b[38;5;28;01mimport\u001b[39;00m \u001b[38;5;241m*\u001b[39m\n\u001b[1;32m      7\u001b[0m \u001b[38;5;28;01mfrom\u001b[39;00m \u001b[38;5;21;01m.\u001b[39;00m\u001b[38;5;21;01mcubes\u001b[39;00m \u001b[38;5;28;01mimport\u001b[39;00m \u001b[38;5;241m*\u001b[39m\n",
      "File \u001b[0;32m~/gitco/tensorlakehouse-openeo-driver/venv/lib64/python3.9/site-packages/openeo_processes_dask/process_implementations/arrays.py:13\u001b[0m\n\u001b[1;32m     10\u001b[0m \u001b[38;5;28;01mfrom\u001b[39;00m \u001b[38;5;21;01mopeneo_pg_parser_networkx\u001b[39;00m\u001b[38;5;21;01m.\u001b[39;00m\u001b[38;5;21;01mpg_schema\u001b[39;00m \u001b[38;5;28;01mimport\u001b[39;00m DateTime\n\u001b[1;32m     11\u001b[0m \u001b[38;5;28;01mfrom\u001b[39;00m \u001b[38;5;21;01mxarray\u001b[39;00m\u001b[38;5;21;01m.\u001b[39;00m\u001b[38;5;21;01mcore\u001b[39;00m\u001b[38;5;21;01m.\u001b[39;00m\u001b[38;5;21;01mduck_array_ops\u001b[39;00m \u001b[38;5;28;01mimport\u001b[39;00m isnull, notnull\n\u001b[0;32m---> 13\u001b[0m \u001b[38;5;28;01mfrom\u001b[39;00m \u001b[38;5;21;01mopeneo_processes_dask\u001b[39;00m\u001b[38;5;21;01m.\u001b[39;00m\u001b[38;5;21;01mprocess_implementations\u001b[39;00m\u001b[38;5;21;01m.\u001b[39;00m\u001b[38;5;21;01mcubes\u001b[39;00m\u001b[38;5;21;01m.\u001b[39;00m\u001b[38;5;21;01mutils\u001b[39;00m \u001b[38;5;28;01mimport\u001b[39;00m _is_dask_array\n\u001b[1;32m     14\u001b[0m \u001b[38;5;28;01mfrom\u001b[39;00m \u001b[38;5;21;01mopeneo_processes_dask\u001b[39;00m\u001b[38;5;21;01m.\u001b[39;00m\u001b[38;5;21;01mprocess_implementations\u001b[39;00m\u001b[38;5;21;01m.\u001b[39;00m\u001b[38;5;21;01mexceptions\u001b[39;00m \u001b[38;5;28;01mimport\u001b[39;00m (\n\u001b[1;32m     15\u001b[0m     ArrayElementNotAvailable,\n\u001b[1;32m     16\u001b[0m     ArrayElementParameterConflict,\n\u001b[1;32m     17\u001b[0m     ArrayElementParameterMissing,\n\u001b[1;32m     18\u001b[0m     TooManyDimensions,\n\u001b[1;32m     19\u001b[0m )\n\u001b[1;32m     21\u001b[0m logger \u001b[38;5;241m=\u001b[39m logging\u001b[38;5;241m.\u001b[39mgetLogger(\u001b[38;5;18m__name__\u001b[39m)\n",
      "File \u001b[0;32m~/gitco/tensorlakehouse-openeo-driver/venv/lib64/python3.9/site-packages/openeo_processes_dask/process_implementations/cubes/__init__.py:7\u001b[0m\n\u001b[1;32m      5\u001b[0m \u001b[38;5;28;01mfrom\u001b[39;00m \u001b[38;5;21;01m.\u001b[39;00m\u001b[38;5;21;01mindices\u001b[39;00m \u001b[38;5;28;01mimport\u001b[39;00m \u001b[38;5;241m*\u001b[39m\n\u001b[1;32m      6\u001b[0m \u001b[38;5;28;01mfrom\u001b[39;00m \u001b[38;5;21;01m.\u001b[39;00m\u001b[38;5;21;01mload\u001b[39;00m \u001b[38;5;28;01mimport\u001b[39;00m \u001b[38;5;241m*\u001b[39m\n\u001b[0;32m----> 7\u001b[0m \u001b[38;5;28;01mfrom\u001b[39;00m \u001b[38;5;21;01m.\u001b[39;00m\u001b[38;5;21;01mmask\u001b[39;00m \u001b[38;5;28;01mimport\u001b[39;00m \u001b[38;5;241m*\u001b[39m\n\u001b[1;32m      8\u001b[0m \u001b[38;5;28;01mfrom\u001b[39;00m \u001b[38;5;21;01m.\u001b[39;00m\u001b[38;5;21;01mmask_polygon\u001b[39;00m \u001b[38;5;28;01mimport\u001b[39;00m \u001b[38;5;241m*\u001b[39m\n\u001b[1;32m      9\u001b[0m \u001b[38;5;28;01mfrom\u001b[39;00m \u001b[38;5;21;01m.\u001b[39;00m\u001b[38;5;21;01mmerge\u001b[39;00m \u001b[38;5;28;01mimport\u001b[39;00m \u001b[38;5;241m*\u001b[39m\n",
      "File \u001b[0;32m~/gitco/tensorlakehouse-openeo-driver/venv/lib64/python3.9/site-packages/openeo_processes_dask/process_implementations/cubes/mask.py:6\u001b[0m\n\u001b[1;32m      2\u001b[0m \u001b[38;5;28;01mfrom\u001b[39;00m \u001b[38;5;21;01mtyping\u001b[39;00m \u001b[38;5;28;01mimport\u001b[39;00m Callable\n\u001b[1;32m      4\u001b[0m \u001b[38;5;28;01mimport\u001b[39;00m \u001b[38;5;21;01mnumpy\u001b[39;00m \u001b[38;5;28;01mas\u001b[39;00m \u001b[38;5;21;01mnp\u001b[39;00m\n\u001b[0;32m----> 6\u001b[0m \u001b[38;5;28;01mfrom\u001b[39;00m \u001b[38;5;21;01mopeneo_processes_dask\u001b[39;00m\u001b[38;5;21;01m.\u001b[39;00m\u001b[38;5;21;01mprocess_implementations\u001b[39;00m\u001b[38;5;21;01m.\u001b[39;00m\u001b[38;5;21;01mcubes\u001b[39;00m\u001b[38;5;21;01m.\u001b[39;00m\u001b[38;5;21;01mresample\u001b[39;00m \u001b[38;5;28;01mimport\u001b[39;00m (\n\u001b[1;32m      7\u001b[0m     resample_cube_spatial,\n\u001b[1;32m      8\u001b[0m )\n\u001b[1;32m      9\u001b[0m \u001b[38;5;28;01mfrom\u001b[39;00m \u001b[38;5;21;01mopeneo_processes_dask\u001b[39;00m\u001b[38;5;21;01m.\u001b[39;00m\u001b[38;5;21;01mprocess_implementations\u001b[39;00m\u001b[38;5;21;01m.\u001b[39;00m\u001b[38;5;21;01mcubes\u001b[39;00m\u001b[38;5;21;01m.\u001b[39;00m\u001b[38;5;21;01mutils\u001b[39;00m \u001b[38;5;28;01mimport\u001b[39;00m notnull\n\u001b[1;32m     10\u001b[0m \u001b[38;5;28;01mfrom\u001b[39;00m \u001b[38;5;21;01mopeneo_processes_dask\u001b[39;00m\u001b[38;5;21;01m.\u001b[39;00m\u001b[38;5;21;01mprocess_implementations\u001b[39;00m\u001b[38;5;21;01m.\u001b[39;00m\u001b[38;5;21;01mdata_model\u001b[39;00m \u001b[38;5;28;01mimport\u001b[39;00m RasterCube\n",
      "File \u001b[0;32m~/gitco/tensorlakehouse-openeo-driver/venv/lib64/python3.9/site-packages/openeo_processes_dask/process_implementations/cubes/resample.py:4\u001b[0m\n\u001b[1;32m      1\u001b[0m \u001b[38;5;28;01mimport\u001b[39;00m \u001b[38;5;21;01mlogging\u001b[39;00m\n\u001b[1;32m      2\u001b[0m \u001b[38;5;28;01mfrom\u001b[39;00m \u001b[38;5;21;01mtyping\u001b[39;00m \u001b[38;5;28;01mimport\u001b[39;00m Optional, Union\n\u001b[0;32m----> 4\u001b[0m \u001b[38;5;28;01mimport\u001b[39;00m \u001b[38;5;21;01modc\u001b[39;00m\u001b[38;5;21;01m.\u001b[39;00m\u001b[38;5;21;01mgeo\u001b[39;00m\u001b[38;5;21;01m.\u001b[39;00m\u001b[38;5;21;01mxr\u001b[39;00m\n\u001b[1;32m      5\u001b[0m \u001b[38;5;28;01mimport\u001b[39;00m \u001b[38;5;21;01mrioxarray\u001b[39;00m  \u001b[38;5;66;03m# needs to be imported to set .rio accessor on xarray objects.\u001b[39;00m\n\u001b[1;32m      6\u001b[0m \u001b[38;5;28;01mfrom\u001b[39;00m \u001b[38;5;21;01modc\u001b[39;00m\u001b[38;5;21;01m.\u001b[39;00m\u001b[38;5;21;01mgeo\u001b[39;00m\u001b[38;5;21;01m.\u001b[39;00m\u001b[38;5;21;01mgeobox\u001b[39;00m \u001b[38;5;28;01mimport\u001b[39;00m resolution_from_affine\n",
      "File \u001b[0;32m~/gitco/tensorlakehouse-openeo-driver/venv/lib64/python3.9/site-packages/odc/geo/xr.py:15\u001b[0m\n\u001b[1;32m      5\u001b[0m \u001b[38;5;124;03m\"\"\"\u001b[39;00m\n\u001b[1;32m      6\u001b[0m \u001b[38;5;124;03mXarray Intergration.\u001b[39;00m\n\u001b[1;32m      7\u001b[0m \n\u001b[0;32m   (...)\u001b[0m\n\u001b[1;32m     12\u001b[0m \u001b[38;5;124;03m:py:class:`~odc.geo.xr.ODCExtensionDs`.\u001b[39;00m\n\u001b[1;32m     13\u001b[0m \u001b[38;5;124;03m\"\"\"\u001b[39;00m\n\u001b[1;32m     14\u001b[0m \u001b[38;5;28;01mfrom\u001b[39;00m \u001b[38;5;21;01m.\u001b[39;00m\u001b[38;5;21;01m_interop\u001b[39;00m \u001b[38;5;28;01mimport\u001b[39;00m have\n\u001b[0;32m---> 15\u001b[0m \u001b[38;5;28;01mfrom\u001b[39;00m \u001b[38;5;21;01m.\u001b[39;00m\u001b[38;5;21;01m_xr_interop\u001b[39;00m \u001b[38;5;28;01mimport\u001b[39;00m (\n\u001b[1;32m     16\u001b[0m     ODCExtension,\n\u001b[1;32m     17\u001b[0m     ODCExtensionDa,\n\u001b[1;32m     18\u001b[0m     ODCExtensionDs,\n\u001b[1;32m     19\u001b[0m     assign_crs,\n\u001b[1;32m     20\u001b[0m     colorize,\n\u001b[1;32m     21\u001b[0m     crop,\n\u001b[1;32m     22\u001b[0m     mask,\n\u001b[1;32m     23\u001b[0m     rasterize,\n\u001b[1;32m     24\u001b[0m     register_geobox,\n\u001b[1;32m     25\u001b[0m     spatial_dims,\n\u001b[1;32m     26\u001b[0m     to_rgba,\n\u001b[1;32m     27\u001b[0m     wrap_xr,\n\u001b[1;32m     28\u001b[0m     xr_coords,\n\u001b[1;32m     29\u001b[0m     xr_reproject,\n\u001b[1;32m     30\u001b[0m     xr_zeros,\n\u001b[1;32m     31\u001b[0m )\n\u001b[1;32m     33\u001b[0m wrap \u001b[38;5;241m=\u001b[39m wrap_xr\n\u001b[1;32m     35\u001b[0m __all__ \u001b[38;5;241m=\u001b[39m [\n\u001b[1;32m     36\u001b[0m     \u001b[38;5;124m\"\u001b[39m\u001b[38;5;124mODCExtension\u001b[39m\u001b[38;5;124m\"\u001b[39m,\n\u001b[1;32m     37\u001b[0m     \u001b[38;5;124m\"\u001b[39m\u001b[38;5;124mODCExtensionDa\u001b[39m\u001b[38;5;124m\"\u001b[39m,\n\u001b[0;32m   (...)\u001b[0m\n\u001b[1;32m     51\u001b[0m     \u001b[38;5;124m\"\u001b[39m\u001b[38;5;124mmask\u001b[39m\u001b[38;5;124m\"\u001b[39m,\n\u001b[1;32m     52\u001b[0m ]\n",
      "File \u001b[0;32m~/gitco/tensorlakehouse-openeo-driver/venv/lib64/python3.9/site-packages/odc/geo/_xr_interop.py:54\u001b[0m\n\u001b[1;32m     52\u001b[0m     \u001b[38;5;28;01mfrom\u001b[39;00m \u001b[38;5;21;01m.\u001b[39;00m\u001b[38;5;21;01m_compress\u001b[39;00m \u001b[38;5;28;01mimport\u001b[39;00m compress\n\u001b[1;32m     53\u001b[0m     \u001b[38;5;28;01mfrom\u001b[39;00m \u001b[38;5;21;01m.\u001b[39;00m\u001b[38;5;21;01m_map\u001b[39;00m \u001b[38;5;28;01mimport\u001b[39;00m add_to, explore\n\u001b[0;32m---> 54\u001b[0m     \u001b[38;5;28;01mfrom\u001b[39;00m \u001b[38;5;21;01m.\u001b[39;00m\u001b[38;5;21;01mcog\u001b[39;00m \u001b[38;5;28;01mimport\u001b[39;00m to_cog, write_cog\n\u001b[1;32m     55\u001b[0m     \u001b[38;5;28;01mfrom\u001b[39;00m \u001b[38;5;21;01m.\u001b[39;00m\u001b[38;5;21;01mwarp\u001b[39;00m \u001b[38;5;28;01mimport\u001b[39;00m rio_reproject\n\u001b[1;32m     57\u001b[0m XarrayObject \u001b[38;5;241m=\u001b[39m Union[xarray\u001b[38;5;241m.\u001b[39mDataArray, xarray\u001b[38;5;241m.\u001b[39mDataset]\n",
      "File \u001b[0;32m~/gitco/tensorlakehouse-openeo-driver/venv/lib64/python3.9/site-packages/odc/geo/cog/__init__.py:1\u001b[0m\n\u001b[0;32m----> 1\u001b[0m \u001b[38;5;28;01mfrom\u001b[39;00m \u001b[38;5;21;01m.\u001b[39;00m\u001b[38;5;21;01m_rio\u001b[39;00m \u001b[38;5;28;01mimport\u001b[39;00m to_cog, write_cog, write_cog_layers\n\u001b[1;32m      2\u001b[0m \u001b[38;5;28;01mfrom\u001b[39;00m \u001b[38;5;21;01m.\u001b[39;00m\u001b[38;5;21;01m_shared\u001b[39;00m \u001b[38;5;28;01mimport\u001b[39;00m CogMeta, cog_gbox\n\u001b[1;32m      3\u001b[0m \u001b[38;5;28;01mfrom\u001b[39;00m \u001b[38;5;21;01m.\u001b[39;00m\u001b[38;5;21;01m_tifffile\u001b[39;00m \u001b[38;5;28;01mimport\u001b[39;00m save_cog_with_dask\n",
      "File \u001b[0;32m~/gitco/tensorlakehouse-openeo-driver/venv/lib64/python3.9/site-packages/odc/geo/cog/_rio.py:87\u001b[0m\n\u001b[1;32m     82\u001b[0m         compression \u001b[38;5;241m=\u001b[39m {\u001b[38;5;124m\"\u001b[39m\u001b[38;5;124mcompress\u001b[39m\u001b[38;5;124m\"\u001b[39m: compression}\n\u001b[1;32m     83\u001b[0m     \u001b[38;5;28;01mreturn\u001b[39;00m compression\n\u001b[1;32m     86\u001b[0m \u001b[38;5;28;01mdef\u001b[39;00m \u001b[38;5;21m_get_gdal_metadata\u001b[39m(\n\u001b[0;32m---> 87\u001b[0m     xx: \u001b[43mxr\u001b[49m\u001b[38;5;241;43m.\u001b[39;49m\u001b[43mDataArray\u001b[49m\u001b[43m \u001b[49m\u001b[38;5;241;43m|\u001b[39;49m\u001b[43m \u001b[49m\u001b[38;5;28;43mlist\u001b[39;49m\u001b[43m[\u001b[49m\u001b[43mxr\u001b[49m\u001b[38;5;241;43m.\u001b[39;49m\u001b[43mDataArray\u001b[49m\u001b[43m]\u001b[49m,\n\u001b[1;32m     88\u001b[0m     tags: Optional[Dict[\u001b[38;5;28mstr\u001b[39m, Any]],\n\u001b[1;32m     89\u001b[0m ) \u001b[38;5;241m-\u001b[39m\u001b[38;5;241m>\u001b[39m Dict[\u001b[38;5;28mstr\u001b[39m, Any]:\n\u001b[1;32m     90\u001b[0m \u001b[38;5;250m    \u001b[39m\u001b[38;5;124;03m\"\"\"\u001b[39;00m\n\u001b[1;32m     91\u001b[0m \u001b[38;5;124;03m    Extract metadata from xarray for GDAL.\u001b[39;00m\n\u001b[1;32m     92\u001b[0m \n\u001b[1;32m     93\u001b[0m \u001b[38;5;124;03m    :param xx: xarray.DataArray\u001b[39;00m\n\u001b[1;32m     94\u001b[0m \u001b[38;5;124;03m    :return: Dictionary of metadata\u001b[39;00m\n\u001b[1;32m     95\u001b[0m \u001b[38;5;124;03m    \"\"\"\u001b[39;00m\n\u001b[1;32m     96\u001b[0m     meta: Dict[\u001b[38;5;28mstr\u001b[39m, Any] \u001b[38;5;241m=\u001b[39m {\u001b[38;5;124m\"\u001b[39m\u001b[38;5;124mtags\u001b[39m\u001b[38;5;124m\"\u001b[39m: tags}\n",
      "\u001b[0;31mTypeError\u001b[0m: unsupported operand type(s) for |: 'type' and 'types.GenericAlias'"
     ]
    }
   ],
   "source": [
    "from openeo.local import LocalConnection\n",
    "from pathlib import Path\n",
    "import pytest\n",
    "import xarray as xr\n",
    "\n",
    "from tensorlakehouse_openeo_driver.constants import DEFAULT_X_DIMENSION, DEFAULT_Y_DIMENSION\n"
   ]
  },
  {
   "cell_type": "code",
   "execution_count": null,
   "id": "99e93e47-4699-4fa6-99ee-6603018b3a7c",
   "metadata": {},
   "outputs": [],
   "source": [
    "from openeo.local import LocalConnection\n",
    "from pathlib import Path\n",
    "import pytest\n",
    "import xarray as xr\n",
    "\n",
    "from tensorlakehouse_openeo_driver.constants import DEFAULT_X_DIMENSION, DEFAULT_Y_DIMENSION\n",
    "\n",
    "# from tensorlakehouse_openeo_driver.local.connection import GeodnLocalConnection\n",
    "\n",
    "\n",
    "@pytest.mark.parametrize(\n",
    "    \"path\",\n",
    "    [\n",
    "        \"/Users/ltizzei/Projects/Orgs/IBM/tensorlakehouse-openeo-driver/tensorlakehouse_openeo_driver/tests/test_data/test_openeo_Globalweather-ERA5-.nc\",\n",
    "        \"/Users/ltizzei/Projects/Orgs/IBM/tensorlakehouse-openeo-driver/tensorlakehouse_openeo_driver/tests/test_data/tasmax_rcp85_land-cpm_uk_2.2km/tasmax_rcp85_land-cpm_uk_2.2km_01_day_20701201-20711130_reproj.nc\",\n",
    "    ],\n",
    ")\n",
    "def test_local_connection(path: str):\n",
    "    p = Path(path)\n",
    "    assert p.exists(), f\"Error! File does not exist {p}\"\n",
    "\n",
    "    local_conn = LocalConnection(p.parent)\n",
    "\n",
    "    # list_collections = local_conn.list_collections()\n",
    "    coll = local_conn.describe_collection(path)\n",
    "    cube_dimensions = coll[\"cube:dimensions\"]\n",
    "    temporal_dim_name = None\n",
    "    for dim_name, dim_info in cube_dimensions.items():\n",
    "        if dim_info.get(\"axis\") is not None:\n",
    "            if dim_info.get(\"axis\") == DEFAULT_X_DIMENSION: \n",
    "                west = dim_info[\"extent\"][0]\n",
    "                east = dim_info[\"extent\"][1]\n",
    "            if dim_info.get(\"axis\") == DEFAULT_Y_DIMENSION: \n",
    "                south = dim_info[\"extent\"][0]\n",
    "                north = dim_info[\"extent\"][1]\n",
    "        elif dim_info.get(\"type\") == \"temporal\":\n",
    "            temporal_dim_name = dim_name\n",
    "    coords = list()\n",
    "    for lat in [south, north]:\n",
    "        for lon in [west, east]:\n",
    "            coords.append([lon, lat])\n",
    "    datacube = local_conn.load_collection(path)\n",
    "    datacube = datacube.reduce_dimension(dimension=temporal_dim_name, reducer=\"mean\")\n",
    "    data: xr.DataArray = datacube.execute()\n",
    "    assert isinstance(data, xr.DataArray)\n",
    "    assert temporal_dim_name not in data.dims"
   ]
  },
  {
   "cell_type": "code",
   "execution_count": null,
   "id": "b5e0039a-c170-4304-9e3d-1750b13d35de",
   "metadata": {},
   "outputs": [],
   "source": []
  }
 ],
 "metadata": {
  "kernelspec": {
   "display_name": "Python 3 (ipykernel)",
   "language": "python",
   "name": "python3"
  },
  "language_info": {
   "codemirror_mode": {
    "name": "ipython",
    "version": 3
   },
   "file_extension": ".py",
   "mimetype": "text/x-python",
   "name": "python",
   "nbconvert_exporter": "python",
   "pygments_lexer": "ipython3",
   "version": "3.9.19"
  }
 },
 "nbformat": 4,
 "nbformat_minor": 5
}
