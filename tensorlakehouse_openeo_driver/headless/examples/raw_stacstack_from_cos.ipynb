{
 "cells": [
  {
   "cell_type": "markdown",
   "id": "a424eb9d-8b00-4fce-a283-7fa787ac2d7f",
   "metadata": {},
   "source": [
    "Creates a lazy xarray from a STAC collection and saves the result to a COG file"
   ]
  },
  {
   "cell_type": "code",
   "execution_count": null,
   "id": "55391c1a-8d7b-4f98-8e7c-b7b06499c270",
   "metadata": {
    "scrolled": true
   },
   "outputs": [],
   "source": [
    "#!pip install boto3 rasterio stackstac pystac pystac_client numpy rioxarray"
   ]
  },
  {
   "cell_type": "code",
   "execution_count": null,
   "id": "801140c2-1260-446b-8dad-2ad01d9f58c2",
   "metadata": {},
   "outputs": [],
   "source": [
    "from boto3.session import Session\n",
    "from rasterio.session import AWSSession\n",
    "import stackstac\n",
    "import pystac\n",
    "import os\n",
    "import rioxarray"
   ]
  },
  {
   "cell_type": "code",
   "execution_count": null,
   "id": "3089bf61-ce00-4944-9df2-4f756e12ce96",
   "metadata": {},
   "outputs": [],
   "source": [
    "aws_access_key_id=os.environ.get('aws_access_key_id')\n",
    "aws_secret_access_key=os.environ.get('aws_secret_access_key')\n",
    "endpoint_url=os.environ.get('endpoint_url','s3.us-east.cloud-object-storage.appdomain.cloud')\n",
    "stac_endpoint=os.environ.get('stac_endpoint', \"https://stac-fastapi-pgstac-nasageospatial-dev.cash.sl.cloud9.ibm.com\")\n",
    "collection_id=os.environ.get('collection_id','sentinel-1-grd')\n",
    "\n",
    "# cog file target location (path/)filename.cog\n",
    "save_to=os.environ.get('save_to',\"cogfile.cog\")\n",
    "\n",
    "# limit number of returned stac items\n",
    "limit=int(os.environ.get('limit', '2'))"
   ]
  },
  {
   "cell_type": "code",
   "execution_count": null,
   "id": "91e71af0-6425-4180-9f3a-c99c5a84766b",
   "metadata": {},
   "outputs": [],
   "source": [
    "from pystac_client import Client\n",
    "\n",
    "client = Client.open(stac_endpoint)\n",
    "\n",
    "s1_coll = client.get_collection(collection_id)\n",
    "\n",
    "items = []"
   ]
  },
  {
   "cell_type": "code",
   "execution_count": null,
   "id": "de7c68c6-09f4-4925-ac39-a869ab62be44",
   "metadata": {
    "scrolled": true
   },
   "outputs": [],
   "source": [
    "item = next(s1_coll.get_items(), None)\n",
    "\n",
    "i = 0\n",
    "\n",
    "while item is not None:\n",
    "    items.append(item.to_dict())\n",
    "    i = i + 1\n",
    "    if i >= limit:\n",
    "        break\n",
    "    item = next(s1_coll.get_items(), None)"
   ]
  },
  {
   "cell_type": "code",
   "execution_count": null,
   "id": "acc8e399-f9c0-4e04-851d-3b8bc1b19528",
   "metadata": {},
   "outputs": [],
   "source": [
    "session = Session(\n",
    "    aws_access_key_id=aws_access_key_id,\n",
    "    aws_secret_access_key=aws_secret_access_key,\n",
    ")"
   ]
  },
  {
   "cell_type": "code",
   "execution_count": null,
   "id": "bbf5570b-4661-4641-a9ee-108e5ee0c526",
   "metadata": {},
   "outputs": [],
   "source": [
    "aws_session = AWSSession(\n",
    "    session=session,\n",
    "    endpoint_url=endpoint_url,\n",
    ")"
   ]
  },
  {
   "cell_type": "code",
   "execution_count": null,
   "id": "19cb0e44-7d0b-4c34-948c-d61627f5084d",
   "metadata": {},
   "outputs": [],
   "source": [
    "data_array = stackstac.stack(items, epsg=4326, resolution=20, gdal_env=stackstac.DEFAULT_GDAL_ENV.updated(always=dict(session=aws_session)))"
   ]
  },
  {
   "cell_type": "code",
   "execution_count": null,
   "id": "c495b1c5-2394-48d8-92ca-2e1dab60d1ee",
   "metadata": {},
   "outputs": [],
   "source": [
    "data_array"
   ]
  },
  {
   "cell_type": "code",
   "execution_count": null,
   "id": "7fce6811-b065-442d-a2b4-c7179f1e4c07",
   "metadata": {},
   "outputs": [],
   "source": [
    "#data_array.isel(time=0).sel(band='data').plot()"
   ]
  },
  {
   "cell_type": "code",
   "execution_count": null,
   "id": "c22a5ba6-2c76-4747-88df-701adb313528",
   "metadata": {},
   "outputs": [],
   "source": [
    "a = data_array.compute()"
   ]
  },
  {
   "cell_type": "code",
   "execution_count": null,
   "id": "56a0a2f0-da58-4390-8dc1-1749a4a0afc6",
   "metadata": {},
   "outputs": [],
   "source": [
    "a"
   ]
  },
  {
   "cell_type": "code",
   "execution_count": null,
   "id": "edc9f1bd-286c-43e4-be12-3071a5e99e38",
   "metadata": {},
   "outputs": [],
   "source": [
    "a.isel(time=0).rio.to_raster(raster_path=save_to, driver=\"COG\")"
   ]
  }
 ],
 "metadata": {
  "kernelspec": {
   "display_name": "Python 3 (ipykernel)",
   "language": "python",
   "name": "python3"
  },
  "language_info": {
   "codemirror_mode": {
    "name": "ipython",
    "version": 3
   },
   "file_extension": ".py",
   "mimetype": "text/x-python",
   "name": "python",
   "nbconvert_exporter": "python",
   "pygments_lexer": "ipython3",
   "version": "3.12.3"
  }
 },
 "nbformat": 4,
 "nbformat_minor": 5
}
